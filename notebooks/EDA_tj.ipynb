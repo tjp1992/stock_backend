{
  "nbformat": 4,
  "nbformat_minor": 0,
  "metadata": {
    "colab": {
      "name": "EDA_tj.ipynb",
      "provenance": [],
      "authorship_tag": "ABX9TyNGhoDthPL9K2VXKePB9G4C",
      "include_colab_link": true
    },
    "kernelspec": {
      "name": "python3",
      "display_name": "Python 3"
    },
    "language_info": {
      "name": "python"
    }
  },
  "cells": [
    {
      "cell_type": "markdown",
      "metadata": {
        "id": "view-in-github",
        "colab_type": "text"
      },
      "source": [
        "<a href=\"https://colab.research.google.com/github/tjp1992/stock_backend/blob/master/notebooks/EDA_tj.ipynb\" target=\"_parent\"><img src=\"https://colab.research.google.com/assets/colab-badge.svg\" alt=\"Open In Colab\"/></a>"
      ]
    },
    {
      "cell_type": "markdown",
      "source": [
        "# Yahoo Finace"
      ],
      "metadata": {
        "id": "VdxEuXz95R_M"
      }
    },
    {
      "cell_type": "code",
      "execution_count": null,
      "metadata": {
        "colab": {
          "base_uri": "https://localhost:8080/"
        },
        "id": "v86fpzin45UK",
        "outputId": "30a7a698-0beb-40c9-e2e5-dc030cdf3e96"
      },
      "outputs": [
        {
          "output_type": "stream",
          "name": "stdout",
          "text": [
            "{\"quoteResponse\":{\"result\":[{\"language\":\"en-US\",\"region\":\"US\",\"quoteType\":\"EQUITY\",\"typeDisp\":\"Equity\",\"quoteSourceName\":\"Delayed Quote\",\"triggerable\":false,\"customPriceAlertConfidence\":\"LOW\",\"tradeable\":false,\"sharesOutstanding\":30336200,\"fiftyDayAverage\":5500.0,\"fiftyDayAverageChange\":-2610.0,\"fiftyDayAverageChangePercent\":-0.47454545,\"twoHundredDayAverage\":5500.0,\"twoHundredDayAverageChange\":-2610.0,\"twoHundredDayAverageChangePercent\":-0.47454545,\"marketCap\":87671619584,\"currency\":\"KRW\",\"priceHint\":2,\"regularMarketChange\":-10.0,\"regularMarketChangePercent\":-0.3448276,\"regularMarketTime\":1648017025,\"regularMarketPrice\":2890.0,\"regularMarketDayHigh\":2935.0,\"regularMarketDayRange\":\"2885.0 - 2935.0\",\"regularMarketDayLow\":2885.0,\"regularMarketVolume\":306137,\"bid\":2800.0,\"sourceInterval\":20,\"exchangeDataDelayedBy\":0,\"firstTradeDateMilliseconds\":1510794000000,\"regularMarketPreviousClose\":2900.0,\"ask\":2890.0,\"bidSize\":0,\"askSize\":0,\"fullExchangeName\":\"KOSDAQ\",\"financialCurrency\":\"KRW\",\"regularMarketOpen\":2920.0,\"averageDailyVolume3Month\":917114,\"averageDailyVolume10Day\":1497967,\"fiftyTwoWeekLowChange\":5.0,\"fiftyTwoWeekLowChangePercent\":0.0017331023,\"fiftyTwoWeekRange\":\"2885.0 - 6300.0\",\"fiftyTwoWeekHighChange\":-3410.0,\"fiftyTwoWeekHighChangePercent\":-0.54126984,\"fiftyTwoWeekLow\":2885.0,\"fiftyTwoWeekHigh\":6300.0,\"marketState\":\"POST\",\"exchange\":\"KOE\",\"shortName\":\"A-JIN INDUSTRY\",\"longName\":\"A-Jin Industrial Co.,Ltd.\",\"exchangeTimezoneName\":\"Asia/Seoul\",\"exchangeTimezoneShortName\":\"KST\",\"gmtOffSetMilliseconds\":32400000,\"market\":\"kr_market\",\"esgPopulated\":false,\"symbol\":\"013310.KQ\"}],\"error\":null}}\n"
          ]
        }
      ],
      "source": [
        "import requests\n",
        "\n",
        "url = \"https://yfapi.net/v6/finance/quote\"\n",
        "\n",
        "querystring = {\"symbols\":\"013310.KQ\"}\n",
        "\n",
        "headers = {\n",
        "    'x-api-key': \"f9UhpI5RoV133W4A7zPUyG2PAVVp5Sj3ANXNYHwh\"\n",
        "    }\n",
        "\n",
        "response = requests.request(\"GET\", url, headers=headers, params=querystring)\n",
        "\n",
        "print(response.text)"
      ]
    },
    {
      "cell_type": "markdown",
      "source": [
        "# News Article Scrape API using NLTK"
      ],
      "metadata": {
        "id": "82FF6oCV5Y7i"
      }
    },
    {
      "cell_type": "code",
      "source": [
        "import requests\n",
        "from bs4 import BeautifulSoup \n",
        "import pandas as pd\n",
        "from nltk.sentiment.vader import SentimentIntensityAnalyzer\n",
        "\n",
        "ticker = \"AAPL\"\n",
        "# ticker = '060310'\n",
        "url = \"https://financialmodelingprep.com/financial-summary/\" + ticker\n",
        "request = requests.get(url)\n",
        "print(request.text)\n",
        "\n",
        "parser = BeautifulSoup(request.text, \"html.parser\")\n",
        "news_html = parser.find_all('a', {'class': 'article-item'})\n",
        "print(news_html[0])\n",
        "\n",
        "sentiments = []\n",
        "for i in range(0, len(news_html)):\n",
        "    sentiments.append(\n",
        "            {\n",
        "                'ticker': ticker,\n",
        "                'date': news_html[i].find('h5', {'class': 'article-date'}).text,\n",
        "                'title': news_html[i].find('h4', {'class': 'article-title'}).text,\n",
        "                'text': news_html[i].find('p', {'class': 'article-text'}).text\n",
        "            }\n",
        "        )\n",
        "\n",
        "df = pd.DataFrame(sentiments)\n",
        "df = df.set_index('date')\n"
      ],
      "metadata": {
        "id": "dTlYw_zt5c9j"
      },
      "execution_count": null,
      "outputs": []
    },
    {
      "cell_type": "code",
      "source": [
        "df"
      ],
      "metadata": {
        "colab": {
          "base_uri": "https://localhost:8080/",
          "height": 394
        },
        "id": "KDOSEIRt5hjr",
        "outputId": "567dbcbd-decb-4352-89e1-817f290a2300"
      },
      "execution_count": null,
      "outputs": [
        {
          "output_type": "execute_result",
          "data": {
            "text/plain": [
              "                 ticker                                              title  \\\n",
              "date                                                                         \n",
              "2022-03-22 19:41   AAPL  Apple Services Experience Outage for Second Da...   \n",
              "2022-03-22 18:04   AAPL  Apple services including Music, Mac App store ...   \n",
              "2022-03-22 16:09   AAPL  Market Extends Bullish Action; Tesla Soars, Ap...   \n",
              "2022-03-22 14:45   AAPL  Final Trades: Cloud stocks, Apple, Moderna & more   \n",
              "2022-03-22 14:35   AAPL       Apple (AAPL) Resolves Massive Service Outage   \n",
              "2022-03-22 14:02   AAPL  XLK: Apple And Microsoft Likely To Weigh The I...   \n",
              "2022-03-22 13:47   AAPL  MSFT, AAPL, AMZN, FB, NVDA: Why Are Tech Stock...   \n",
              "2022-03-22 13:33   AAPL            EU in final push for Big Tech crackdown   \n",
              "2022-03-22 12:48   AAPL   These Tech-Heavy ETFs Offer Inflation Protection   \n",
              "2022-03-22 11:57   AAPL  Apple App Store faces new laws from global reg...   \n",
              "\n",
              "                                                               text  \n",
              "date                                                                 \n",
              "2022-03-22 19:41  The App Store, Apple Music, Apple Books and Po...  \n",
              "2022-03-22 18:04  Apple Inc services including Apple Music, Mac ...  \n",
              "2022-03-22 16:09  Market Extends Bullish Action; Tesla Soars, Ap...  \n",
              "2022-03-22 14:45  The \"Halftime Report\" traders give their top p...  \n",
              "2022-03-22 14:35  Apple (AAPL) suffered a massive outage of its ...  \n",
              "2022-03-22 14:02  XLK: Apple And Microsoft Likely To Weigh The I...  \n",
              "2022-03-22 13:47  Given the rather impressive amount of uncertai...  \n",
              "2022-03-22 13:33  Big tech companies could face unprecedented cu...  \n",
              "2022-03-22 12:48  Inflation is clearly proving far more persiste...  \n",
              "2022-03-22 11:57  Yahoo Finance Tech Editor Dan Howley joins the...  "
            ],
            "text/html": [
              "\n",
              "  <div id=\"df-db3f1c1d-3fe0-489b-9d85-8a3ed4dec3e4\">\n",
              "    <div class=\"colab-df-container\">\n",
              "      <div>\n",
              "<style scoped>\n",
              "    .dataframe tbody tr th:only-of-type {\n",
              "        vertical-align: middle;\n",
              "    }\n",
              "\n",
              "    .dataframe tbody tr th {\n",
              "        vertical-align: top;\n",
              "    }\n",
              "\n",
              "    .dataframe thead th {\n",
              "        text-align: right;\n",
              "    }\n",
              "</style>\n",
              "<table border=\"1\" class=\"dataframe\">\n",
              "  <thead>\n",
              "    <tr style=\"text-align: right;\">\n",
              "      <th></th>\n",
              "      <th>ticker</th>\n",
              "      <th>title</th>\n",
              "      <th>text</th>\n",
              "    </tr>\n",
              "    <tr>\n",
              "      <th>date</th>\n",
              "      <th></th>\n",
              "      <th></th>\n",
              "      <th></th>\n",
              "    </tr>\n",
              "  </thead>\n",
              "  <tbody>\n",
              "    <tr>\n",
              "      <th>2022-03-22 19:41</th>\n",
              "      <td>AAPL</td>\n",
              "      <td>Apple Services Experience Outage for Second Da...</td>\n",
              "      <td>The App Store, Apple Music, Apple Books and Po...</td>\n",
              "    </tr>\n",
              "    <tr>\n",
              "      <th>2022-03-22 18:04</th>\n",
              "      <td>AAPL</td>\n",
              "      <td>Apple services including Music, Mac App store ...</td>\n",
              "      <td>Apple Inc services including Apple Music, Mac ...</td>\n",
              "    </tr>\n",
              "    <tr>\n",
              "      <th>2022-03-22 16:09</th>\n",
              "      <td>AAPL</td>\n",
              "      <td>Market Extends Bullish Action; Tesla Soars, Ap...</td>\n",
              "      <td>Market Extends Bullish Action; Tesla Soars, Ap...</td>\n",
              "    </tr>\n",
              "    <tr>\n",
              "      <th>2022-03-22 14:45</th>\n",
              "      <td>AAPL</td>\n",
              "      <td>Final Trades: Cloud stocks, Apple, Moderna &amp; more</td>\n",
              "      <td>The \"Halftime Report\" traders give their top p...</td>\n",
              "    </tr>\n",
              "    <tr>\n",
              "      <th>2022-03-22 14:35</th>\n",
              "      <td>AAPL</td>\n",
              "      <td>Apple (AAPL) Resolves Massive Service Outage</td>\n",
              "      <td>Apple (AAPL) suffered a massive outage of its ...</td>\n",
              "    </tr>\n",
              "    <tr>\n",
              "      <th>2022-03-22 14:02</th>\n",
              "      <td>AAPL</td>\n",
              "      <td>XLK: Apple And Microsoft Likely To Weigh The I...</td>\n",
              "      <td>XLK: Apple And Microsoft Likely To Weigh The I...</td>\n",
              "    </tr>\n",
              "    <tr>\n",
              "      <th>2022-03-22 13:47</th>\n",
              "      <td>AAPL</td>\n",
              "      <td>MSFT, AAPL, AMZN, FB, NVDA: Why Are Tech Stock...</td>\n",
              "      <td>Given the rather impressive amount of uncertai...</td>\n",
              "    </tr>\n",
              "    <tr>\n",
              "      <th>2022-03-22 13:33</th>\n",
              "      <td>AAPL</td>\n",
              "      <td>EU in final push for Big Tech crackdown</td>\n",
              "      <td>Big tech companies could face unprecedented cu...</td>\n",
              "    </tr>\n",
              "    <tr>\n",
              "      <th>2022-03-22 12:48</th>\n",
              "      <td>AAPL</td>\n",
              "      <td>These Tech-Heavy ETFs Offer Inflation Protection</td>\n",
              "      <td>Inflation is clearly proving far more persiste...</td>\n",
              "    </tr>\n",
              "    <tr>\n",
              "      <th>2022-03-22 11:57</th>\n",
              "      <td>AAPL</td>\n",
              "      <td>Apple App Store faces new laws from global reg...</td>\n",
              "      <td>Yahoo Finance Tech Editor Dan Howley joins the...</td>\n",
              "    </tr>\n",
              "  </tbody>\n",
              "</table>\n",
              "</div>\n",
              "      <button class=\"colab-df-convert\" onclick=\"convertToInteractive('df-db3f1c1d-3fe0-489b-9d85-8a3ed4dec3e4')\"\n",
              "              title=\"Convert this dataframe to an interactive table.\"\n",
              "              style=\"display:none;\">\n",
              "        \n",
              "  <svg xmlns=\"http://www.w3.org/2000/svg\" height=\"24px\"viewBox=\"0 0 24 24\"\n",
              "       width=\"24px\">\n",
              "    <path d=\"M0 0h24v24H0V0z\" fill=\"none\"/>\n",
              "    <path d=\"M18.56 5.44l.94 2.06.94-2.06 2.06-.94-2.06-.94-.94-2.06-.94 2.06-2.06.94zm-11 1L8.5 8.5l.94-2.06 2.06-.94-2.06-.94L8.5 2.5l-.94 2.06-2.06.94zm10 10l.94 2.06.94-2.06 2.06-.94-2.06-.94-.94-2.06-.94 2.06-2.06.94z\"/><path d=\"M17.41 7.96l-1.37-1.37c-.4-.4-.92-.59-1.43-.59-.52 0-1.04.2-1.43.59L10.3 9.45l-7.72 7.72c-.78.78-.78 2.05 0 2.83L4 21.41c.39.39.9.59 1.41.59.51 0 1.02-.2 1.41-.59l7.78-7.78 2.81-2.81c.8-.78.8-2.07 0-2.86zM5.41 20L4 18.59l7.72-7.72 1.47 1.35L5.41 20z\"/>\n",
              "  </svg>\n",
              "      </button>\n",
              "      \n",
              "  <style>\n",
              "    .colab-df-container {\n",
              "      display:flex;\n",
              "      flex-wrap:wrap;\n",
              "      gap: 12px;\n",
              "    }\n",
              "\n",
              "    .colab-df-convert {\n",
              "      background-color: #E8F0FE;\n",
              "      border: none;\n",
              "      border-radius: 50%;\n",
              "      cursor: pointer;\n",
              "      display: none;\n",
              "      fill: #1967D2;\n",
              "      height: 32px;\n",
              "      padding: 0 0 0 0;\n",
              "      width: 32px;\n",
              "    }\n",
              "\n",
              "    .colab-df-convert:hover {\n",
              "      background-color: #E2EBFA;\n",
              "      box-shadow: 0px 1px 2px rgba(60, 64, 67, 0.3), 0px 1px 3px 1px rgba(60, 64, 67, 0.15);\n",
              "      fill: #174EA6;\n",
              "    }\n",
              "\n",
              "    [theme=dark] .colab-df-convert {\n",
              "      background-color: #3B4455;\n",
              "      fill: #D2E3FC;\n",
              "    }\n",
              "\n",
              "    [theme=dark] .colab-df-convert:hover {\n",
              "      background-color: #434B5C;\n",
              "      box-shadow: 0px 1px 3px 1px rgba(0, 0, 0, 0.15);\n",
              "      filter: drop-shadow(0px 1px 2px rgba(0, 0, 0, 0.3));\n",
              "      fill: #FFFFFF;\n",
              "    }\n",
              "  </style>\n",
              "\n",
              "      <script>\n",
              "        const buttonEl =\n",
              "          document.querySelector('#df-db3f1c1d-3fe0-489b-9d85-8a3ed4dec3e4 button.colab-df-convert');\n",
              "        buttonEl.style.display =\n",
              "          google.colab.kernel.accessAllowed ? 'block' : 'none';\n",
              "\n",
              "        async function convertToInteractive(key) {\n",
              "          const element = document.querySelector('#df-db3f1c1d-3fe0-489b-9d85-8a3ed4dec3e4');\n",
              "          const dataTable =\n",
              "            await google.colab.kernel.invokeFunction('convertToInteractive',\n",
              "                                                     [key], {});\n",
              "          if (!dataTable) return;\n",
              "\n",
              "          const docLinkHtml = 'Like what you see? Visit the ' +\n",
              "            '<a target=\"_blank\" href=https://colab.research.google.com/notebooks/data_table.ipynb>data table notebook</a>'\n",
              "            + ' to learn more about interactive tables.';\n",
              "          element.innerHTML = '';\n",
              "          dataTable['output_type'] = 'display_data';\n",
              "          await google.colab.output.renderOutput(dataTable, element);\n",
              "          const docLink = document.createElement('div');\n",
              "          docLink.innerHTML = docLinkHtml;\n",
              "          element.appendChild(docLink);\n",
              "        }\n",
              "      </script>\n",
              "    </div>\n",
              "  </div>\n",
              "  "
            ]
          },
          "metadata": {},
          "execution_count": 3
        }
      ]
    },
    {
      "cell_type": "markdown",
      "source": [
        "# IEX API"
      ],
      "metadata": {
        "id": "qi_CHpB7DoRu"
      }
    },
    {
      "cell_type": "code",
      "source": [
        "import requests\n",
        "import numpy as np\n",
        "\n",
        "# urls = 'https://iex.lewagon.com/stable/stock/aapl/chart/3m'\n",
        "urls = 'https://iex.lewagon.com/stable/search/159580'\n",
        "# urls = 'https://iex.lewagon.com/stable/stock//chart/3m'\n",
        "# urls = 'https://iex.lewagon.com/ref-data/exchanges'\n",
        "api_data = requests.get(urls).json()"
      ],
      "metadata": {
        "id": "UVqwhlnLDpx4"
      },
      "execution_count": null,
      "outputs": []
    },
    {
      "cell_type": "code",
      "source": [
        "symbol = \"\"\n",
        "for li in api_data:\n",
        "  if 'KR' == li['region']:\n",
        "    symbol = li['symbol']\n",
        "\n",
        "url = 'https://iex.lewagon.com/stable/stock/{}/chart/1y'\n",
        "result = requests.get(url.format(symbol)).json()\n",
        "result\n",
        "df = pd.DataFrame(result)\n",
        "df['date'] = pd.to_datetime(df['date'])\n",
        "df = df.set_index('date')"
      ],
      "metadata": {
        "id": "HqBDN-POLfvE"
      },
      "execution_count": null,
      "outputs": []
    },
    {
      "cell_type": "code",
      "source": [
        "import plotly.graph_objects as go"
      ],
      "metadata": {
        "id": "A0kh8OpfDuWD"
      },
      "execution_count": null,
      "outputs": []
    },
    {
      "cell_type": "code",
      "source": [
        "df.shape"
      ],
      "metadata": {
        "colab": {
          "base_uri": "https://localhost:8080/"
        },
        "id": "nlHCjpZgYGjc",
        "outputId": "b5287bdf-ed60-49ba-d007-ad00d7c5c8c4"
      },
      "execution_count": null,
      "outputs": [
        {
          "output_type": "execute_result",
          "data": {
            "text/plain": [
              "(245, 25)"
            ]
          },
          "metadata": {},
          "execution_count": 59
        }
      ]
    },
    {
      "cell_type": "code",
      "source": [
        "go.Figure(data = [\n",
        "                  go.Candlestick(\n",
        "                      x=df.index,\n",
        "                      open = df['uOpen'],\n",
        "                      high = df['uHigh'],\n",
        "                      low = df['uLow'],\n",
        "                      close = df['uClose'],\n",
        "                                 )\n",
        "])"
      ],
      "metadata": {
        "colab": {
          "base_uri": "https://localhost:8080/",
          "height": 542
        },
        "id": "ay9Hfx7-XB79",
        "outputId": "fb77f176-592c-4e03-b2c3-5cd8a69d4544"
      },
      "execution_count": null,
      "outputs": [
        {
          "output_type": "display_data",
          "data": {
            "text/html": [
              "<html>\n",
              "<head><meta charset=\"utf-8\" /></head>\n",
              "<body>\n",
              "    <div>            <script src=\"https://cdnjs.cloudflare.com/ajax/libs/mathjax/2.7.5/MathJax.js?config=TeX-AMS-MML_SVG\"></script><script type=\"text/javascript\">if (window.MathJax) {MathJax.Hub.Config({SVG: {font: \"STIX-Web\"}});}</script>                <script type=\"text/javascript\">window.PlotlyConfig = {MathJaxConfig: 'local'};</script>\n",
              "        <script src=\"https://cdn.plot.ly/plotly-2.8.3.min.js\"></script>                <div id=\"bf5b385f-79ca-4fa4-9391-7304d47fe654\" class=\"plotly-graph-div\" style=\"height:525px; width:100%;\"></div>            <script type=\"text/javascript\">                                    window.PLOTLYENV=window.PLOTLYENV || {};                                    if (document.getElementById(\"bf5b385f-79ca-4fa4-9391-7304d47fe654\")) {                    Plotly.newPlot(                        \"bf5b385f-79ca-4fa4-9391-7304d47fe654\",                        [{\"close\":[9890.0,9810.0,9720.0,9620.0,9890.0,11100.0,10500.0,11000.0,11050.0,11550.0,11750.0,11850.0,11900.0,12350.0,12100.0,12350.0,14250.0,13350.0,14500.0,13950.0,13500.0,13900.0,13850.0,14500.0,14400.0,15150.0,14700.0,14150.0,13750.0,14300.0,14400.0,null,14500.0,13850.0,13750.0,13850.0,14000.0,14550.0,14700.0,14400.0,14350.0,13900.0,14250.0,14500.0,14550.0,14450.0,15200.0,14800.0,14400.0,13850.0,14050.0,13500.0,13550.0,13000.0,12900.0,12650.0,12450.0,12550.0,13050.0,13150.0,13250.0,13250.0,13600.0,13600.0,13550.0,13550.0,13650.0,13700.0,14350.0,13750.0,13650.0,13750.0,13800.0,13550.0,13400.0,12950.0,13100.0,13000.0,13300.0,13000.0,12650.0,12350.0,12600.0,12550.0,12600.0,12550.0,12750.0,12450.0,12450.0,12200.0,12250.0,12050.0,12200.0,12300.0,12200.0,11850.0,11700.0,11400.0,11300.0,11200.0,10650.0,10800.0,10250.0,10200.0,10350.0,10800.0,10800.0,10650.0,11100.0,11750.0,11700.0,11750.0,11650.0,11750.0,11700.0,12050.0,12100.0,12000.0,12200.0,12000.0,11900.0,11800.0,11600.0,11600.0,11250.0,11450.0,11900.0,11350.0,11000.0,10950.0,10450.0,10050.0,9600.0,10100.0,10250.0,10100.0,10450.0,10750.0,10850.0,10750.0,10650.0,10500.0,10500.0,10500.0,10850.0,11050.0,10850.0,10750.0,10500.0,11100.0,11350.0,11450.0,11300.0,12050.0,12550.0,12400.0,12200.0,11700.0,11700.0,11600.0,11700.0,11200.0,11550.0,11300.0,10850.0,10750.0,10900.0,11050.0,10550.0,9920.0,9100.0,9340.0,9450.0,9810.0,10100.0,10550.0,10550.0,10950.0,10900.0,10700.0,10450.0,10750.0,10600.0,10600.0,10250.0,10300.0,10200.0,10050.0,10050.0,10600.0,10450.0,10950.0,10950.0,11050.0,11050.0,11100.0,11250.0,11650.0,11600.0,11000.0,11000.0,10700.0,10600.0,10100.0,9900.0,9940.0,10150.0,9990.0,9650.0,9150.0,9100.0,8850.0,9170.0,9530.0,9700.0,9670.0,9650.0,9700.0,9880.0,9600.0,9030.0,8780.0,9050.0,9090.0,9360.0,9250.0,8960.0,9020.0,8630.0,8810.0,8880.0,9300.0,9160.0,9060.0,8730.0,8250.0,8600.0,8860.0,10100.0,10650.0,10450.0,10250.0,10400.0,10350.0,10350.0],\"high\":[10350,9950,10100,9810,9950,11100,12500,11000,11250,11650,11800,12400,12100,12700,12550,12650,15400,14750,17250,14550,14300,14200,15450,14800,15000,15250,16300,15250,14250,14900,14600,15350,15100,14400,14350,14800,14100,14900,14950,14800,14550,14350,14350,14600,14750,14650,15200,17500,14950,14600,14200,13900,13850,13650,13250,13050,12750,12650,13100,13200,13300,13550,13750,14050,13700,13750,13800,14550,14550,14400,14100,13900,14050,13850,13900,13250,13350,13150,13500,13300,13050,12550,12950,12800,12800,12750,13000,12800,12750,12500,12300,12250,12300,12350,12450,12250,11850,11750,11500,11350,11300,10900,10800,10450,10850,10850,10900,10850,11100,11900,12000,11800,11850,11850,11750,12100,12200,12200,12250,12500,12300,12150,11900,11750,11550,11750,11900,11950,11250,11100,11050,10400,10400,10200,10250,10250,10450,10950,10950,11000,10900,10800,10750,10650,10850,11100,11100,10850,10800,11200,11400,11550,11550,12200,12700,12650,12500,12250,12000,11850,11700,11750,11550,11700,11350,11300,11000,11300,11250,10400,10150,9600,9470,9870,10200,10800,10900,11000,11200,10900,10700,10750,10800,10600,10650,11100,10400,10350,10200,10800,10600,11000,10950,11100,11100,11300,11500,11700,11800,11900,11300,11100,10800,10600,10350,10100,10250,10150,10000,9750,9480,9300,9190,9530,9730,9690,9790,9860,10150,9880,9420,9240,9110,9440,9370,9300,9230,9110,9080,8930,8930,9300,9280,9160,9040,8660,8880,8890,10800,10650,10750,10650,10500,10400,10350],\"low\":[9880,9600,9700,9530,9530,9900,10350,10300,10700,10900,11250,11700,11550,11600,11950,11900,12150,13250,13450,13800,13400,13350,13600,13700,14350,13900,14000,14050,13500,13500,13900,14000,14450,13850,13600,13400,13700,13850,14500,14350,14250,13850,13850,14150,14300,14400,14300,14750,14300,13850,13650,13500,13500,12950,12650,12400,12300,12400,12550,12800,12850,12950,13200,13400,13300,13400,13500,13600,13750,13700,13600,13500,13600,13450,12950,12850,12950,12750,12850,12950,12500,12200,12350,12450,12450,12400,12500,12350,12300,12050,12100,11950,11950,12150,12100,11700,11300,11300,11150,10750,10550,10400,10150,9880,10250,10450,10500,10600,10450,11000,11700,11600,11550,11600,11500,11600,11900,11900,11800,11850,11900,11700,11600,11400,11150,11250,11300,11250,10800,10900,10350,9950,9600,9620,9990,9980,10000,10400,10650,10600,10600,10500,10350,10450,10500,10800,10750,10600,10500,10500,11000,11300,11200,11300,11900,12300,12000,11700,11600,11450,11300,11150,11000,11300,10500,10650,10750,10900,10550,9850,9000,8800,9100,9490,9690,9930,10400,10550,10700,10600,10350,10350,10550,10350,10150,10000,10200,10000,10000,10000,10350,10350,10700,10850,10850,10850,10800,11250,11300,10900,10850,10600,10450,10050,9860,9800,9880,9960,9610,9100,9030,8730,8590,9300,9400,9550,9590,9650,9800,9570,8820,8660,8950,8960,9000,9050,8950,8950,8630,8670,8720,8800,9070,8920,8700,8240,8440,8540,8820,9880,10350,10050,10150,10150,10150],\"open\":[10150,9900,9790,9720,9640,9950,11750,10550,10800,11050,11600,11700,11850,11850,12250,12150,12350,14250,13550,14400,13900,13450,14350,13700,14600,14300,14950,15000,14150,13600,14300,14200,14800,14400,13750,13500,14000,14100,14500,14650,14350,14350,13950,14250,14550,14650,14400,16950,14550,14350,13700,13900,13550,13650,12950,12900,12650,12500,12600,13100,13150,13100,13350,13600,13600,13400,13600,13650,13800,14350,13650,13600,13650,13700,13800,13000,13100,13100,12850,13050,12900,12300,12600,12650,12550,12550,12500,12650,12450,12350,12200,12150,12150,12150,12400,12200,11800,11600,11350,11200,11100,10400,10500,10300,10500,10500,10850,10800,10550,11250,11900,11700,11700,11650,11750,11650,12050,12150,12000,12200,12200,11950,11800,11600,11450,11250,11300,11850,11100,10950,10750,10300,10150,9620,10150,10250,10100,10450,10950,10850,10800,10700,10500,10500,10500,10900,11100,10850,10750,10500,11100,11550,11450,11300,12100,12600,12350,11950,11750,11850,11500,11650,11200,11550,11150,10850,10850,11200,11250,10000,9930,9100,9120,9520,9820,10150,10600,10650,10750,10650,10550,10450,10750,10400,10550,10150,10300,10200,10050,10050,10550,10450,10900,10950,11000,10900,10950,11250,11500,11600,11100,11000,10550,10500,10150,9900,9880,9960,10000,9620,9050,9100,8900,9350,9440,9690,9600,9650,9800,9880,9400,9010,9100,9050,9100,9300,9090,8990,8960,8930,8720,8930,9270,9160,9040,8580,8440,8560,8870,10000,10450,10550,10250,10400,10250],\"x\":[\"2021-03-23T00:00:00\",\"2021-03-24T00:00:00\",\"2021-03-25T00:00:00\",\"2021-03-26T00:00:00\",\"2021-03-29T00:00:00\",\"2021-03-30T00:00:00\",\"2021-03-31T00:00:00\",\"2021-04-01T00:00:00\",\"2021-04-02T00:00:00\",\"2021-04-05T00:00:00\",\"2021-04-06T00:00:00\",\"2021-04-07T00:00:00\",\"2021-04-08T00:00:00\",\"2021-04-09T00:00:00\",\"2021-04-12T00:00:00\",\"2021-04-13T00:00:00\",\"2021-04-14T00:00:00\",\"2021-04-15T00:00:00\",\"2021-04-16T00:00:00\",\"2021-04-19T00:00:00\",\"2021-04-20T00:00:00\",\"2021-04-21T00:00:00\",\"2021-04-22T00:00:00\",\"2021-04-23T00:00:00\",\"2021-04-26T00:00:00\",\"2021-04-27T00:00:00\",\"2021-04-28T00:00:00\",\"2021-04-29T00:00:00\",\"2021-04-30T00:00:00\",\"2021-05-03T00:00:00\",\"2021-05-04T00:00:00\",\"2021-05-07T00:00:00\",\"2021-05-10T00:00:00\",\"2021-05-11T00:00:00\",\"2021-05-12T00:00:00\",\"2021-05-13T00:00:00\",\"2021-05-14T00:00:00\",\"2021-05-17T00:00:00\",\"2021-05-18T00:00:00\",\"2021-05-20T00:00:00\",\"2021-05-21T00:00:00\",\"2021-05-24T00:00:00\",\"2021-05-25T00:00:00\",\"2021-05-26T00:00:00\",\"2021-05-27T00:00:00\",\"2021-05-28T00:00:00\",\"2021-05-31T00:00:00\",\"2021-06-01T00:00:00\",\"2021-06-02T00:00:00\",\"2021-06-03T00:00:00\",\"2021-06-04T00:00:00\",\"2021-06-07T00:00:00\",\"2021-06-08T00:00:00\",\"2021-06-09T00:00:00\",\"2021-06-10T00:00:00\",\"2021-06-11T00:00:00\",\"2021-06-14T00:00:00\",\"2021-06-15T00:00:00\",\"2021-06-16T00:00:00\",\"2021-06-17T00:00:00\",\"2021-06-18T00:00:00\",\"2021-06-21T00:00:00\",\"2021-06-22T00:00:00\",\"2021-06-23T00:00:00\",\"2021-06-24T00:00:00\",\"2021-06-25T00:00:00\",\"2021-06-28T00:00:00\",\"2021-06-29T00:00:00\",\"2021-06-30T00:00:00\",\"2021-07-01T00:00:00\",\"2021-07-02T00:00:00\",\"2021-07-05T00:00:00\",\"2021-07-06T00:00:00\",\"2021-07-07T00:00:00\",\"2021-07-08T00:00:00\",\"2021-07-12T00:00:00\",\"2021-07-13T00:00:00\",\"2021-07-14T00:00:00\",\"2021-07-15T00:00:00\",\"2021-07-16T00:00:00\",\"2021-07-19T00:00:00\",\"2021-07-20T00:00:00\",\"2021-07-21T00:00:00\",\"2021-07-22T00:00:00\",\"2021-07-23T00:00:00\",\"2021-07-26T00:00:00\",\"2021-07-27T00:00:00\",\"2021-07-28T00:00:00\",\"2021-07-29T00:00:00\",\"2021-07-30T00:00:00\",\"2021-08-02T00:00:00\",\"2021-08-03T00:00:00\",\"2021-08-04T00:00:00\",\"2021-08-05T00:00:00\",\"2021-08-06T00:00:00\",\"2021-08-09T00:00:00\",\"2021-08-10T00:00:00\",\"2021-08-11T00:00:00\",\"2021-08-12T00:00:00\",\"2021-08-13T00:00:00\",\"2021-08-17T00:00:00\",\"2021-08-18T00:00:00\",\"2021-08-19T00:00:00\",\"2021-08-20T00:00:00\",\"2021-08-23T00:00:00\",\"2021-08-24T00:00:00\",\"2021-08-25T00:00:00\",\"2021-08-26T00:00:00\",\"2021-08-27T00:00:00\",\"2021-08-30T00:00:00\",\"2021-08-31T00:00:00\",\"2021-09-01T00:00:00\",\"2021-09-02T00:00:00\",\"2021-09-03T00:00:00\",\"2021-09-06T00:00:00\",\"2021-09-07T00:00:00\",\"2021-09-08T00:00:00\",\"2021-09-09T00:00:00\",\"2021-09-10T00:00:00\",\"2021-09-13T00:00:00\",\"2021-09-14T00:00:00\",\"2021-09-15T00:00:00\",\"2021-09-16T00:00:00\",\"2021-09-17T00:00:00\",\"2021-09-23T00:00:00\",\"2021-09-24T00:00:00\",\"2021-09-27T00:00:00\",\"2021-09-28T00:00:00\",\"2021-09-29T00:00:00\",\"2021-09-30T00:00:00\",\"2021-10-01T00:00:00\",\"2021-10-05T00:00:00\",\"2021-10-06T00:00:00\",\"2021-10-07T00:00:00\",\"2021-10-08T00:00:00\",\"2021-10-12T00:00:00\",\"2021-10-13T00:00:00\",\"2021-10-14T00:00:00\",\"2021-10-15T00:00:00\",\"2021-10-18T00:00:00\",\"2021-10-19T00:00:00\",\"2021-10-20T00:00:00\",\"2021-10-21T00:00:00\",\"2021-10-22T00:00:00\",\"2021-10-25T00:00:00\",\"2021-10-26T00:00:00\",\"2021-10-27T00:00:00\",\"2021-10-28T00:00:00\",\"2021-10-29T00:00:00\",\"2021-11-01T00:00:00\",\"2021-11-02T00:00:00\",\"2021-11-03T00:00:00\",\"2021-11-04T00:00:00\",\"2021-11-05T00:00:00\",\"2021-11-08T00:00:00\",\"2021-11-09T00:00:00\",\"2021-11-10T00:00:00\",\"2021-11-11T00:00:00\",\"2021-11-12T00:00:00\",\"2021-11-15T00:00:00\",\"2021-11-16T00:00:00\",\"2021-11-17T00:00:00\",\"2021-11-18T00:00:00\",\"2021-11-19T00:00:00\",\"2021-11-22T00:00:00\",\"2021-11-23T00:00:00\",\"2021-11-24T00:00:00\",\"2021-11-25T00:00:00\",\"2021-11-26T00:00:00\",\"2021-11-29T00:00:00\",\"2021-11-30T00:00:00\",\"2021-12-01T00:00:00\",\"2021-12-02T00:00:00\",\"2021-12-03T00:00:00\",\"2021-12-06T00:00:00\",\"2021-12-07T00:00:00\",\"2021-12-08T00:00:00\",\"2021-12-09T00:00:00\",\"2021-12-10T00:00:00\",\"2021-12-13T00:00:00\",\"2021-12-14T00:00:00\",\"2021-12-15T00:00:00\",\"2021-12-16T00:00:00\",\"2021-12-17T00:00:00\",\"2021-12-20T00:00:00\",\"2021-12-21T00:00:00\",\"2021-12-22T00:00:00\",\"2021-12-23T00:00:00\",\"2021-12-24T00:00:00\",\"2021-12-27T00:00:00\",\"2021-12-28T00:00:00\",\"2021-12-29T00:00:00\",\"2021-12-30T00:00:00\",\"2022-01-03T00:00:00\",\"2022-01-04T00:00:00\",\"2022-01-05T00:00:00\",\"2022-01-06T00:00:00\",\"2022-01-07T00:00:00\",\"2022-01-10T00:00:00\",\"2022-01-11T00:00:00\",\"2022-01-12T00:00:00\",\"2022-01-13T00:00:00\",\"2022-01-14T00:00:00\",\"2022-01-17T00:00:00\",\"2022-01-18T00:00:00\",\"2022-01-19T00:00:00\",\"2022-01-20T00:00:00\",\"2022-01-21T00:00:00\",\"2022-01-24T00:00:00\",\"2022-01-25T00:00:00\",\"2022-01-26T00:00:00\",\"2022-01-27T00:00:00\",\"2022-01-28T00:00:00\",\"2022-02-03T00:00:00\",\"2022-02-04T00:00:00\",\"2022-02-07T00:00:00\",\"2022-02-08T00:00:00\",\"2022-02-09T00:00:00\",\"2022-02-10T00:00:00\",\"2022-02-11T00:00:00\",\"2022-02-14T00:00:00\",\"2022-02-15T00:00:00\",\"2022-02-16T00:00:00\",\"2022-02-17T00:00:00\",\"2022-02-18T00:00:00\",\"2022-02-21T00:00:00\",\"2022-02-22T00:00:00\",\"2022-02-23T00:00:00\",\"2022-02-24T00:00:00\",\"2022-02-25T00:00:00\",\"2022-02-28T00:00:00\",\"2022-03-02T00:00:00\",\"2022-03-03T00:00:00\",\"2022-03-04T00:00:00\",\"2022-03-07T00:00:00\",\"2022-03-08T00:00:00\",\"2022-03-10T00:00:00\",\"2022-03-11T00:00:00\",\"2022-03-14T00:00:00\",\"2022-03-15T00:00:00\",\"2022-03-16T00:00:00\",\"2022-03-17T00:00:00\",\"2022-03-18T00:00:00\",\"2022-03-21T00:00:00\",\"2022-03-22T00:00:00\"],\"type\":\"candlestick\"}],                        {\"template\":{\"data\":{\"bar\":[{\"error_x\":{\"color\":\"#2a3f5f\"},\"error_y\":{\"color\":\"#2a3f5f\"},\"marker\":{\"line\":{\"color\":\"#E5ECF6\",\"width\":0.5},\"pattern\":{\"fillmode\":\"overlay\",\"size\":10,\"solidity\":0.2}},\"type\":\"bar\"}],\"barpolar\":[{\"marker\":{\"line\":{\"color\":\"#E5ECF6\",\"width\":0.5},\"pattern\":{\"fillmode\":\"overlay\",\"size\":10,\"solidity\":0.2}},\"type\":\"barpolar\"}],\"carpet\":[{\"aaxis\":{\"endlinecolor\":\"#2a3f5f\",\"gridcolor\":\"white\",\"linecolor\":\"white\",\"minorgridcolor\":\"white\",\"startlinecolor\":\"#2a3f5f\"},\"baxis\":{\"endlinecolor\":\"#2a3f5f\",\"gridcolor\":\"white\",\"linecolor\":\"white\",\"minorgridcolor\":\"white\",\"startlinecolor\":\"#2a3f5f\"},\"type\":\"carpet\"}],\"choropleth\":[{\"colorbar\":{\"outlinewidth\":0,\"ticks\":\"\"},\"type\":\"choropleth\"}],\"contour\":[{\"colorbar\":{\"outlinewidth\":0,\"ticks\":\"\"},\"colorscale\":[[0.0,\"#0d0887\"],[0.1111111111111111,\"#46039f\"],[0.2222222222222222,\"#7201a8\"],[0.3333333333333333,\"#9c179e\"],[0.4444444444444444,\"#bd3786\"],[0.5555555555555556,\"#d8576b\"],[0.6666666666666666,\"#ed7953\"],[0.7777777777777778,\"#fb9f3a\"],[0.8888888888888888,\"#fdca26\"],[1.0,\"#f0f921\"]],\"type\":\"contour\"}],\"contourcarpet\":[{\"colorbar\":{\"outlinewidth\":0,\"ticks\":\"\"},\"type\":\"contourcarpet\"}],\"heatmap\":[{\"colorbar\":{\"outlinewidth\":0,\"ticks\":\"\"},\"colorscale\":[[0.0,\"#0d0887\"],[0.1111111111111111,\"#46039f\"],[0.2222222222222222,\"#7201a8\"],[0.3333333333333333,\"#9c179e\"],[0.4444444444444444,\"#bd3786\"],[0.5555555555555556,\"#d8576b\"],[0.6666666666666666,\"#ed7953\"],[0.7777777777777778,\"#fb9f3a\"],[0.8888888888888888,\"#fdca26\"],[1.0,\"#f0f921\"]],\"type\":\"heatmap\"}],\"heatmapgl\":[{\"colorbar\":{\"outlinewidth\":0,\"ticks\":\"\"},\"colorscale\":[[0.0,\"#0d0887\"],[0.1111111111111111,\"#46039f\"],[0.2222222222222222,\"#7201a8\"],[0.3333333333333333,\"#9c179e\"],[0.4444444444444444,\"#bd3786\"],[0.5555555555555556,\"#d8576b\"],[0.6666666666666666,\"#ed7953\"],[0.7777777777777778,\"#fb9f3a\"],[0.8888888888888888,\"#fdca26\"],[1.0,\"#f0f921\"]],\"type\":\"heatmapgl\"}],\"histogram\":[{\"marker\":{\"pattern\":{\"fillmode\":\"overlay\",\"size\":10,\"solidity\":0.2}},\"type\":\"histogram\"}],\"histogram2d\":[{\"colorbar\":{\"outlinewidth\":0,\"ticks\":\"\"},\"colorscale\":[[0.0,\"#0d0887\"],[0.1111111111111111,\"#46039f\"],[0.2222222222222222,\"#7201a8\"],[0.3333333333333333,\"#9c179e\"],[0.4444444444444444,\"#bd3786\"],[0.5555555555555556,\"#d8576b\"],[0.6666666666666666,\"#ed7953\"],[0.7777777777777778,\"#fb9f3a\"],[0.8888888888888888,\"#fdca26\"],[1.0,\"#f0f921\"]],\"type\":\"histogram2d\"}],\"histogram2dcontour\":[{\"colorbar\":{\"outlinewidth\":0,\"ticks\":\"\"},\"colorscale\":[[0.0,\"#0d0887\"],[0.1111111111111111,\"#46039f\"],[0.2222222222222222,\"#7201a8\"],[0.3333333333333333,\"#9c179e\"],[0.4444444444444444,\"#bd3786\"],[0.5555555555555556,\"#d8576b\"],[0.6666666666666666,\"#ed7953\"],[0.7777777777777778,\"#fb9f3a\"],[0.8888888888888888,\"#fdca26\"],[1.0,\"#f0f921\"]],\"type\":\"histogram2dcontour\"}],\"mesh3d\":[{\"colorbar\":{\"outlinewidth\":0,\"ticks\":\"\"},\"type\":\"mesh3d\"}],\"parcoords\":[{\"line\":{\"colorbar\":{\"outlinewidth\":0,\"ticks\":\"\"}},\"type\":\"parcoords\"}],\"pie\":[{\"automargin\":true,\"type\":\"pie\"}],\"scatter\":[{\"marker\":{\"colorbar\":{\"outlinewidth\":0,\"ticks\":\"\"}},\"type\":\"scatter\"}],\"scatter3d\":[{\"line\":{\"colorbar\":{\"outlinewidth\":0,\"ticks\":\"\"}},\"marker\":{\"colorbar\":{\"outlinewidth\":0,\"ticks\":\"\"}},\"type\":\"scatter3d\"}],\"scattercarpet\":[{\"marker\":{\"colorbar\":{\"outlinewidth\":0,\"ticks\":\"\"}},\"type\":\"scattercarpet\"}],\"scattergeo\":[{\"marker\":{\"colorbar\":{\"outlinewidth\":0,\"ticks\":\"\"}},\"type\":\"scattergeo\"}],\"scattergl\":[{\"marker\":{\"colorbar\":{\"outlinewidth\":0,\"ticks\":\"\"}},\"type\":\"scattergl\"}],\"scattermapbox\":[{\"marker\":{\"colorbar\":{\"outlinewidth\":0,\"ticks\":\"\"}},\"type\":\"scattermapbox\"}],\"scatterpolar\":[{\"marker\":{\"colorbar\":{\"outlinewidth\":0,\"ticks\":\"\"}},\"type\":\"scatterpolar\"}],\"scatterpolargl\":[{\"marker\":{\"colorbar\":{\"outlinewidth\":0,\"ticks\":\"\"}},\"type\":\"scatterpolargl\"}],\"scatterternary\":[{\"marker\":{\"colorbar\":{\"outlinewidth\":0,\"ticks\":\"\"}},\"type\":\"scatterternary\"}],\"surface\":[{\"colorbar\":{\"outlinewidth\":0,\"ticks\":\"\"},\"colorscale\":[[0.0,\"#0d0887\"],[0.1111111111111111,\"#46039f\"],[0.2222222222222222,\"#7201a8\"],[0.3333333333333333,\"#9c179e\"],[0.4444444444444444,\"#bd3786\"],[0.5555555555555556,\"#d8576b\"],[0.6666666666666666,\"#ed7953\"],[0.7777777777777778,\"#fb9f3a\"],[0.8888888888888888,\"#fdca26\"],[1.0,\"#f0f921\"]],\"type\":\"surface\"}],\"table\":[{\"cells\":{\"fill\":{\"color\":\"#EBF0F8\"},\"line\":{\"color\":\"white\"}},\"header\":{\"fill\":{\"color\":\"#C8D4E3\"},\"line\":{\"color\":\"white\"}},\"type\":\"table\"}]},\"layout\":{\"annotationdefaults\":{\"arrowcolor\":\"#2a3f5f\",\"arrowhead\":0,\"arrowwidth\":1},\"autotypenumbers\":\"strict\",\"coloraxis\":{\"colorbar\":{\"outlinewidth\":0,\"ticks\":\"\"}},\"colorscale\":{\"diverging\":[[0,\"#8e0152\"],[0.1,\"#c51b7d\"],[0.2,\"#de77ae\"],[0.3,\"#f1b6da\"],[0.4,\"#fde0ef\"],[0.5,\"#f7f7f7\"],[0.6,\"#e6f5d0\"],[0.7,\"#b8e186\"],[0.8,\"#7fbc41\"],[0.9,\"#4d9221\"],[1,\"#276419\"]],\"sequential\":[[0.0,\"#0d0887\"],[0.1111111111111111,\"#46039f\"],[0.2222222222222222,\"#7201a8\"],[0.3333333333333333,\"#9c179e\"],[0.4444444444444444,\"#bd3786\"],[0.5555555555555556,\"#d8576b\"],[0.6666666666666666,\"#ed7953\"],[0.7777777777777778,\"#fb9f3a\"],[0.8888888888888888,\"#fdca26\"],[1.0,\"#f0f921\"]],\"sequentialminus\":[[0.0,\"#0d0887\"],[0.1111111111111111,\"#46039f\"],[0.2222222222222222,\"#7201a8\"],[0.3333333333333333,\"#9c179e\"],[0.4444444444444444,\"#bd3786\"],[0.5555555555555556,\"#d8576b\"],[0.6666666666666666,\"#ed7953\"],[0.7777777777777778,\"#fb9f3a\"],[0.8888888888888888,\"#fdca26\"],[1.0,\"#f0f921\"]]},\"colorway\":[\"#636efa\",\"#EF553B\",\"#00cc96\",\"#ab63fa\",\"#FFA15A\",\"#19d3f3\",\"#FF6692\",\"#B6E880\",\"#FF97FF\",\"#FECB52\"],\"font\":{\"color\":\"#2a3f5f\"},\"geo\":{\"bgcolor\":\"white\",\"lakecolor\":\"white\",\"landcolor\":\"#E5ECF6\",\"showlakes\":true,\"showland\":true,\"subunitcolor\":\"white\"},\"hoverlabel\":{\"align\":\"left\"},\"hovermode\":\"closest\",\"mapbox\":{\"style\":\"light\"},\"paper_bgcolor\":\"white\",\"plot_bgcolor\":\"#E5ECF6\",\"polar\":{\"angularaxis\":{\"gridcolor\":\"white\",\"linecolor\":\"white\",\"ticks\":\"\"},\"bgcolor\":\"#E5ECF6\",\"radialaxis\":{\"gridcolor\":\"white\",\"linecolor\":\"white\",\"ticks\":\"\"}},\"scene\":{\"xaxis\":{\"backgroundcolor\":\"#E5ECF6\",\"gridcolor\":\"white\",\"gridwidth\":2,\"linecolor\":\"white\",\"showbackground\":true,\"ticks\":\"\",\"zerolinecolor\":\"white\"},\"yaxis\":{\"backgroundcolor\":\"#E5ECF6\",\"gridcolor\":\"white\",\"gridwidth\":2,\"linecolor\":\"white\",\"showbackground\":true,\"ticks\":\"\",\"zerolinecolor\":\"white\"},\"zaxis\":{\"backgroundcolor\":\"#E5ECF6\",\"gridcolor\":\"white\",\"gridwidth\":2,\"linecolor\":\"white\",\"showbackground\":true,\"ticks\":\"\",\"zerolinecolor\":\"white\"}},\"shapedefaults\":{\"line\":{\"color\":\"#2a3f5f\"}},\"ternary\":{\"aaxis\":{\"gridcolor\":\"white\",\"linecolor\":\"white\",\"ticks\":\"\"},\"baxis\":{\"gridcolor\":\"white\",\"linecolor\":\"white\",\"ticks\":\"\"},\"bgcolor\":\"#E5ECF6\",\"caxis\":{\"gridcolor\":\"white\",\"linecolor\":\"white\",\"ticks\":\"\"}},\"title\":{\"x\":0.05},\"xaxis\":{\"automargin\":true,\"gridcolor\":\"white\",\"linecolor\":\"white\",\"ticks\":\"\",\"title\":{\"standoff\":15},\"zerolinecolor\":\"white\",\"zerolinewidth\":2},\"yaxis\":{\"automargin\":true,\"gridcolor\":\"white\",\"linecolor\":\"white\",\"ticks\":\"\",\"title\":{\"standoff\":15},\"zerolinecolor\":\"white\",\"zerolinewidth\":2}}}},                        {\"responsive\": true}                    ).then(function(){\n",
              "                            \n",
              "var gd = document.getElementById('bf5b385f-79ca-4fa4-9391-7304d47fe654');\n",
              "var x = new MutationObserver(function (mutations, observer) {{\n",
              "        var display = window.getComputedStyle(gd).display;\n",
              "        if (!display || display === 'none') {{\n",
              "            console.log([gd, 'removed!']);\n",
              "            Plotly.purge(gd);\n",
              "            observer.disconnect();\n",
              "        }}\n",
              "}});\n",
              "\n",
              "// Listen for the removal of the full notebook cells\n",
              "var notebookContainer = gd.closest('#notebook-container');\n",
              "if (notebookContainer) {{\n",
              "    x.observe(notebookContainer, {childList: true});\n",
              "}}\n",
              "\n",
              "// Listen for the clearing of the current output cell\n",
              "var outputEl = gd.closest('.output');\n",
              "if (outputEl) {{\n",
              "    x.observe(outputEl, {childList: true});\n",
              "}}\n",
              "\n",
              "                        })                };                            </script>        </div>\n",
              "</body>\n",
              "</html>"
            ]
          },
          "metadata": {}
        }
      ]
    },
    {
      "cell_type": "code",
      "source": [
        ""
      ],
      "metadata": {
        "id": "yDXNUyQbXdrJ"
      },
      "execution_count": null,
      "outputs": []
    }
  ]
}