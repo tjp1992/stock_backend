{
  "nbformat": 4,
  "nbformat_minor": 0,
  "metadata": {
    "colab": {
      "name": "EDA_tj.ipynb",
      "provenance": [],
      "authorship_tag": "ABX9TyMHZGcYujSwZAZQJaMbZ+tC",
      "include_colab_link": true
    },
    "kernelspec": {
      "name": "python3",
      "display_name": "Python 3"
    },
    "language_info": {
      "name": "python"
    }
  },
  "cells": [
    {
      "cell_type": "markdown",
      "metadata": {
        "id": "view-in-github",
        "colab_type": "text"
      },
      "source": [
        "<a href=\"https://colab.research.google.com/github/tjp1992/stock_backend/blob/tj_branch/notebooks/EDA_tj.ipynb\" target=\"_parent\"><img src=\"https://colab.research.google.com/assets/colab-badge.svg\" alt=\"Open In Colab\"/></a>"
      ]
    },
    {
      "cell_type": "markdown",
      "source": [
        "# Yahoo Finace"
      ],
      "metadata": {
        "id": "VdxEuXz95R_M"
      }
    },
    {
      "cell_type": "code",
      "execution_count": 5,
      "metadata": {
        "colab": {
          "base_uri": "https://localhost:8080/"
        },
        "id": "v86fpzin45UK",
        "outputId": "30a7a698-0beb-40c9-e2e5-dc030cdf3e96"
      },
      "outputs": [
        {
          "output_type": "stream",
          "name": "stdout",
          "text": [
            "{\"quoteResponse\":{\"result\":[{\"language\":\"en-US\",\"region\":\"US\",\"quoteType\":\"EQUITY\",\"typeDisp\":\"Equity\",\"quoteSourceName\":\"Delayed Quote\",\"triggerable\":false,\"customPriceAlertConfidence\":\"LOW\",\"tradeable\":false,\"sharesOutstanding\":30336200,\"fiftyDayAverage\":5500.0,\"fiftyDayAverageChange\":-2610.0,\"fiftyDayAverageChangePercent\":-0.47454545,\"twoHundredDayAverage\":5500.0,\"twoHundredDayAverageChange\":-2610.0,\"twoHundredDayAverageChangePercent\":-0.47454545,\"marketCap\":87671619584,\"currency\":\"KRW\",\"priceHint\":2,\"regularMarketChange\":-10.0,\"regularMarketChangePercent\":-0.3448276,\"regularMarketTime\":1648017025,\"regularMarketPrice\":2890.0,\"regularMarketDayHigh\":2935.0,\"regularMarketDayRange\":\"2885.0 - 2935.0\",\"regularMarketDayLow\":2885.0,\"regularMarketVolume\":306137,\"bid\":2800.0,\"sourceInterval\":20,\"exchangeDataDelayedBy\":0,\"firstTradeDateMilliseconds\":1510794000000,\"regularMarketPreviousClose\":2900.0,\"ask\":2890.0,\"bidSize\":0,\"askSize\":0,\"fullExchangeName\":\"KOSDAQ\",\"financialCurrency\":\"KRW\",\"regularMarketOpen\":2920.0,\"averageDailyVolume3Month\":917114,\"averageDailyVolume10Day\":1497967,\"fiftyTwoWeekLowChange\":5.0,\"fiftyTwoWeekLowChangePercent\":0.0017331023,\"fiftyTwoWeekRange\":\"2885.0 - 6300.0\",\"fiftyTwoWeekHighChange\":-3410.0,\"fiftyTwoWeekHighChangePercent\":-0.54126984,\"fiftyTwoWeekLow\":2885.0,\"fiftyTwoWeekHigh\":6300.0,\"marketState\":\"POST\",\"exchange\":\"KOE\",\"shortName\":\"A-JIN INDUSTRY\",\"longName\":\"A-Jin Industrial Co.,Ltd.\",\"exchangeTimezoneName\":\"Asia/Seoul\",\"exchangeTimezoneShortName\":\"KST\",\"gmtOffSetMilliseconds\":32400000,\"market\":\"kr_market\",\"esgPopulated\":false,\"symbol\":\"013310.KQ\"}],\"error\":null}}\n"
          ]
        }
      ],
      "source": [
        "import requests\n",
        "\n",
        "url = \"https://yfapi.net/v6/finance/quote\"\n",
        "\n",
        "querystring = {\"symbols\":\"013310.KQ\"}\n",
        "\n",
        "headers = {\n",
        "    'x-api-key': \"f9UhpI5RoV133W4A7zPUyG2PAVVp5Sj3ANXNYHwh\"\n",
        "    }\n",
        "\n",
        "response = requests.request(\"GET\", url, headers=headers, params=querystring)\n",
        "\n",
        "print(response.text)"
      ]
    },
    {
      "cell_type": "markdown",
      "source": [
        "# News Article Scrape API using NLTK"
      ],
      "metadata": {
        "id": "82FF6oCV5Y7i"
      }
    },
    {
      "cell_type": "code",
      "source": [
        "import requests\n",
        "from bs4 import BeautifulSoup \n",
        "import pandas as pd\n",
        "from nltk.sentiment.vader import SentimentIntensityAnalyzer\n",
        "\n",
        "ticker = \"AAPL\"\n",
        "# ticker = '060310'\n",
        "url = \"https://financialmodelingprep.com/financial-summary/\" + ticker\n",
        "request = requests.get(url)\n",
        "print(request.text)\n",
        "\n",
        "parser = BeautifulSoup(request.text, \"html.parser\")\n",
        "news_html = parser.find_all('a', {'class': 'article-item'})\n",
        "print(news_html[0])\n",
        "\n",
        "sentiments = []\n",
        "for i in range(0, len(news_html)):\n",
        "    sentiments.append(\n",
        "            {\n",
        "                'ticker': ticker,\n",
        "                'date': news_html[i].find('h5', {'class': 'article-date'}).text,\n",
        "                'title': news_html[i].find('h4', {'class': 'article-title'}).text,\n",
        "                'text': news_html[i].find('p', {'class': 'article-text'}).text\n",
        "            }\n",
        "        )\n",
        "\n",
        "df = pd.DataFrame(sentiments)\n",
        "df = df.set_index('date')\n"
      ],
      "metadata": {
        "id": "dTlYw_zt5c9j"
      },
      "execution_count": null,
      "outputs": []
    },
    {
      "cell_type": "code",
      "source": [
        "df"
      ],
      "metadata": {
        "colab": {
          "base_uri": "https://localhost:8080/",
          "height": 394
        },
        "id": "KDOSEIRt5hjr",
        "outputId": "567dbcbd-decb-4352-89e1-817f290a2300"
      },
      "execution_count": 3,
      "outputs": [
        {
          "output_type": "execute_result",
          "data": {
            "text/plain": [
              "                 ticker                                              title  \\\n",
              "date                                                                         \n",
              "2022-03-22 19:41   AAPL  Apple Services Experience Outage for Second Da...   \n",
              "2022-03-22 18:04   AAPL  Apple services including Music, Mac App store ...   \n",
              "2022-03-22 16:09   AAPL  Market Extends Bullish Action; Tesla Soars, Ap...   \n",
              "2022-03-22 14:45   AAPL  Final Trades: Cloud stocks, Apple, Moderna & more   \n",
              "2022-03-22 14:35   AAPL       Apple (AAPL) Resolves Massive Service Outage   \n",
              "2022-03-22 14:02   AAPL  XLK: Apple And Microsoft Likely To Weigh The I...   \n",
              "2022-03-22 13:47   AAPL  MSFT, AAPL, AMZN, FB, NVDA: Why Are Tech Stock...   \n",
              "2022-03-22 13:33   AAPL            EU in final push for Big Tech crackdown   \n",
              "2022-03-22 12:48   AAPL   These Tech-Heavy ETFs Offer Inflation Protection   \n",
              "2022-03-22 11:57   AAPL  Apple App Store faces new laws from global reg...   \n",
              "\n",
              "                                                               text  \n",
              "date                                                                 \n",
              "2022-03-22 19:41  The App Store, Apple Music, Apple Books and Po...  \n",
              "2022-03-22 18:04  Apple Inc services including Apple Music, Mac ...  \n",
              "2022-03-22 16:09  Market Extends Bullish Action; Tesla Soars, Ap...  \n",
              "2022-03-22 14:45  The \"Halftime Report\" traders give their top p...  \n",
              "2022-03-22 14:35  Apple (AAPL) suffered a massive outage of its ...  \n",
              "2022-03-22 14:02  XLK: Apple And Microsoft Likely To Weigh The I...  \n",
              "2022-03-22 13:47  Given the rather impressive amount of uncertai...  \n",
              "2022-03-22 13:33  Big tech companies could face unprecedented cu...  \n",
              "2022-03-22 12:48  Inflation is clearly proving far more persiste...  \n",
              "2022-03-22 11:57  Yahoo Finance Tech Editor Dan Howley joins the...  "
            ],
            "text/html": [
              "\n",
              "  <div id=\"df-db3f1c1d-3fe0-489b-9d85-8a3ed4dec3e4\">\n",
              "    <div class=\"colab-df-container\">\n",
              "      <div>\n",
              "<style scoped>\n",
              "    .dataframe tbody tr th:only-of-type {\n",
              "        vertical-align: middle;\n",
              "    }\n",
              "\n",
              "    .dataframe tbody tr th {\n",
              "        vertical-align: top;\n",
              "    }\n",
              "\n",
              "    .dataframe thead th {\n",
              "        text-align: right;\n",
              "    }\n",
              "</style>\n",
              "<table border=\"1\" class=\"dataframe\">\n",
              "  <thead>\n",
              "    <tr style=\"text-align: right;\">\n",
              "      <th></th>\n",
              "      <th>ticker</th>\n",
              "      <th>title</th>\n",
              "      <th>text</th>\n",
              "    </tr>\n",
              "    <tr>\n",
              "      <th>date</th>\n",
              "      <th></th>\n",
              "      <th></th>\n",
              "      <th></th>\n",
              "    </tr>\n",
              "  </thead>\n",
              "  <tbody>\n",
              "    <tr>\n",
              "      <th>2022-03-22 19:41</th>\n",
              "      <td>AAPL</td>\n",
              "      <td>Apple Services Experience Outage for Second Da...</td>\n",
              "      <td>The App Store, Apple Music, Apple Books and Po...</td>\n",
              "    </tr>\n",
              "    <tr>\n",
              "      <th>2022-03-22 18:04</th>\n",
              "      <td>AAPL</td>\n",
              "      <td>Apple services including Music, Mac App store ...</td>\n",
              "      <td>Apple Inc services including Apple Music, Mac ...</td>\n",
              "    </tr>\n",
              "    <tr>\n",
              "      <th>2022-03-22 16:09</th>\n",
              "      <td>AAPL</td>\n",
              "      <td>Market Extends Bullish Action; Tesla Soars, Ap...</td>\n",
              "      <td>Market Extends Bullish Action; Tesla Soars, Ap...</td>\n",
              "    </tr>\n",
              "    <tr>\n",
              "      <th>2022-03-22 14:45</th>\n",
              "      <td>AAPL</td>\n",
              "      <td>Final Trades: Cloud stocks, Apple, Moderna &amp; more</td>\n",
              "      <td>The \"Halftime Report\" traders give their top p...</td>\n",
              "    </tr>\n",
              "    <tr>\n",
              "      <th>2022-03-22 14:35</th>\n",
              "      <td>AAPL</td>\n",
              "      <td>Apple (AAPL) Resolves Massive Service Outage</td>\n",
              "      <td>Apple (AAPL) suffered a massive outage of its ...</td>\n",
              "    </tr>\n",
              "    <tr>\n",
              "      <th>2022-03-22 14:02</th>\n",
              "      <td>AAPL</td>\n",
              "      <td>XLK: Apple And Microsoft Likely To Weigh The I...</td>\n",
              "      <td>XLK: Apple And Microsoft Likely To Weigh The I...</td>\n",
              "    </tr>\n",
              "    <tr>\n",
              "      <th>2022-03-22 13:47</th>\n",
              "      <td>AAPL</td>\n",
              "      <td>MSFT, AAPL, AMZN, FB, NVDA: Why Are Tech Stock...</td>\n",
              "      <td>Given the rather impressive amount of uncertai...</td>\n",
              "    </tr>\n",
              "    <tr>\n",
              "      <th>2022-03-22 13:33</th>\n",
              "      <td>AAPL</td>\n",
              "      <td>EU in final push for Big Tech crackdown</td>\n",
              "      <td>Big tech companies could face unprecedented cu...</td>\n",
              "    </tr>\n",
              "    <tr>\n",
              "      <th>2022-03-22 12:48</th>\n",
              "      <td>AAPL</td>\n",
              "      <td>These Tech-Heavy ETFs Offer Inflation Protection</td>\n",
              "      <td>Inflation is clearly proving far more persiste...</td>\n",
              "    </tr>\n",
              "    <tr>\n",
              "      <th>2022-03-22 11:57</th>\n",
              "      <td>AAPL</td>\n",
              "      <td>Apple App Store faces new laws from global reg...</td>\n",
              "      <td>Yahoo Finance Tech Editor Dan Howley joins the...</td>\n",
              "    </tr>\n",
              "  </tbody>\n",
              "</table>\n",
              "</div>\n",
              "      <button class=\"colab-df-convert\" onclick=\"convertToInteractive('df-db3f1c1d-3fe0-489b-9d85-8a3ed4dec3e4')\"\n",
              "              title=\"Convert this dataframe to an interactive table.\"\n",
              "              style=\"display:none;\">\n",
              "        \n",
              "  <svg xmlns=\"http://www.w3.org/2000/svg\" height=\"24px\"viewBox=\"0 0 24 24\"\n",
              "       width=\"24px\">\n",
              "    <path d=\"M0 0h24v24H0V0z\" fill=\"none\"/>\n",
              "    <path d=\"M18.56 5.44l.94 2.06.94-2.06 2.06-.94-2.06-.94-.94-2.06-.94 2.06-2.06.94zm-11 1L8.5 8.5l.94-2.06 2.06-.94-2.06-.94L8.5 2.5l-.94 2.06-2.06.94zm10 10l.94 2.06.94-2.06 2.06-.94-2.06-.94-.94-2.06-.94 2.06-2.06.94z\"/><path d=\"M17.41 7.96l-1.37-1.37c-.4-.4-.92-.59-1.43-.59-.52 0-1.04.2-1.43.59L10.3 9.45l-7.72 7.72c-.78.78-.78 2.05 0 2.83L4 21.41c.39.39.9.59 1.41.59.51 0 1.02-.2 1.41-.59l7.78-7.78 2.81-2.81c.8-.78.8-2.07 0-2.86zM5.41 20L4 18.59l7.72-7.72 1.47 1.35L5.41 20z\"/>\n",
              "  </svg>\n",
              "      </button>\n",
              "      \n",
              "  <style>\n",
              "    .colab-df-container {\n",
              "      display:flex;\n",
              "      flex-wrap:wrap;\n",
              "      gap: 12px;\n",
              "    }\n",
              "\n",
              "    .colab-df-convert {\n",
              "      background-color: #E8F0FE;\n",
              "      border: none;\n",
              "      border-radius: 50%;\n",
              "      cursor: pointer;\n",
              "      display: none;\n",
              "      fill: #1967D2;\n",
              "      height: 32px;\n",
              "      padding: 0 0 0 0;\n",
              "      width: 32px;\n",
              "    }\n",
              "\n",
              "    .colab-df-convert:hover {\n",
              "      background-color: #E2EBFA;\n",
              "      box-shadow: 0px 1px 2px rgba(60, 64, 67, 0.3), 0px 1px 3px 1px rgba(60, 64, 67, 0.15);\n",
              "      fill: #174EA6;\n",
              "    }\n",
              "\n",
              "    [theme=dark] .colab-df-convert {\n",
              "      background-color: #3B4455;\n",
              "      fill: #D2E3FC;\n",
              "    }\n",
              "\n",
              "    [theme=dark] .colab-df-convert:hover {\n",
              "      background-color: #434B5C;\n",
              "      box-shadow: 0px 1px 3px 1px rgba(0, 0, 0, 0.15);\n",
              "      filter: drop-shadow(0px 1px 2px rgba(0, 0, 0, 0.3));\n",
              "      fill: #FFFFFF;\n",
              "    }\n",
              "  </style>\n",
              "\n",
              "      <script>\n",
              "        const buttonEl =\n",
              "          document.querySelector('#df-db3f1c1d-3fe0-489b-9d85-8a3ed4dec3e4 button.colab-df-convert');\n",
              "        buttonEl.style.display =\n",
              "          google.colab.kernel.accessAllowed ? 'block' : 'none';\n",
              "\n",
              "        async function convertToInteractive(key) {\n",
              "          const element = document.querySelector('#df-db3f1c1d-3fe0-489b-9d85-8a3ed4dec3e4');\n",
              "          const dataTable =\n",
              "            await google.colab.kernel.invokeFunction('convertToInteractive',\n",
              "                                                     [key], {});\n",
              "          if (!dataTable) return;\n",
              "\n",
              "          const docLinkHtml = 'Like what you see? Visit the ' +\n",
              "            '<a target=\"_blank\" href=https://colab.research.google.com/notebooks/data_table.ipynb>data table notebook</a>'\n",
              "            + ' to learn more about interactive tables.';\n",
              "          element.innerHTML = '';\n",
              "          dataTable['output_type'] = 'display_data';\n",
              "          await google.colab.output.renderOutput(dataTable, element);\n",
              "          const docLink = document.createElement('div');\n",
              "          docLink.innerHTML = docLinkHtml;\n",
              "          element.appendChild(docLink);\n",
              "        }\n",
              "      </script>\n",
              "    </div>\n",
              "  </div>\n",
              "  "
            ]
          },
          "metadata": {},
          "execution_count": 3
        }
      ]
    },
    {
      "cell_type": "markdown",
      "source": [
        "# IEX API"
      ],
      "metadata": {
        "id": "qi_CHpB7DoRu"
      }
    },
    {
      "cell_type": "code",
      "source": [
        "import requests\n",
        "\n",
        "# urls = 'https://iex.lewagon.com/stable/stock/aapl/chart/3m'\n",
        "urls = 'https://iex.lewagon.com/stable/search/159580'\n",
        "# urls = 'https://iex.lewagon.com/stable/stock//chart/3m'\n",
        "# urls = 'https://iex.lewagon.com/ref-data/exchanges'\n",
        "api_data = requests.get(urls).json()"
      ],
      "metadata": {
        "id": "UVqwhlnLDpx4"
      },
      "execution_count": 19,
      "outputs": []
    },
    {
      "cell_type": "code",
      "source": [
        "symbol = \"\"\n",
        "for li in api_data:\n",
        "  if 'KR' == li['region']:\n",
        "    symbol = li['symbol']\n",
        "\n",
        "url = 'https://iex.lewagon.com/stable/stock/{}/chart/3m'\n",
        "result = requests.get(url.format(symbol)).json()\n",
        "result"
      ],
      "metadata": {
        "id": "HqBDN-POLfvE"
      },
      "execution_count": null,
      "outputs": []
    },
    {
      "cell_type": "code",
      "source": [
        "api_data"
      ],
      "metadata": {
        "id": "Nt2_6h2bKqVF"
      },
      "execution_count": null,
      "outputs": []
    },
    {
      "cell_type": "code",
      "source": [
        ""
      ],
      "metadata": {
        "id": "A0kh8OpfDuWD"
      },
      "execution_count": null,
      "outputs": []
    }
  ]
}