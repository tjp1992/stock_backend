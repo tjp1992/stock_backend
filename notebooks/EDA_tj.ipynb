{
  "cells": [
    {
      "cell_type": "markdown",
      "metadata": {
        "colab_type": "text",
        "id": "view-in-github"
      },
      "source": [
        "<a href=\"https://colab.research.google.com/github/tjp1992/stock_backend/blob/master/notebooks/EDA_tj.ipynb\" target=\"_parent\"><img src=\"https://colab.research.google.com/assets/colab-badge.svg\" alt=\"Open In Colab\"/></a>"
      ]
    },
    {
      "cell_type": "code",
      "execution_count": 17,
      "metadata": {},
      "outputs": [],
      "source": [
        "# import libraries used for EDA\n",
        "import pandas as pd\n",
        "import numpy as np\n",
        "import matplotlib.pyplot as plt\n",
        "import seaborn as sns\n",
        "\n",
        "import requests\n",
        "import os"
      ]
    },
    {
      "cell_type": "markdown",
      "metadata": {
        "id": "VdxEuXz95R_M"
      },
      "source": [
        "# Yahoo Finace"
      ]
    },
    {
      "cell_type": "code",
      "execution_count": 66,
      "metadata": {
        "id": "v86fpzin45UK"
      },
      "outputs": [
        {
          "name": "stdout",
          "output_type": "stream",
          "text": [
            "{\"message\":\"Forbidden\",\"hint\":\"Sign up for API key https://financeapi.net/tutorial\"}\n"
          ]
        }
      ],
      "source": [
        "import requests\n",
        "\n",
        "url = \"https://yfapi.net/v6/finance/quote\"\n",
        "\n",
        "querystring = {\"symbols\":\"013310.KQ\"}\n",
        "\n",
        "headers = {\n",
        "    'x-api-key': \"f9UhpI5RoV133W4A7zPUyG2PAVVp5Sj3ANXNYHwh\"\n",
        "    }\n",
        "\n",
        "response = requests.request(\"GET\", url, headers=headers, params=querystring)\n",
        "\n",
        "print(response.text)"
      ]
    },
    {
      "cell_type": "markdown",
      "metadata": {
        "id": "82FF6oCV5Y7i"
      },
      "source": [
        "# News Article Scrape API using NLTK"
      ]
    },
    {
      "cell_type": "code",
      "execution_count": 2,
      "metadata": {
        "id": "dTlYw_zt5c9j"
      },
      "outputs": [
        {
          "name": "stdout",
          "output_type": "stream",
          "text": [
            "<!doctype html><html data-n-head-ssr lang=\"en\" data-n-head=\"%7B%22lang%22:%7B%22ssr%22:%22en%22%7D%7D\"><head ><title>AAPL 148.79 -1.25 -0.83% Apple Inc. - FinancialModelingPrep</title><meta data-n-head=\"ssr\" charset=\"utf-8\"><meta data-n-head=\"ssr\" http-equiv=\"X-UA-Compatible\" content=\"IE=edge\"><meta data-n-head=\"ssr\" name=\"viewport\" content=\"width=device-width, initial-scale=1\"><meta data-n-head=\"ssr\" name=\"fragment\" content=\"!\"><meta data-n-head=\"ssr\" name=\"theme-color\" content=\"#333\"><meta data-n-head=\"ssr\" name=\"theme-color\" content=\"#ffffff\"><meta data-n-head=\"ssr\" property=\"og:site_name\" content=\"Financial Modeling Prep\"><meta data-n-head=\"ssr\" property=\"twitter:card\" content=\"summary_large_image\"><meta data-n-head=\"ssr\" property=\"twitter:site\" content=\"@financial_mod\"><meta data-n-head=\"ssr\" property=\"twitter:images0\" content=\"/screenshot/solo/_.png\"><meta data-n-head=\"ssr\" property=\"og:type\" content=\"website\"><meta data-n-head=\"ssr\" property=\"fb:app_id\" content=\"140395543294453\"><meta data-n-head=\"ssr\" data-hid=\"description\" name=\"description\" content=\"Check the Financial Summary of AAPL , Apple Inc. stock!\"><meta data-n-head=\"ssr\" data-hid=\"keywords\" name=\"keywords\" content=\"Intrinsic Valuation, DCF rankings, DCF levered, stock market, stocks, stocks news, historical data, FinancialModelingPrep, AAPL , Apple Inc. stock , FMP, stock market news\"><meta data-n-head=\"ssr\" data-hid=\"og:description\" property=\"og:description\" content=\"Check the Financial Summary of AAPL , Apple Inc. stock!\"><meta data-n-head=\"ssr\" data-hid=\"og:title\" property=\"og:title\" content=\"AAPL 148.79 -1.25 -0.83% Apple Inc. - FinancialModelingPrep\"><meta data-n-head=\"ssr\" data-hid=\"og:url\" property=\"og:url\" content=\"https://financialmodelingprep.com/financial-summary/AAPL\"><meta data-n-head=\"ssr\" data-hid=\"twitter:text:title\" property=\"twitter:text:title\" content=\"AAPL 148.79 -1.25 -0.83% Apple Inc. - FinancialModelingPrep\"><meta data-n-head=\"ssr\" data-hid=\"twitter:title\" property=\"twitter:title\" content=\"AAPL 148.79 -1.25 -0.83% Apple Inc. - FinancialModelingPrep\"><meta data-n-head=\"ssr\" data-hid=\"twitter:description\" property=\"twitter:description\" content=\"Check the Financial Summary of AAPL , Apple Inc. stock!\"><meta data-n-head=\"ssr\" data-hid=\"twitter:url\" property=\"twitter:url\" content=\"https://financialmodelingprep.com/financial-summary/AAPL\"><link data-n-head=\"ssr\" rel=\"manifest\" href=\"/manifest.json\"><link data-n-head=\"ssr\" rel=\"apple-touch-icon\" href=\"/apple-touch-icon.png\" sizes=\"180x180\"><link data-n-head=\"ssr\" rel=\"icon\" href=\"/favicon-32x32.png\" type=\"image/png\" sizes=\"32x32\"><link data-n-head=\"ssr\" rel=\"icon\" href=\"/favicon-16x16.png\" type=\"image/png\" sizes=\"16x16\"><link data-n-head=\"ssr\" rel=\"icon\" href=\"/favicon.ico\" type=\"image/x-icon\"><link data-n-head=\"ssr\" rel=\"mask-icon\" href=\"/safari-pinned-tab.svg\" color=\"#5bbad5\"><link data-n-head=\"ssr\" rel=\"preconnect\" href=\"https://www.googletagmanager.com\"><link data-n-head=\"ssr\" rel=\"preconnect\" href=\"https://www.google-analytics.com\"><script data-n-head=\"ssr\" type=\"text/javascript\" async src=\"https://www.google-analytics.com/analytics.js\"></script><script data-n-head=\"ssr\" type=\"application/ld+json\">{\"@context\":\"http://schema.org\",\"@type\":\"WebPage\",\"name\":\"AAPL 148.79 -1.25 -0.83% Apple Inc. - FinancialModelingPrep\",\"description\":\"Check the Financial Summary of AAPL , Apple Inc. stock!\",\"about\":{\"@type\":\"Corporation\",\"name\":\"Apple Inc.\",\"description\":\"Check the Financial Summary of AAPL , Apple Inc. stock!\",\"url\":\"https://financialmodelingprep.com/financial-summary/AAPL\",\"tickerSymbol\":\"AAPL\",\"aggregateRating\":{\"@type\":\"AggregateRating\",\"bestRating\":\"5\",\"ratingValue\":\"5\",\"worstRating\":\"0\",\"ratingCount\":55}},\"publisher\":{\"@type\":\"Organization\",\"legalName\":\"Financial Modeling Prep\",\"name\":\"Financial Modeling prep\",\"url\":\"https://financialmodelingprep.com/\",\"logo\":{\"@type\":\"ImageObject\",\"url\":\"https://financialmodelingprep.com/android-chrome-512x512.png\",\"width\":512,\"height\":521},\"description\":\"Financial Modeling Prep is a new concept that informs you about stock markets information (news, currencies and stock prices). We always strive to give you the best and most updated information. We also gives you free financial modeling methodology through our academy. Most investment banking firms follow our guidelines to get discounted cash flow statement of companies to see if they are undervalued, overvalued or simply at par value. You can find all financial models and valuation techniques that is used in corporate finance to get companies intrinsic valuation. Most private equity firm use financial modeling for decision making when it comes to hold, buy or sell a particular stock.\",\"sameAs\":[\"https://www.facebook.com/Financial-Modelling-Prep-1187015984733107\",\"https://twitter.com/financial_mod\",\"https://www.instagram.com/financialmodelingprep/\",\"https://plus.google.com/107622853226942759106\",\"https://www.linkedin.com/company/financial-modeling-prep/\"]},\"image\":{\"@type\":\"ImageObject\",\"url\":\"https://financialmodelingprep.com/images-New/AAPL.png\",\"height\":150,\"width\":150}}</script><link rel=\"preload\" href=\"https://d14ccuzudddlhp.cloudfront.net/_nuxt/9ddb144.js\" as=\"script\"><link rel=\"preload\" href=\"https://d14ccuzudddlhp.cloudfront.net/_nuxt/a9efd6a.js\" as=\"script\"><link rel=\"preload\" href=\"https://d14ccuzudddlhp.cloudfront.net/_nuxt/a612ed9.js\" as=\"script\"><link rel=\"preload\" href=\"https://d14ccuzudddlhp.cloudfront.net/_nuxt/css/42da493.css\" as=\"style\"><link rel=\"preload\" href=\"https://d14ccuzudddlhp.cloudfront.net/_nuxt/6504784.js\" as=\"script\"><link rel=\"preload\" href=\"https://d14ccuzudddlhp.cloudfront.net/_nuxt/css/91a17c9.css\" as=\"style\"><link rel=\"preload\" href=\"https://d14ccuzudddlhp.cloudfront.net/_nuxt/c8726ec.js\" as=\"script\"><link rel=\"preload\" href=\"https://d14ccuzudddlhp.cloudfront.net/_nuxt/css/e53592b.css\" as=\"style\"><link rel=\"preload\" href=\"https://d14ccuzudddlhp.cloudfront.net/_nuxt/bc5b44c.js\" as=\"script\"><link rel=\"preload\" href=\"https://d14ccuzudddlhp.cloudfront.net/_nuxt/css/1edd6d0.css\" as=\"style\"><link rel=\"preload\" href=\"https://d14ccuzudddlhp.cloudfront.net/_nuxt/ed83c2d.js\" as=\"script\"><link rel=\"preload\" href=\"https://d14ccuzudddlhp.cloudfront.net/_nuxt/css/eee300a.css\" as=\"style\"><link rel=\"preload\" href=\"https://d14ccuzudddlhp.cloudfront.net/_nuxt/ee53e6b.js\" as=\"script\"><link rel=\"stylesheet\" href=\"https://d14ccuzudddlhp.cloudfront.net/_nuxt/css/42da493.css\"><link rel=\"stylesheet\" href=\"https://d14ccuzudddlhp.cloudfront.net/_nuxt/css/91a17c9.css\"><link rel=\"stylesheet\" href=\"https://d14ccuzudddlhp.cloudfront.net/_nuxt/css/e53592b.css\"><link rel=\"stylesheet\" href=\"https://d14ccuzudddlhp.cloudfront.net/_nuxt/css/1edd6d0.css\"><link rel=\"stylesheet\" href=\"https://d14ccuzudddlhp.cloudfront.net/_nuxt/css/eee300a.css\"></head><body ><div data-server-rendered=\"true\" id=\"__nuxt\"><!----><div id=\"__layout\"><div id=\"app\" itemscope=\"itemscope\" itemtype=\"http://schema.org/WebSite\"><div class=\"navbar-wrapper\" data-v-5d70e85b><nav id=\"navbar-fmp\" data-v-5d70e85b><div class=\"full-menu\" data-v-5d70e85b><div class=\"navbar-fmp-left\" data-v-5d70e85b><div class=\"navbar-fmp-section logo-section\" data-v-5d70e85b><img src=\"https://d14ccuzudddlhp.cloudfront.net/_nuxt/img/6595315.png\" alt=\"FMP\" width=\"20\" height=\"28\" loading=\"lazy\" data-v-5d70e85b> <a href=\"/\" title=\"Financial Modeling Prep\" class=\"logo nuxt-link-active\" style=\"font-size:18px;margin-left:10px;color:black;\" data-v-5d70e85b>Financial Modeling Prep</a></div> <div class=\"navbar-fmp-section stock-search-section\" data-v-5d70e85b><div data-v-9cee2392 data-v-5d70e85b><div class=\"stock-search-component-small\" data-v-9cee2392><div class=\"stock-search\" data-v-9cee2392><input placeholder=\"Search stock...\" title=\"Search for stock information\" value=\"\" class=\"search-box\" data-v-9cee2392> <div class=\"icon-search-wrapper\" data-v-9cee2392><svg width=\"18\" height=\"18\" viewBox=\"0 0 18 18\" fill=\"none\" xmlns=\"http://www.w3.org/2000/svg\" data-v-9cee2392><path d=\"M8 5C7.60603 5 7.21593 5.0776 6.85195 5.22836C6.48797 5.37913 6.15726 5.6001 5.87868 5.87868C5.6001 6.15726 5.37913 6.48797 5.22836 6.85195C5.0776 7.21593 5 7.60603 5 8M17 17L14 14M15 8C15 11.866 11.866 15 8 15C4.13401 15 1 11.866 1 8C1 4.13401 4.13401 1 8 1C11.866 1 15 4.13401 15 8Z\" stroke=\"#181D34\" stroke-width=\"2\" stroke-linecap=\"round\" data-v-9cee2392></path></svg></div></div> <!----></div></div></div></div> <div class=\"navbar-fmp-right\" data-v-5d70e85b><div class=\"navbar-fmp-section\" data-v-5d70e85b>\n",
            "                        Discounted Cash Flow Model\n",
            "                    \n",
            "                        <svg width=\"14\" height=\"8\" viewBox=\"0 0 20 11\" fill=\"none\" xmlns=\"http://www.w3.org/2000/svg\" data-v-6a153873 data-v-5d70e85b><path d=\"M9.8163 10.787C8.49786 9.25674 0.541321 -1.92656e-06 0.999993 -9.52841e-07L19 -1.66036e-07C19.4587 8.07687e-07 11.5021 9.25674 10.1837 10.787C10.0841 10.9025 9.91588 10.9025 9.8163 10.787Z\" fill=\"#181D34\" data-v-6a153873></path></svg> <!----></div><div class=\"navbar-fmp-section\" data-v-5d70e85b>\n",
            "                        Markets\n",
            "                    \n",
            "                        <svg width=\"14\" height=\"8\" viewBox=\"0 0 20 11\" fill=\"none\" xmlns=\"http://www.w3.org/2000/svg\" data-v-6a153873 data-v-5d70e85b><path d=\"M9.8163 10.787C8.49786 9.25674 0.541321 -1.92656e-06 0.999993 -9.52841e-07L19 -1.66036e-07C19.4587 8.07687e-07 11.5021 9.25674 10.1837 10.787C10.0841 10.9025 9.91588 10.9025 9.8163 10.787Z\" fill=\"#181D34\" data-v-6a153873></path></svg> <!----></div><div class=\"navbar-fmp-section\" data-v-5d70e85b>\n",
            "                        Education\n",
            "                    \n",
            "                        <svg width=\"14\" height=\"8\" viewBox=\"0 0 20 11\" fill=\"none\" xmlns=\"http://www.w3.org/2000/svg\" data-v-6a153873 data-v-5d70e85b><path d=\"M9.8163 10.787C8.49786 9.25674 0.541321 -1.92656e-06 0.999993 -9.52841e-07L19 -1.66036e-07C19.4587 8.07687e-07 11.5021 9.25674 10.1837 10.787C10.0841 10.9025 9.91588 10.9025 9.8163 10.787Z\" fill=\"#181D34\" data-v-6a153873></path></svg> <!----></div><div class=\"navbar-fmp-section\" data-v-5d70e85b>\n",
            "                        How to\n",
            "                    \n",
            "                        <svg width=\"14\" height=\"8\" viewBox=\"0 0 20 11\" fill=\"none\" xmlns=\"http://www.w3.org/2000/svg\" data-v-6a153873 data-v-5d70e85b><path d=\"M9.8163 10.787C8.49786 9.25674 0.541321 -1.92656e-06 0.999993 -9.52841e-07L19 -1.66036e-07C19.4587 8.07687e-07 11.5021 9.25674 10.1837 10.787C10.0841 10.9025 9.91588 10.9025 9.8163 10.787Z\" fill=\"#181D34\" data-v-6a153873></path></svg> <!----></div> <div class=\"navbar-fmp-section\" data-v-5d70e85b>\n",
            "                    Developers\n",
            "                    \n",
            "                    <svg width=\"14\" height=\"8\" viewBox=\"0 0 20 11\" fill=\"none\" xmlns=\"http://www.w3.org/2000/svg\" data-v-6a153873 data-v-5d70e85b><path d=\"M9.8163 10.787C8.49786 9.25674 0.541321 -1.92656e-06 0.999993 -9.52841e-07L19 -1.66036e-07C19.4587 8.07687e-07 11.5021 9.25674 10.1837 10.787C10.0841 10.9025 9.91588 10.9025 9.8163 10.787Z\" fill=\"#181D34\" data-v-6a153873></path></svg> <!----></div> <!----></div></div> <div class=\"burger-menu\" data-v-5d70e85b><div class=\"navbar-fmp-left\" data-v-5d70e85b><div class=\"navbar-fmp-section\" data-v-5d70e85b><h1 role=\"link\" class=\"logo\" style=\"font-size:18px;margin-left:10px;color:black;\" data-v-5d70e85b data-v-5d70e85b>Financial Modeling Prep</h1></div></div> <div data-v-9cee2392 data-v-5d70e85b><div class=\"stock-search-component-small\" data-v-9cee2392><div class=\"stock-search\" data-v-9cee2392><input placeholder=\"Search stock...\" title=\"Search for stock information\" value=\"\" class=\"search-box\" data-v-9cee2392> <div class=\"icon-search-wrapper\" data-v-9cee2392><svg width=\"18\" height=\"18\" viewBox=\"0 0 18 18\" fill=\"none\" xmlns=\"http://www.w3.org/2000/svg\" data-v-9cee2392><path d=\"M8 5C7.60603 5 7.21593 5.0776 6.85195 5.22836C6.48797 5.37913 6.15726 5.6001 5.87868 5.87868C5.6001 6.15726 5.37913 6.48797 5.22836 6.85195C5.0776 7.21593 5 7.60603 5 8M17 17L14 14M15 8C15 11.866 11.866 15 8 15C4.13401 15 1 11.866 1 8C1 4.13401 4.13401 1 8 1C11.866 1 15 4.13401 15 8Z\" stroke=\"#181D34\" stroke-width=\"2\" stroke-linecap=\"round\" data-v-9cee2392></path></svg></div></div> <!----></div></div> <div class=\"burger\" data-v-5d70e85b><i class=\"fas icon-bars\" data-v-5d70e85b></i></div> <!----></div></nav></div> <div id=\"ticker-bar\" data-v-bb47c9e8><!----></div> <div id=\"index-summary\" class=\"index-summary-full\"><!----> <!----></div> <div id=\"main-container-full\"><div><div class=\"company-summary\"><!----> <h4 class=\"company-name\">Apple Inc. (AAPL)</h4> <h4 class=\"company-price\">$148.79</h4> <div class=\"company-change text-red\">\n",
            "        -1.25 (-0.83%)\n",
            "    </div> <div><!----> <!----></div> <button class=\"company-summary__favorite global-button2\"><span><svg xmlns=\"http://www.w3.org/2000/svg\" viewBox=\"0 0 24 24\" fill=\"none\" stroke=\"currentColor\" stroke-width=\"2\" stroke-linecap=\"round\" stroke-linejoin=\"round\"><polygon points=\"12 2 15.09 8.26 22 9.27 17 14.14 18.18 21.02 12 17.77 5.82 21.02 7 14.14 2 9.27 8.91 8.26 12 2\"></polygon></svg>\n",
            "            Add to Favorites\n",
            "        </span></button> <!----></div> <div class=\"stock-menu\"><div class=\"stock-menu__underline\"></div> <h6><a href=\"/financial-summary/AAPL\" aria-current=\"page\" class=\"stock-menu__item nuxt-link-exact-active nuxt-link-active active\">Financial Summary</a></h6><h6><a href=\"/financial-statements/AAPL\" class=\"stock-menu__item\">Financial Statements</a></h6><h6><a href=\"/financial-statements-quarterly/AAPL\" class=\"stock-menu__item\">Quarter Financials</a></h6><h6><a href=\"/chart/AAPL\" class=\"stock-menu__item\">Chart</a></h6><h6><a href=\"/financial-ratios/AAPL\" class=\"stock-menu__item\">Financial Ratios</a></h6><h6><!----></h6><h6><!----></h6><h6><a href=\"/profile/AAPL\" class=\"stock-menu__item\">Profile</a></h6><h6><a href=\"/historical-data/AAPL\" class=\"stock-menu__item\">Historical Data</a></h6> <h6><!----><!----><!----><!----><!----><a href=\"/discounted-cash-flow-model/AAPL\" class=\"stock-menu__item\">DCF</a><a href=\"/discounted-cash-flow-model-levered/AAPL\" class=\"stock-menu__item\">DCF Levered</a><!----><!----></h6></div> <div class=\"financial-data-wrapper\"><div class=\"leftside-summary\"><div class=\"summary-group\"><div id=\"financialSummary\"><div class=\"summary-performance\"><div class=\"performance-group\"><div class=\"performance-star\"><h5>Rating: </h5> <div class=\"icon-star-list\"><span type=\"button\" aria-label=\"Left Align\" class=\"icon-star\"><svg xmlns=\"http://www.w3.org/2000/svg\" viewBox=\"0 0 24 24\" fill=\"none\" stroke=\"currentColor\" stroke-width=\"2\" stroke-linecap=\"round\" stroke-linejoin=\"round\"><polygon points=\"12 2 15.09 8.26 22 9.27 17 14.14 18.18 21.02 12 17.77 5.82 21.02 7 14.14 2 9.27 8.91 8.26 12 2\"></polygon></svg></span><span type=\"button\" aria-label=\"Left Align\" class=\"icon-star\"><svg xmlns=\"http://www.w3.org/2000/svg\" viewBox=\"0 0 24 24\" fill=\"none\" stroke=\"currentColor\" stroke-width=\"2\" stroke-linecap=\"round\" stroke-linejoin=\"round\"><polygon points=\"12 2 15.09 8.26 22 9.27 17 14.14 18.18 21.02 12 17.77 5.82 21.02 7 14.14 2 9.27 8.91 8.26 12 2\"></polygon></svg></span><span type=\"button\" aria-label=\"Left Align\" class=\"icon-star\"><svg xmlns=\"http://www.w3.org/2000/svg\" viewBox=\"0 0 24 24\" fill=\"none\" stroke=\"currentColor\" stroke-width=\"2\" stroke-linecap=\"round\" stroke-linejoin=\"round\"><polygon points=\"12 2 15.09 8.26 22 9.27 17 14.14 18.18 21.02 12 17.77 5.82 21.02 7 14.14 2 9.27 8.91 8.26 12 2\"></polygon></svg></span><span type=\"button\" aria-label=\"Left Align\" class=\"icon-star\"><svg xmlns=\"http://www.w3.org/2000/svg\" viewBox=\"0 0 24 24\" fill=\"none\" stroke=\"currentColor\" stroke-width=\"2\" stroke-linecap=\"round\" stroke-linejoin=\"round\"><polygon points=\"12 2 15.09 8.26 22 9.27 17 14.14 18.18 21.02 12 17.77 5.82 21.02 7 14.14 2 9.27 8.91 8.26 12 2\"></polygon></svg></span><span type=\"button\" aria-label=\"Left Align\" class=\"icon-star\"><svg xmlns=\"http://www.w3.org/2000/svg\" viewBox=\"0 0 24 24\" fill=\"none\" stroke=\"currentColor\" stroke-width=\"2\" stroke-linecap=\"round\" stroke-linejoin=\"round\"><polygon points=\"12 2 15.09 8.26 22 9.27 17 14.14 18.18 21.02 12 17.77 5.82 21.02 7 14.14 2 9.27 8.91 8.26 12 2\"></polygon></svg></span></div></div> <div class=\"recommendation-group\"><h5>Recommendation: </h5> <h5 class=\"recommendation\">Strong Buy</h5></div></div> <div class=\"dropdown\" data-v-ac21efe0><button id=\"downloads-button\" class=\"global-button2\" data-v-ac21efe0><svg xmlns=\"http://www.w3.org/2000/svg\" width=\"50\" height=\"50\" viewBox=\"0 0 512 512\" data-v-ac21efe0><title data-v-ac21efe0>ionicons-v5-f</title><path d=\"M320,336h76c55,0,100-21.21,100-75.6s-53-73.47-96-75.6C391.11,99.74,329,48,256,48c-69,0-113.44,45.79-128,91.2-60,5.7-112,35.88-112,98.4S70,336,136,336h56\" style=\"fill:none;stroke:#000;stroke-linecap:round;stroke-linejoin:round;stroke-width:32px\" data-v-ac21efe0></path><polyline points=\"192 400.1 256 464 320 400.1\" style=\"fill:none;stroke:#000;stroke-linecap:round;stroke-linejoin:round;stroke-width:32px\" data-v-ac21efe0></polyline><line x1=\"256\" y1=\"224\" x2=\"256\" y2=\"448.03\" style=\"fill:none;stroke:#000;stroke-linecap:round;stroke-linejoin:round;stroke-width:32px\" data-v-ac21efe0></line></svg> <h6 class=\"bold\" data-v-ac21efe0>Downloads</h6> <svg xmlns=\"http://www.w3.org/2000/svg\" width=\"24\" height=\"24\" viewBox=\"0 0 24 24\" fill=\"none\" stroke=\"currentColor\" stroke-width=\"2\" stroke-linecap=\"round\" stroke-linejoin=\"round\" data-v-ac21efe0><polyline points=\"6 9 12 15 18 9\" data-v-ac21efe0></polyline></svg></button> <!----></div></div> <div class=\"financial-summary\"><table class=\"table\"><tbody slot=\"body\"><tr><th>Symbol</th> <td>AAPL</td></tr> <tr><th>Price</th> <td>$148.79 </td></tr> <tr><th>Beta</th> <td>1.247</td></tr> <tr><th>Volume Avg.</th> <td>89.98M</td></tr> <tr><th>Market Cap</th> <td>2.367T</td></tr> <tr><th>Shares ()</th> <td>-</td></tr> <tr><th>52 Week Range</th> <td>129.04-182.94</td></tr> <tr><th>1y Target Est</th> <td>-</td></tr></tbody></table> <table class=\"table\"><tbody slot=\"body\"><tr><th>DCF Unlevered</th> <td><a href=\"/discounted-cash-flow-model/AAPL\">AAPL DCF -&gt;</a></td> <td class=\"text-red\"></td></tr> <tr><th>DCF Levered</th> <td><a href=\"/discounted-cash-flow-model-levered/AAPL\">AAPL LDCF -&gt;</a></td> <td class=\"text-red\"></td></tr> <tr><th>ROE</th> <td><span>160.90%</span></td> <td class=\"text-green\">Strong Buy</td></tr> <tr><th>ROA</th> <td><span>28.29%</span></td> <td class=\"text-green\">Buy</td></tr> <tr><th>Operating Margin</th> <td><span>-</span></td> <td class=\"text-red\"></td></tr> <tr><th>Debt / Equity</th> <td><span>596.15%</span></td> <td class=\"text-green\">Strong Buy</td></tr> <tr><th>P/E</th> <td>24.35</td> <td class=\"text-green\">Strong Buy</td></tr> <tr><th>P/B</th> <td>47.07</td> <td class=\"text-green\">Strong Buy</td></tr></tbody></table></div></div> <div no-ssr=\"true\" id=\"graph\" class=\"graph-container\"><div class=\"loading\"></div> <!----> <div id=\"chart-container\" class=\"chart-stock hidden-chart\" style=\"height:380px;\"></div></div></div> <div class=\"company-stats\"><div class=\"financials\"><div class=\"financials__heading\"><h3><a href=\"/financial-statements/AAPL\">Financials</a></h3> <!----></div> <div class=\"financials__period\"><h6 class=\"active\">Annual</h6> <h6>Quarter</h6></div> <div class=\"loading\"></div> <!----></div> <div class=\"financials earnings\"><div class=\"financials__heading\"><h3>Earnings</h3> <div class=\"financials__legend\"><div class=\"financials__legend-item\"><div class=\"consensus\"></div> <h6>Consensus EPS</h6></div></div></div> <div class=\"loading\"></div> <!----></div> <div class=\"financials upgrades\"><div class=\"financials__heading\"><h3>Upgrades &amp; Downgrades</h3></div>  <div class=\"loading\"></div></div></div> <div class=\"articles\"><h2>Latest AAPL news</h2> <div><a href=\"https://247wallst.com/investing/2022/11/16/can-apple-squeeze-meta-out-of-the-metaverse-headset-plans-revealed/\" target=\"_blank\" class=\"article\" data-v-79849e52><div class=\"article__img\" data-v-79849e52><img loading=\"lazy\" src=\"https://cdn.snapi.dev/images/v1/i/a/urlhttps3a2f2fgfoolcdncom2feditorial2fimages2f7080922fvirtual-reality-headset-oculusjpgopresizew400h400-1626916-1641085.jpg\" alt=\"Can Apple Squeeze Meta Out of the Metaverse? Headset Plans Revealed\" data-v-79849e52></div> <div class=\"article__rightside\" data-v-79849e52><div class=\"article__title\" data-v-79849e52><h4 class=\"article__title-text\" data-v-79849e52>Can Apple Squeeze Meta Out of the Metaverse? Headset Plans Revealed</h4> <div class=\"article__symbol-date\" data-v-79849e52><h5 class=\"article__symbol\" data-v-79849e52>AAPL</h5> <span class=\"article__square\" data-v-79849e52></span> <h5 class=\"article__date\" data-v-79849e52>16 November 2022</h5></div></div> <p class=\"article__text\" data-v-79849e52>Apple is looking for new talent to help build a 3D world for its yet-to-be-announced mixed-reality headset, recent job postings by the tech giant suggests.</p></div></a></div><div><a href=\"https://seekingalpha.com/article/4558564-apple-industry-giant-not-worth-the-price\" target=\"_blank\" class=\"article\" data-v-79849e52><div class=\"article__img\" data-v-79849e52><img loading=\"lazy\" src=\"https://cdn.snapi.dev/images/v1/u/d/image-1157988186-1640831.jpg\" alt=\"Apple: Industry Giant Not Worth The Price\" data-v-79849e52></div> <div class=\"article__rightside\" data-v-79849e52><div class=\"article__title\" data-v-79849e52><h4 class=\"article__title-text\" data-v-79849e52>Apple: Industry Giant Not Worth The Price</h4> <div class=\"article__symbol-date\" data-v-79849e52><h5 class=\"article__symbol\" data-v-79849e52>AAPL</h5> <span class=\"article__square\" data-v-79849e52></span> <h5 class=\"article__date\" data-v-79849e52>16 November 2022</h5></div></div> <p class=\"article__text\" data-v-79849e52>Apple Inc.'s financials are historically growing at below industry average rates; Seeking Alpha ranks growth at a &quot;D+&quot;. Apple insiders have significantly sold $810.145 million, possibly confirming dam...</p></div></a></div><div><a href=\"https://markets.businessinsider.com/news/stocks/stock-market-outlook-apple-key-year-end-rally-sustainable-aapl-2022-11\" target=\"_blank\" class=\"article\" data-v-79849e52><div class=\"article__img\" data-v-79849e52><img loading=\"lazy\" src=\"https://cdn.snapi.dev/images/v1/b/5/637527d9ca2f070018a6e2aeformatjpeg-1640636.jpg\" alt=\"Apple is key to determining whether the stock market can sustain a rally into year-end, Fairlead Strategies' Katie Stockton says\" data-v-79849e52></div> <div class=\"article__rightside\" data-v-79849e52><div class=\"article__title\" data-v-79849e52><h4 class=\"article__title-text\" data-v-79849e52>Apple is key to determining whether the stock market can sustain a rally into year-end, Fairlead Str...</h4> <div class=\"article__symbol-date\" data-v-79849e52><h5 class=\"article__symbol\" data-v-79849e52>AAPL</h5> <span class=\"article__square\" data-v-79849e52></span> <h5 class=\"article__date\" data-v-79849e52>16 November 2022</h5></div></div> <p class=\"article__text\" data-v-79849e52>At a current $2.3 trillion valuation, the iPhone maker represents about 7% and 13% of the S&amp;P 500 and Nasdaq 100, respectively.</p></div></a></div><div><a href=\"https://techcrunch.com/2022/11/16/apple-tv-to-launch-mls-season-pass-subscription-on-february-1/\" target=\"_blank\" class=\"article\" data-v-79849e52><div class=\"article__img\" data-v-79849e52><img loading=\"lazy\" src=\"https://cdn.snapi.dev/images/v1/a/p/apple-tv-mls-hero-bigjpglarge-2x-1640571.jpg\" alt=\"Apple TV to launch ‘MLS Season Pass' subscription on February 1\" data-v-79849e52></div> <div class=\"article__rightside\" data-v-79849e52><div class=\"article__title\" data-v-79849e52><h4 class=\"article__title-text\" data-v-79849e52>Apple TV to launch ‘MLS Season Pass' subscription on February 1</h4> <div class=\"article__symbol-date\" data-v-79849e52><h5 class=\"article__symbol\" data-v-79849e52>AAPL</h5> <span class=\"article__square\" data-v-79849e52></span> <h5 class=\"article__date\" data-v-79849e52>16 November 2022</h5></div></div> <p class=\"article__text\" data-v-79849e52>Today, Apple announced the launch date and price of its upcoming subscription service for Major League Soccer (MLS) fans, “MLS Season Pass.” Starting February 1, 2023, subscribers in 100+ countries an...</p></div></a></div><div><a href=\"https://www.fool.com/investing/2022/11/16/3-reasons-to-buy-apple-stock-in-2023-and-never-sel/\" target=\"_blank\" class=\"article\" data-v-79849e52><div class=\"article__img\" data-v-79849e52><img loading=\"lazy\" src=\"https://cdn.snapi.dev/images/v1/u/r/urlhttps3a2f2fgfoolcdncom2feditorial2fimages2f7093302fgettyimages-516246050jpgopresizew400h400-1640567.jpg\" alt=\"3 Reasons to Buy Apple Stock in 2023 -- And Never Sell\" data-v-79849e52></div> <div class=\"article__rightside\" data-v-79849e52><div class=\"article__title\" data-v-79849e52><h4 class=\"article__title-text\" data-v-79849e52>3 Reasons to Buy Apple Stock in 2023 -- And Never Sell</h4> <div class=\"article__symbol-date\" data-v-79849e52><h5 class=\"article__symbol\" data-v-79849e52>AAPL</h5> <span class=\"article__square\" data-v-79849e52></span> <h5 class=\"article__date\" data-v-79849e52>16 November 2022</h5></div></div> <p class=\"article__text\" data-v-79849e52>Apple is as reliable as they come.</p></div></a></div><div><a href=\"https://www.cnbc.com/2022/11/16/iphone-14-pro-ship-times-slip-past-christmas-.html\" target=\"_blank\" class=\"article\" data-v-79849e52><div class=\"article__img\" data-v-79849e52><img loading=\"lazy\" src=\"https://cdn.snapi.dev/images/v1/y/g/107138203-1666284589501-gettyimages-1244103642-s-kogiku-20102022-0x7a7964-1640540.jpeg\" alt=\"iPhone 14 Pro ship times slip past Christmas weeks after Apple warned of production issues\" data-v-79849e52></div> <div class=\"article__rightside\" data-v-79849e52><div class=\"article__title\" data-v-79849e52><h4 class=\"article__title-text\" data-v-79849e52>iPhone 14 Pro ship times slip past Christmas weeks after Apple warned of production issues</h4> <div class=\"article__symbol-date\" data-v-79849e52><h5 class=\"article__symbol\" data-v-79849e52>AAPL</h5> <span class=\"article__square\" data-v-79849e52></span> <h5 class=\"article__date\" data-v-79849e52>16 November 2022</h5></div></div> <p class=\"article__text\" data-v-79849e52>iPhone 14 Pro and iPhone 14 Pro Max ship times in the U.S. have started slipping past Christmas, according to Apple's website and financial analysts.</p></div></a></div><div><a href=\"https://seekingalpha.com/article/4558460-why-apple-is-the-only-faang-stock-worth-buying\" target=\"_blank\" class=\"article\" data-v-79849e52><div class=\"article__img\" data-v-79849e52><img loading=\"lazy\" src=\"https://cdn.snapi.dev/images/v1/8/g/image-1328978452-1640417.jpg\" alt=\"Why Apple Is The Only FAANG Stock Worth Buying\" data-v-79849e52></div> <div class=\"article__rightside\" data-v-79849e52><div class=\"article__title\" data-v-79849e52><h4 class=\"article__title-text\" data-v-79849e52>Why Apple Is The Only FAANG Stock Worth Buying</h4> <div class=\"article__symbol-date\" data-v-79849e52><h5 class=\"article__symbol\" data-v-79849e52>AAPL</h5> <span class=\"article__square\" data-v-79849e52></span> <h5 class=\"article__date\" data-v-79849e52>16 November 2022</h5></div></div> <p class=\"article__text\" data-v-79849e52>Apple is down 16%, yet it's the best FAANG(+) stock on the market, protecting investors against mayhem experienced in other growth stocks. Thanks to its advanced supply chains, successful products, an...</p></div></a></div><div><a href=\"https://www.cnbc.com/2022/11/16/apple-just-completely-redesigned-icloudcom-and-it-looks-a-lot-better.html\" target=\"_blank\" class=\"article\" data-v-79849e52><div class=\"article__img\" data-v-79849e52><img loading=\"lazy\" src=\"https://cdn.snapi.dev/images/v1/y/7/107152826-1668621734778-icloud-1640413.jpg\" alt=\"Apple just completely redesigned iCloud.com and it looks a lot better\" data-v-79849e52></div> <div class=\"article__rightside\" data-v-79849e52><div class=\"article__title\" data-v-79849e52><h4 class=\"article__title-text\" data-v-79849e52>Apple just completely redesigned iCloud.com and it looks a lot better</h4> <div class=\"article__symbol-date\" data-v-79849e52><h5 class=\"article__symbol\" data-v-79849e52>AAPL</h5> <span class=\"article__square\" data-v-79849e52></span> <h5 class=\"article__date\" data-v-79849e52>16 November 2022</h5></div></div> <p class=\"article__text\" data-v-79849e52>On Wednesday, Apple unveiled a new design of iCloud.com featuring customizable widgets.</p></div></a></div><div><a href=\"https://seekingalpha.com/article/4558450-can-apple-dodge-a-holiday-quarter-disaster\" target=\"_blank\" class=\"article\" data-v-79849e52><div class=\"article__img\" data-v-79849e52><img loading=\"lazy\" src=\"https://cdn.snapi.dev/images/v1/p/g/image-468537922-1640400.jpg\" alt=\"Can Apple Dodge A Holiday Quarter Disaster?\" data-v-79849e52></div> <div class=\"article__rightside\" data-v-79849e52><div class=\"article__title\" data-v-79849e52><h4 class=\"article__title-text\" data-v-79849e52>Can Apple Dodge A Holiday Quarter Disaster?</h4> <div class=\"article__symbol-date\" data-v-79849e52><h5 class=\"article__symbol\" data-v-79849e52>AAPL</h5> <span class=\"article__square\" data-v-79849e52></span> <h5 class=\"article__date\" data-v-79849e52>16 November 2022</h5></div></div> <p class=\"article__text\" data-v-79849e52>Apple continues to trade at a premium to its peers and the broader market despite looming macro headwinds that will likely hit consumer sectors hardest. With the recent return of COVID lockdowns in ke...</p></div></a></div><div><a href=\"https://www.youtube.com/watch?v=q79vm33KTH0\" target=\"_blank\" class=\"article\" data-v-79849e52><div class=\"article__img\" data-v-79849e52><img loading=\"lazy\" src=\"https://cdn.snapi.dev/images/v1/x/v/apple-to-buy-us-made-chips-from-tsmc-in-supply-chain-pivot-1640232.jpg\" alt=\"Apple to buy U.S.-made chips from TSMC in supply chain pivot\" data-v-79849e52></div> <div class=\"article__rightside\" data-v-79849e52><div class=\"article__title\" data-v-79849e52><h4 class=\"article__title-text\" data-v-79849e52>Apple to buy U.S.-made chips from TSMC in supply chain pivot</h4> <div class=\"article__symbol-date\" data-v-79849e52><h5 class=\"article__symbol\" data-v-79849e52>AAPL</h5> <span class=\"article__square\" data-v-79849e52></span> <h5 class=\"article__date\" data-v-79849e52>16 November 2022</h5></div></div> <p class=\"article__text\" data-v-79849e52>Yahoo Finance's Daniel Howley joins the Live show to discuss reports that Apple will buy U.S.-made chips from Taiwan Semiconductor.</p></div></a></div></div> <div id=\"company-profile\"><div id=\"company-profile-wrapper\"><div class=\"company-profile-bottom\"><div class=\"company-profile-block full\"><div class=\"company-profile-title\"><h3>About</h3> <a title=\"Download AAPL profile as excel spreadsheet\" href=\"/login?redirect=homepage\" class=\"global-button2\">Download (Excel)</a></div> <hr> <div class=\"wrapper\"><div><label>CEO</label> <div class=\"info\">Mr. Timothy Cook</div></div> <div><label>Sector</label> <div class=\"info\">Technology</div></div> <div><label>Industry</label> <div class=\"info\">Consumer Electronics</div></div> <div><label>Website</label> <div class=\"info\"><a href=\"https://www.apple.com\">https://www.apple.com</a></div></div> <div><label>Exchange</label> <div class=\"info\">NASDAQ Global Select</div></div></div> <div><label>Description</label> <p>Apple Inc. designs, manufactures, and markets smartphones, personal computers, tablets, wearables, and accessories worldwide. It also sells various related services. In addition, the company offers iPhone, a line of smartphones; Mac, a line of personal computers; iPad, a line of multi-purpose tablets; and wearables, home, and accessories comprising AirPods, Apple TV, Apple Watch, Beats products, and HomePod. Further, it provides AppleCare support and cloud services store services; and operates various platforms, including the App Store that allow customers to discover and download applications and digital content, such as books, music, video, games, and podcasts. Additionally, the company offers various services, such as Apple Arcade, a game subscription service; Apple Fitness+, a personalized fitness service; Apple Music, which offers users a curated listening experience with on-demand radio stations; Apple News+, a subscription news and magazine service; Apple TV+, which offers exclusive original content; Apple Card, a co-branded credit card; and Apple Pay, a cashless payment service, as well as licenses its intellectual property. The company serves consumers, and small and mid-sized businesses; and the education, enterprise, and government markets. It distributes third-party applications for its products through the App Store. The company also sells its products through its retail and online stores, and direct sales force; and third-party cellular network carriers, wholesalers, retailers, and resellers. Apple Inc. was incorporated in 1977 and is headquartered in Cupertino, California.</p></div></div></div> <div class=\"company-profile-bottom\"><div class=\"company-profile-block\"><h3>Market Information</h3> <hr> <a href=\"/stock-value/AAPL\" title=\"View Apple Inc. Stock Value\" class=\"link-button\">\n",
            "                        Stock Value &gt;\n",
            "                    </a></div> <div class=\"company-profile-block\"><h3>Financial Information</h3> <hr> <a href=\"/financial-summary/AAPL\" title=\"View Apple Inc. Financial Summary\" class=\"link-button\">\n",
            "                        Financial Summary &gt;\n",
            "                    </a><a href=\"/financial-statements/AAPL\" title=\"View Apple Inc. Financial Statements\" class=\"link-button\">\n",
            "                        Financial Statements &gt;\n",
            "                    </a><a href=\"/financial-statements-quarterly/AAPL\" title=\"View Apple Inc. Financial Quarter Statements\" class=\"link-button\">\n",
            "                        Financial Quarter Statements &gt;\n",
            "                    </a><a href=\"/financial-ratios/AAPL\" title=\"View Apple Inc. Ratios Analysis\" class=\"link-button\">\n",
            "                        Ratios Analysis &gt;\n",
            "                    </a><a href=\"/dupont-ratios-analysis/AAPL\" title=\"View Apple Inc. Dupont Analysis\" class=\"link-button\">\n",
            "                        Dupont Analysis &gt;\n",
            "                    </a><a href=\"/free-cash-flow/AAPL\" title=\"View Apple Inc. Free Cash Flow\" class=\"link-button\">\n",
            "                        Free Cash Flow &gt;\n",
            "                    </a><a href=\"/operating-data/AAPL\" title=\"View Apple Inc. Operating Data\" class=\"link-button\">\n",
            "                        Operating Data &gt;\n",
            "                    </a><a href=\"/balance-sheet-data/AAPL\" title=\"View Apple Inc. Balance Sheet Data\" class=\"link-button\">\n",
            "                        Balance Sheet Data &gt;\n",
            "                    </a></div> <div class=\"company-profile-block\"><h3>Financial Modelling</h3> <hr> <a href=\"/discounted-cash-flow-model/AAPL\" title=\"View Apple Inc. Discounted Cash Flow Model\" class=\"link-button\">\n",
            "                        Discounted Cash Flow Model &gt;\n",
            "                    </a><a href=\"/discounted-cash-flow-model-levered/AAPL\" title=\"View Apple Inc. Discounted Cash Flow Model Levered\" class=\"link-button\">\n",
            "                        Discounted Cash Flow Model Levered &gt;\n",
            "                    </a><a href=\"/free-cash-flow-build-up/AAPL\" title=\"View Apple Inc. Free Cash Flow Build Up\" class=\"link-button\">\n",
            "                        Free Cash Flow Build Up &gt;\n",
            "                    </a><a href=\"/terminal-value/AAPL\" title=\"View Apple Inc. Terminal Value\" class=\"link-button\">\n",
            "                        Terminal Value &gt;\n",
            "                    </a><a href=\"/equity-value/AAPL\" title=\"View Apple Inc. Intrinsic Value\" class=\"link-button\">\n",
            "                        Intrinsic Value &gt;\n",
            "                    </a><a href=\"/weighted-average-cost-of-capital/AAPL\" title=\"View Apple Inc. Weighted Average Cost of Capital\" class=\"link-button\">\n",
            "                        Weighted Average Cost of Capital &gt;\n",
            "                    </a></div></div></div></div></div> <div class=\"similar-stocks other-stocks\"><!----> <div class=\"block-section stocks-list\" data-v-af03807a><div class=\"block-head\" data-v-af03807a><div class=\"block-title\" data-v-af03807a>People also watch</div> <!----></div> <div class=\"block-content\" data-v-af03807a><a href=\"/financial-summary/ADBE\" title=\"See Adobe Inc. realtime prices\" class=\"block-item-small\"><h5 class=\"block-item-small-name\">ADBE</h5> <div class=\"block-item-small-change align-center text-red\"><h5>\n",
            "                -2.18%\n",
            "            </h5></div> <h5 class=\"block-item-small-price align-right\">$338.41</h5></a><a href=\"/financial-summary/ASML\" title=\"See ASML Holding N.V. realtime prices\" class=\"block-item-small\"><h5 class=\"block-item-small-name\">ASML</h5> <div class=\"block-item-small-change align-center text-red\"><h5>\n",
            "                -3.48%\n",
            "            </h5></div> <h5 class=\"block-item-small-price align-right\">$576.70</h5></a><a href=\"/financial-summary/CSCO\" title=\"See Cisco Systems, Inc. realtime prices\" class=\"block-item-small\"><h5 class=\"block-item-small-name\">CSCO</h5> <div class=\"block-item-small-change align-center text-red\"><h5>\n",
            "                -1.14%\n",
            "            </h5></div> <h5 class=\"block-item-small-price align-right\">$44.39</h5></a><a href=\"/financial-summary/INTC\" title=\"See Intel Corporation realtime prices\" class=\"block-item-small\"><h5 class=\"block-item-small-name\">INTC</h5> <div class=\"block-item-small-change align-center text-red\"><h5>\n",
            "                -3.84%\n",
            "            </h5></div> <h5 class=\"block-item-small-price align-right\">$29.53</h5></a><a href=\"/financial-summary/MSFT\" title=\"See Microsoft Corporation realtime prices\" class=\"block-item-small\"><h5 class=\"block-item-small-name\">MSFT</h5> <div class=\"block-item-small-change align-center text-green\"><h5>\n",
            "                +0.18%\n",
            "            </h5></div> <h5 class=\"block-item-small-price align-right\">$241.73</h5></a><a href=\"/financial-summary/NVDA\" title=\"See NVIDIA Corporation realtime prices\" class=\"block-item-small\"><h5 class=\"block-item-small-name\">NVDA</h5> <div class=\"block-item-small-change align-center text-red\"><h5>\n",
            "                -4.54%\n",
            "            </h5></div> <h5 class=\"block-item-small-price align-right\">$159.10</h5></a><a href=\"/financial-summary/TXN\" title=\"See Texas Instruments Incorporated realtime prices\" class=\"block-item-small\"><h5 class=\"block-item-small-name\">TXN</h5> <div class=\"block-item-small-change align-center text-red\"><h5>\n",
            "                -2.31%\n",
            "            </h5></div> <h5 class=\"block-item-small-price align-right\">$173.46</h5></a></div></div></div></div></div></div> <footer class=\"footer\" data-v-551d2779><div class=\"footer__social\" data-v-551d2779><div class=\"footer__logo\" data-v-551d2779><span data-v-551d2779>FMP</span> <!----></div></div> <div class=\"footer__menu\" data-v-551d2779><ul data-v-551d2779><li class=\"heading\" data-v-551d2779>FMP</li> <li data-v-551d2779><a href=\"/\" data-v-551d2779>Home</a></li> <li data-v-551d2779><a href=\"/privacy-policy\" data-v-551d2779>Privacy Policy</a></li> <li data-v-551d2779><a href=\"/terms-of-service\" data-v-551d2779>Terms of Service</a></li> <li data-v-551d2779><a href=\"https://fmpcloud.io/\" data-v-551d2779>FmpCloud.io</a></li> <li data-v-551d2779><a href=\"/contact\" data-v-551d2779>Contact Us</a></li></ul> <ul data-v-551d2779><li class=\"heading\" data-v-551d2779>API</li> <li data-v-551d2779><a href=\"/developer\" data-v-551d2779>Home</a></li> <li data-v-551d2779><a href=\"/developer/docs\" data-v-551d2779>Documentation</a></li> <li data-v-551d2779><a href=\"/developer/docs/pricing\" data-v-551d2779>Pricing</a></li> <li data-v-551d2779><a href=\"/developer/docs/resources\" data-v-551d2779>Resources</a></li> <li data-v-551d2779><a href=\"/developer/docs/changelog\" data-v-551d2779>Changelog</a></li> <li data-v-551d2779><a href=\"/developer/docs/formula\" data-v-551d2779>Formulas</a></li> <li data-v-551d2779><a href=\"/developer/docs/status\" data-v-551d2779>Status</a></li> <li data-v-551d2779><a href=\"/developer/docs/terms-of-service\" data-v-551d2779>Terms of Service</a></li> <li data-v-551d2779><a href=\"/developer/docs/blog\" data-v-551d2779>Blog</a></li></ul></div> <p data-v-551d2779>\n",
            "        Financial Modeling Prep is a new concept that informs you about stock markets information (news, currencies and stock prices). We always strive to give you the best and most updated information. We also gives you free financial modeling methodology through our academy. Most investment banking firms follow our guidelines to get discounted cash flow statement of companies to see if they are undervalued, overvalued or simply at par value. You can find all financial models and valuation techniques that is used in corporate finance to get companies intrinsic valuation. Most private equity firm use financial modeling for decision making when it comes to hold, buy or sell a particular stock.\n",
            "    </p> <div class=\"footer__bottom\" data-v-551d2779><h5 class=\"footer__copy\" data-v-551d2779>2017-2022 © Financial Modeling Prep</h5> <div class=\"footer__icons\" data-v-551d2779><a target=\"_blank\" rel=\"noopener\" aria-label=\"Twitter\" href=\"https://twitter.com/financial_mod\" data-v-551d2779><svg xmlns=\"http://www.w3.org/2000/svg\" viewBox=\"0 0 24 24\" fill=\"none\" stroke=\"currentColor\" stroke-width=\"2\" stroke-linecap=\"round\" stroke-linejoin=\"round\" data-v-551d2779><path d=\"M23 3a10.9 10.9 0 0 1-3.14 1.53 4.48 4.48 0 0 0-7.86 3v1A10.66 10.66 0 0 1 3 4s-4 9 5 13a11.64 11.64 0 0 1-7 2c9 5 20 0 20-11.5a4.5 4.5 0 0 0-.08-.83A7.72 7.72 0 0 0 23 3z\"></path></svg></a> <a target=\"_blank\" rel=\"noopener\" aria-label=\"Facebook\" href=\"https://www.facebook.com/financialmodelingprep/\" data-v-551d2779><svg xmlns=\"http://www.w3.org/2000/svg\" width=\"24\" height=\"24\" viewBox=\"0 0 24 24\" fill=\"none\" stroke=\"currentColor\" stroke-width=\"2\" stroke-linecap=\"round\" stroke-linejoin=\"round\" data-v-551d2779><path d=\"M18 2h-3a5 5 0 0 0-5 5v3H7v4h3v8h4v-8h3l1-4h-4V7a1 1 0 0 1 1-1h3z\"></path></svg></a> <a target=\"_blank\" rel=\"noopener\" aria-label=\"Instagram\" href=\"https://www.instagram.com/financialmodelingprep/\" data-v-551d2779><svg xmlns=\"http://www.w3.org/2000/svg\" width=\"24\" height=\"24\" viewBox=\"0 0 24 24\" fill=\"none\" stroke=\"currentColor\" stroke-width=\"2\" stroke-linecap=\"round\" stroke-linejoin=\"round\" data-v-551d2779><rect x=\"2\" y=\"2\" width=\"20\" height=\"20\" rx=\"5\" ry=\"5\"></rect><path d=\"M16 11.37A4 4 0 1 1 12.63 8 4 4 0 0 1 16 11.37z\"></path><line x1=\"17.5\" y1=\"6.5\" x2=\"17.51\" y2=\"6.5\"></line></svg></a> <a target=\"_blank\" rel=\"noopener\" aria-label=\"LinkedIn\" href=\"https://www.linkedin.com/company/financial-modeling-prep\" data-v-551d2779><svg xmlns=\"http://www.w3.org/2000/svg\" viewBox=\"0 0 24 24\" fill=\"none\" stroke=\"currentColor\" stroke-width=\"2\" stroke-linecap=\"round\" stroke-linejoin=\"round\" data-v-551d2779><path d=\"M16 8a6 6 0 0 1 6 6v7h-4v-7a2 2 0 0 0-2-2 2 2 0 0 0-2 2v7h-4v-7a6 6 0 0 1 6-6z\"></path><rect x=\"2\" y=\"9\" width=\"4\" height=\"12\"></rect><circle cx=\"4\" cy=\"4\" r=\"2\"></circle></svg></a></div></div></footer></div></div></div><script>window.__NUXT__=(function(a,b,c,d,e,f,g,h,i,j,k,l,m,n,o,p,q,r,s,t,u,v,w,x,y,z,A,B,C,D,E,F,G,H,I,J,K,L,M,N,O,P,Q,R,S,T,U,V,W,X,Y,Z,_,$,aa,ab,ac,ad,ae,af,ag,ah,ai,aj,ak,al,am,an,ao,ap,aq,ar,as,at,au,av,aw,ax,ay,az,aA,aB,aC,aD,aE,aF,aG,aH,aI,aJ,aK,aL,aM,aN,aO,aP,aQ,aR,aS){q[0]={dividendYielTTM:T,dividendYielPercentageTTM:.6116002419517441,peRatioTTM:P,pegRatioTTM:U,payoutRatioTTM:.14616442010761202,currentRatioTTM:.8793560286267226,quickRatioTTM:.7094075930952969,cashRatioTTM:.15356340351469652,daysOfSalesOutstandingTTM:56.400204905560855,daysOfInventoryOutstandingTTM:8.07569806661716,operatingCycleTTM:21.982597906344495,daysOfPayablesOutstandingTTM:104.6852773031054,cashConversionCycleTTM:-46.29380438111839,grossProfitMarginTTM:.43309630561360085,operatingProfitMarginTTM:V,pretaxProfitMarginTTM:.30204043334482966,netProfitMarginTTM:.2530964070519973,effectiveTaxRateTTM:.16204461684424407,returnOnAssetsTTM:.2829244092925685,returnOnEquityTTM:1.6090121317157713,returnOnCapitalEmployedTTM:.6008713457059057,netIncomePerEBTTTM:.8379553831557559,ebtPerEbitTTM:.997203546639651,ebitPerRevenueTTM:V,debtRatioTTM:.8563535598361469,debtEquityRatioTTM:5.961536943479634,longTermDebtToCapitalizationTTM:.6613535965140913,totalDebtToCapitalizationTTM:.7032230102904399,interestCoverageTTM:40.74957352439441,cashFlowToDebtRatioTTM:W,companyEquityMultiplierTTM:6.961536943479634,receivablesTurnoverTTM:6.471607693822622,payablesTurnoverTTM:3.486641191608828,inventoryTurnoverTTM:45.19733117670845,fixedAssetTurnoverTTM:9.362680152907377,assetTurnoverTTM:1.1178523337727317,operatingCashFlowPerShareTTM:7.619968133011428,freeCashFlowPerShareTTM:6.951986546546427,cashPerShareTTM:3.0132781614312125,operatingCashFlowSalesRatioTTM:.30977003915522106,freeCashFlowOperatingCashFlowRatioTTM:.9123380078754983,cashFlowCoverageRatiosTTM:W,shortTermCoverageRatiosTTM:5.786404547607769,capitalExpenditureCoverageRatioTTM:11.407452372058275,dividendPaidAndCapexCoverageRatioTTM:11.407452371088832,priceBookValueRatioTTM:r,priceToBookRatioTTM:r,priceToSalesRatioTTM:X,priceEarningsRatioTTM:23.898685788803945,priceToFreeCashFlowsRatioTTM:21.40251552614341,priceToOperatingCashFlowsRatioTTM:Y,priceCashFlowRatioTTM:Y,priceEarningsToGrowthRatioTTM:U,priceSalesRatioTTM:X,dividendYieldTTM:T,enterpriseValueMultipleTTM:18.639182936351755,priceFairValueTTM:r,dividendPerShareTTM:B};return {layout:\"default\",data:[{symbol:i}],fetch:{},error:g,state:{userStore:g,academyLessons:{},balanceSheetStatement:{config:{reportedCurrency:{apiProp:p,label:f,roundTo:b,fixed:a},totalAssets:{apiProp:\"totalAssets\",label:\"Total assets\",roundTo:b,fixed:a,boldText:c},totalCurrentAssets:{apiProp:\"totalCurrentAssets\",label:\"Total Current Assets\",roundTo:b,fixed:a,leftPadding:c},cashAndShortTermInvestments:{apiProp:\"cashAndShortTermInvestments\",label:\"Cash and Short Term Investments\",roundTo:b,fixed:a,leftPaddingBig:c},cashAndCashEquivalents:{apiProp:\"cashAndCashEquivalents\",label:\"Cash and cash equivalents\",roundTo:b,fixed:a,leftPaddingBig2:c},shortTermInvestments:{apiProp:\"shortTermInvestments\",label:\"Short Term Investments\",roundTo:b,fixed:a,leftPaddingBig2:c},receivables:{apiProp:\"netReceivables\",label:\"Receivables\",roundTo:b,fixed:a,leftPaddingBig:c},inventories:{apiProp:v,label:w,roundTo:b,fixed:a,leftPaddingBig:c},otherCurrentAssets:{apiProp:\"otherCurrentAssets\",label:\"Other Current Assets\",roundTo:b,fixed:a,leftPaddingBig:c},totalNonCurrentAssets:{apiProp:\"totalNonCurrentAssets\",label:\"Total non-current Assets\",roundTo:b,fixed:a,leftPadding:c},propertyPlantEquipmentNet:{apiProp:\"propertyPlantEquipmentNet\",label:\"Property, Plant & Equipment Net\",roundTo:b,fixed:a,leftPaddingBig:c},goodwillAndIntangibleAssets:{apiProp:\"goodwillAndIntangibleAssets\",label:\"Goodwill and Intangible Assets\",roundTo:b,fixed:a,leftPaddingBig:c},goodwill:{apiProp:\"goodwill\",label:\"Goodwill\",roundTo:b,fixed:a,leftPaddingBig2:c},intangibleAssets:{apiProp:\"intangibleAssets\",label:\"Intangible Assets\",roundTo:b,fixed:a,leftPaddingBig2:c},longTermInvestments:{apiProp:\"longTermInvestments\",label:\"Long Term Investments\",roundTo:b,fixed:a,leftPaddingBig:c},otherNonCurrentAssets:{apiProp:\"otherNonCurrentAssets\",label:\"Other non-current Assets\",roundTo:b,fixed:a,leftPaddingBig:c},otherAssets:{apiProp:\"otherAssets\",label:\"Other Assets\",roundTo:b,fixed:a,leftPadding:c},totalLiabilities:{apiProp:\"totalLiabilities\",label:\"Total liabilities\",roundTo:b,fixed:a,boldText:c},totalCurrentLiabilities:{apiProp:\"totalCurrentLiabilities\",label:\"Total current liabilities\",roundTo:b,fixed:a,leftPadding:c},accountsPayable:{apiProp:\"accountPayables\",label:\"Payables\",roundTo:b,fixed:a,leftPaddingBig:c},shortTermDebt:{apiProp:\"shortTermDebt\",label:\"Short Term debt\",roundTo:b,fixed:a,leftPaddingBig:c},deferredRevenue:{apiProp:\"deferredRevenue\",label:\"Deferred revenue\",roundTo:b,fixed:a,leftPaddingBig:c},otherCurrentLiabilities:{apiProp:\"otherCurrentLiabilities\",label:\"Other Current Liabilities\",roundTo:b,fixed:a,leftPaddingBig:c},totalNonCurrentLiabilities:{apiProp:\"totalNonCurrentLiabilities\",label:\"Total non-current liabilities\",roundTo:b,fixed:a,leftPadding:c},longTermDebt:{apiProp:\"longTermDebt\",label:\"Long Term debt\",roundTo:b,fixed:a,leftPaddingBig:c},otherNonCurrentLiabilities:{apiProp:\"otherNonCurrentLiabilities\",label:\"Other non-current Liabilities\",roundTo:b,fixed:a,leftPaddingBig:c},totalStockholdersEquity:{apiProp:\"totalStockholdersEquity\",label:\"Total shareholders equity\",roundTo:b,fixed:a,boldText:c},commonStock:{apiProp:\"commonStock\",label:\"Common Stock\",roundTo:b,fixed:a,leftPadding:c},retainedEarnings:{apiProp:\"retainedEarnings\",label:\"Retained earnings\",roundTo:b,fixed:a,leftPadding:c},accumulatedOtherComprehensiveIncomeLoss:{apiProp:\"accumulatedOtherComprehensiveIncomeLoss\",label:\"Accumulated Other Comprehensive Income Loss\",roundTo:b,fixed:a,leftPadding:c},othertotalStockholdersEquity:{apiProp:\"othertotalStockholdersEquity\",label:\"Other Stockholders Equity\",roundTo:b,fixed:a,leftPadding:c},totalDebt:{apiProp:\"totalDebt\",label:\"Total debt\",roundTo:b,fixed:a},totalInvestments:{apiProp:\"totalInvestments\",label:\"Total Investments\",roundTo:b,fixed:a},netDebt:{apiProp:\"netDebt\",label:\"Net Debt\",roundTo:b,fixed:a}},data:{},dataQuarter:{},currentRaw:[],current:{symbol:f,data:[]},currentQuarter:{symbol:f,data:[]},cache_tracker:{is_loading:d}},cashFlowStatement:{config:{reportedCurrency:{apiProp:p,label:f,roundTo:b,fixed:a},operatingCashFlow:{apiProp:\"operatingCashFlow\",label:\"Operating Cash Flow\",roundTo:b,fixed:a,boldText:c},netIncome:{apiProp:x,label:y,roundTo:b,fixed:a,leftPadding:c},depreciationAndAmortization:{apiProp:z,label:\"Depreciation & Amortization\",roundTo:b,fixed:a,leftPadding:c},deferredIncomeTax:{apiProp:\"deferredIncomeTax\",label:\"Deferred income taxes\",roundTo:b,fixed:a,leftPadding:c},stockBasedCompensation:{apiProp:\"stockBasedCompensation\",label:\"Stock-based compensation\",roundTo:b,fixed:a,leftPadding:c},changeInWorkingCapital:{apiProp:\"changeInWorkingCapital\",label:\"Change in working capital\",roundTo:b,fixed:a,leftPadding:c},otherNonCashItems:{apiProp:\"otherNonCashItems\",label:\"Other non-cash items\",roundTo:b,fixed:a,leftPadding:c},netCashUsedForInvestingActivites:{apiProp:\"netCashUsedForInvestingActivites\",label:\"Investing Cash Flow\",roundTo:b,fixed:a,boldText:c},investmentsInPropertyPlantAndEquipment:{apiProp:\"investmentsInPropertyPlantAndEquipment\",label:\"Investments in PPE\",roundTo:b,fixed:a,leftPadding:c},acquisitionsNet:{apiProp:\"acquisitionsNet\",label:\"Acquisitions\",roundTo:b,fixed:a,leftPadding:c},purchasesOfInvestments:{apiProp:\"purchasesOfInvestments\",label:\"Investment purchases\",roundTo:b,fixed:a,leftPadding:c},salesMaturitiesOfInvestments:{apiProp:\"salesMaturitiesOfInvestments\",label:\"Sales\\u002FMaturities of investments\",roundTo:b,fixed:a,leftPadding:c},otherInvestingActivites:{apiProp:\"otherInvestingActivites\",label:\"Other Investing Activites\",roundTo:b,fixed:a,leftPadding:c},netCashUsedProvidedByFinancingActivities:{apiProp:\"netCashUsedProvidedByFinancingActivities\",label:\"Financing Cash Flow\",roundTo:b,fixed:a,boldText:c},debtRepayment:{apiProp:\"debtRepayment\",label:\"Debt repayment\",roundTo:b,fixed:a,leftPadding:c},dividendsPaid:{apiProp:\"dividendsPaid\",label:\"Dividends payments\",roundTo:b,fixed:a,leftPadding:c},commonStockRepurchased:{apiProp:\"commonStockRepurchased\",label:\"Common Stock Repurchased\",roundTo:b,fixed:a,leftPadding:c},commonStockIssued:{apiProp:\"commonStockIssued\",label:\"Common Stock Issuance\",roundTo:b,fixed:a,leftPadding:c},otherFinancingActivites:{apiProp:\"otherFinancingActivites\",label:\"Other Financing Activites\",roundTo:b,fixed:a,leftPadding:c},accountsReceivables:{apiProp:\"accountsReceivables\",label:\"Accounts receivables\",roundTo:b,fixed:a},accountsPayables:{apiProp:\"accountsPayables\",label:\"Accounts payables\",roundTo:b,fixed:a},inventory:{apiProp:v,label:w,roundTo:b,fixed:a},otherWorkingCapital:{apiProp:\"otherWorkingCapital\",label:\"Other working capital\",roundTo:b,fixed:a},cashAtBeginningOfPeriod:{apiProp:\"cashAtBeginningOfPeriod\",label:\"Cash at beginning of period\",roundTo:b,fixed:a},cashAtEndOfPeriod:{apiProp:\"cashAtEndOfPeriod\",label:\"Cash at end of period\",roundTo:b,fixed:a},capitalExpenditure:{apiProp:\"capitalExpenditure\",label:\"Capital Expenditure\",roundTo:b,fixed:a},effectOfForexChangesOnCash:{apiProp:\"effectOfForexChangesOnCash\",label:\"Effect of forex changes on cash\",roundTo:b,fixed:a},netChangeInCash:{apiProp:\"netChangeInCash\",label:\"Net cash flow \\u002F Change in cash\",roundTo:b,fixed:a},freeCashFlow:{apiProp:\"freeCashFlow\",label:\"Free Cash Flow\",roundTo:b,fixed:a}},data:{},dataQuarter:{},currentRaw:[],current:{symbol:f,data:[]},currentQuarter:{symbol:f,data:[]},cache_tracker:{is_loading:d}},companyProfile:{config:{price:{apiProp:\"price\",label:\"Price\",roundTo:h,fixed:a},beta:{apiProp:\"beta\",label:\"Bela\",roundTo:h,fixed:a},volumeAverage:{apiProp:\"volAvg\",label:\"Volume Avrg\",roundTo:h,fixed:a},marketCap:{apiProp:\"mktCap\",label:\"Market Cap\",roundTo:h,fixed:a},lastDiv:{apiProp:\"lastDiv\",label:\"Last Div\",roundTo:h,fixed:a},range:{apiProp:\"range\",label:\"Range\",roundTo:h,fixed:a},priceChange:{apiProp:\"changes\",label:\"Price Change\",roundTo:h,fixed:a},priceChangePercent:{apiProp:\"changesPercentage\",label:\"Price Change (%)\",roundTo:h,fixed:a},companyName:{apiProp:\"companyName\",label:\"Company Name\",roundTo:h,fixed:a},exchange:{apiProp:\"exchange\",label:\"Exchange\",roundTo:h,fixed:a},industry:{apiProp:\"industry\",label:\"Industry\",roundTo:h,fixed:a},website:{apiProp:\"website\",label:\"Website\",roundTo:h,fixed:a},description:{apiProp:\"description\",label:\"Description\",roundTo:h,fixed:a},ceo:{apiProp:\"ceo\",label:\"CEO\",roundTo:h,fixed:a},sector:{apiProp:\"sector\",label:\"Sector\",roundTo:h,fixed:a},image:{apiProp:\"image\",label:\"Image\",roundTo:h,fixed:a}},current:{symbol:i,data:{symbol:i,price:A,beta:1.246644,volAvg:89979761,mktCap:2366966071296,lastDiv:B,range:C,changes:D,companyName:E,currency:k,cik:F,isin:G,cusip:H,exchange:l,exchangeShortName:j,industry:I,website:J,description:K,ceo:L,sector:o,country:\"US\",fullTimeEmployees:\"164000\",phone:\"14089961010\",address:\"1 Apple Park Way\",city:\"Cupertino\",state:\"CALIFORNIA\",zip:\"95014\",dcfDiff:M,dcf:N,image:O,ipoDate:\"1980-12-12\",defaultImage:d,isEtf:d,isActivelyTrading:c,isAdr:d,isFund:d,pe:P,changesPercentage:-.83311117}},cache_tracker:{is_loading:d,AAPL:1668673901027}},companyRating:{config:{rating:{apiProp:\"rating\",label:\"Rating\",roundTo:h,fixed:a},ratingDetails:{apiProp:\"ratingDetails\",label:\"Rating Details\",roundTo:h,fixed:a}},current:{symbol:i,data:{score:Q,rating:\"S\",recommendation:\"Strong Buy\"}},cache_tracker:{is_loading:d,AAPL:1668673900915}},discountedCashFlow:{is_loaded:d,current:{revenue:{dataStart:f,dataEnd:f,startValue:e},ebitda:{dataStart:f,dataEnd:f,startValue:e},depreciationAndAmortization:{dataStart:f,dataEnd:f,startValue:e},cashAndShortTermInvestments:{dataStart:f,dataEnd:f,startValue:e},receivables:{dataStart:f,dataEnd:f,startValue:e},inventories:{dataStart:f,dataEnd:f,startValue:e},accountsPayable:{dataStart:f,dataEnd:f,startValue:e},capitalExpenditure:{dataStart:f,dataEnd:f,startValue:e},operatingCashFlow:{dataStart:f,dataEnd:f,startValue:e},ebit:{dataStart:f,dataEnd:f,startValue:e},freeCashFlow:{dataStart:f,dataEnd:f,startValue:e}},years:[],wacc:{},taxRateAnnual:{},costOfDebt:Q,MRP:4.72,TBILL:2.46,longTermGrowthRate:a,deltas:[-4,-3,R,S,e,h,a,3,4],waccValues:[R,-1.5,S,-.5,e,.5,h,1.5,a],dcfDataSet:f,ufcfFinal:f,waccFinal:f,avrgShareOutstandingFinal:f},financialRatios:{data:{AAPL:q},currentRaw:q,current:{symbol:i,data:q},cache_tracker:{is_loading:d,AAPL:1668673900916}},incomeStatement:{config:{reportedCurrency:{apiProp:p,label:f,roundTo:b,fixed:a},revenue:{apiProp:\"revenue\",label:\"Revenue\",roundTo:b,fixed:a},costOfRevenue:{apiProp:\"costOfRevenue\",label:\"Cost of Revenue\",roundTo:b,fixed:a},grossProfit:{apiProp:\"grossProfit\",label:\"Gross Profit\",roundTo:b,fixed:a},operatingExpenses:{apiProp:\"operatingExpenses\",label:\"Operating Expenses\",roundTo:b,fixed:a,boldText:c},sellingGeneralAndAdministrativeExpenses:{apiProp:\"sellingGeneralAndAdministrativeExpenses\",label:\"Selling, General and Administrative Expenses\",roundTo:b,fixed:a,leftPadding:c},generalAndAdministrativeExpenses:{apiProp:\"generalAndAdministrativeExpenses\",label:\"General and Administrative Expenses\",roundTo:b,fixed:a,leftPaddingBig:c},sellingAndMarketingExpenses:{apiProp:\"sellingAndMarketingExpenses\",label:\"Selling and Marketing Expenses\",roundTo:b,fixed:a,leftPaddingBig:c},researchAndDevelopmentExpenses:{apiProp:\"researchAndDevelopmentExpenses\",label:\"Research and Development Expenses\",roundTo:b,fixed:a,leftPadding:c},otherExpenses:{apiProp:\"otherExpenses\",label:\"Other Expenses\",roundTo:b,fixed:a,leftPadding:c},costAndExpenses:{apiProp:\"costAndExpenses\",label:\"Cost and Expenses\",roundTo:b,fixed:a},depreciationAndAmortization:{apiProp:z,label:\"Depreciation and Amortization\",roundTo:b,fixed:a},operatingIncome:{apiProp:Z,label:\"Operating Income\",roundTo:b,fixed:a},interestExpense:{apiProp:\"interestExpense\",label:\"Interest Expense\",roundTo:b,fixed:a},incomeTaxExpense:{apiProp:\"incomeTaxExpense\",label:\"Income Tax Expense\",roundTo:b,fixed:a},incomeBeforeTax:{apiProp:\"incomeBeforeTax\",label:\"Earnings before Tax\",roundTo:b,fixed:a},netIncome:{apiProp:x,label:y,roundTo:b,fixed:a},eps:{apiProp:\"eps\",label:\"Earnings Per Share Basic\",roundTo:h,fixed:a},epsdiluted:{apiProp:\"epsdiluted\",label:\"Earnings Per Share Diluted\",roundTo:h,fixed:a},weightedAverageShsOut:{apiProp:\"weightedAverageShsOut\",label:\"Weighted Average Shares Outstanding\",roundTo:b,fixed:a},weightedAverageShsOutDil:{apiProp:\"weightedAverageShsOutDil\",label:\"Weighted Average Shares Outstanding (Diluted)\",roundTo:b,fixed:a},grossProfitRatio:{apiProp:\"grossProfitRatio\",label:\"Gross Margin\",roundTo:h,fixed:a},ebitdaratio:{apiProp:\"ebitdaratio\",label:\"EBIT Margin\",roundTo:h,fixed:a},netIncomeRatio:{apiProp:_,label:\"Profit Margin\",roundTo:h,fixed:a},ebitda:{apiProp:\"ebitda\",label:\"EBITDA\",roundTo:b,fixed:a},ebit:{apiProp:Z,label:\"EBIT\",roundTo:b,fixed:a},incomeBeforeTaxRatio:{apiProp:\"incomeBeforeTaxRatio\",label:\"Earnings Before Tax Margin\",roundTo:h,fixed:a},netProfitMargin:{apiProp:_,label:\"Net Profit Margin\",roundTo:h,fixed:a}},data:{},dataQuarter:{},currentRaw:[],current:{symbol:f,data:[]},currentQuarter:{symbol:f,data:[]},cache_tracker:{is_loading:d}},utils:{},v2:{market_info:{stockExchangeName:\"New York Stock Exchange\",stockMarketHours:{openingHour:\"09:30 a.m. ET\",closingHour:\"04:00 p.m. ET\"},stockMarketHolidays:[{year:2019,\"New Years Day\":\"2019-01-01\",\"Martin Luther King, Jr. Day\":\"2019-01-21\",\"Washington's Birthday\":\"2019-02-18\",\"Good Friday\":\"2019-04-19\",\"Memorial Day\":\"2019-05-27\",\"Juneteenth National Independence Day\":g,\"Independence Day\":\"2019-07-04\",\"Labor Day\":\"2019-09-02\",\"Thanksgiving Day\":\"2019-11-28\",Christmas:\"2019-12-25\"},{year:2020,\"New Years Day\":\"2020-01-01\",\"Martin Luther King, Jr. Day\":\"2020-01-20\",\"Washington's Birthday\":\"2020-02-17\",\"Good Friday\":\"2020-04-10\",\"Memorial Day\":\"2020-05-25\",\"Juneteenth National Independence Day\":g,\"Independence Day\":\"2020-07-03\",\"Labor Day\":\"2020-09-07\",\"Thanksgiving Day\":\"2020-11-26\",Christmas:\"2020-12-25\"},{year:2021,\"New Years Day\":\"2021-01-01\",\"Martin Luther King, Jr. Day\":\"2021-01-18\",\"Washington's Birthday\":\"2021-02-15\",\"Good Friday\":\"2021-04-02\",\"Memorial Day\":\"2021-05-31\",\"Juneteenth National Independence Day\":g,\"Independence Day\":\"2021-07-05\",\"Labor Day\":\"2021-09-06\",\"Thanksgiving Day\":\"2021-11-25\",Christmas:\"2021-12-24\"},{year:2022,\"New Years Day\":\"2022-01-01\",\"Martin Luther King, Jr. Day\":\"2022-01-17\",\"Washington's Birthday\":\"2022-02-21\",\"Good Friday\":\"2022-04-15\",\"Memorial Day\":\"2022-05-30\",\"Juneteenth National Independence Day\":\"2022-06-20\",\"Independence Day\":\"2022-07-04\",\"Labor Day\":\"2022-09-05\",\"Thanksgiving Day\":\"2022-11-24\",Christmas:\"2022-12-26\"},{year:2023,\"New Years Day\":\"2023-01-02\",\"Martin Luther King, Jr. Day\":\"2023-01-16\",\"Washington's Birthday\":\"2023-02-20\",\"Good Friday\":\"2023-04-07\",\"Memorial Day\":\"2023-05-29\",\"Juneteenth National Independence Day\":\"2023-06-19\",\"Independence Day\":\"2023-07-04\",\"Labor Day\":\"2023-09-04\",\"Thanksgiving Day\":\"2023-11-23\",Christmas:\"2023-12-25\"},{year:2024,\"New Years Day\":\"2024-01-01\",\"Martin Luther King, Jr. Day\":\"2024-01-15\",\"Washington's Birthday\":\"2024-02-19\",\"Good Friday\":\"2024-03-29\",\"Memorial Day\":\"2024-05-27\",\"Juneteenth National Independence Day\":\"2024-06-19\",\"Independence Day\":\"2024-07-04\",\"Labor Day\":\"2024-09-02\",\"Thanksgiving Day\":\"2024-11-28\",Christmas:\"2024-12-25\"}],isTheStockMarketOpen:d,isTheEuronextMarketOpen:c,isTheForexMarketOpen:c,isTheCryptoMarketOpen:c},stock_grades:[],articles:[],company_chart:[],cryptos:[],forex:[],indexes:[{symbol:\"^GSPC\",name:\"S&P 500\",price:3958.79,changesPercentage:-.8252047,change:-32.93994,dayLow:3954.34,dayHigh:3983.09,yearHigh:4818.62,yearLow:3491.58,marketCap:g,priceAvg50:3793.9338,priceAvg200:4076.058,volume:2406651000,avgVolume:4469956666,exchange:s,open:3976.82,previousClose:3991.73,eps:g,pe:g,earningsAnnouncement:g,sharesOutstanding:g,timestamp:n},{symbol:\"^DJI\",name:\"Dow Jones Industrial Average\",price:33553.83,changesPercentage:-.11637496,change:-39.09375,dayLow:33516.99,dayHigh:33682.83,yearHigh:36952.65,yearLow:28660.94,marketCap:g,priceAvg50:31076.1,priceAvg200:32527.531,volume:305543190,avgVolume:361980952,exchange:s,open:33554.93,previousClose:33592.92,eps:g,pe:g,earningsAnnouncement:g,sharesOutstanding:g,timestamp:n},{symbol:\"^IXIC\",name:\"NASDAQ Composite\",price:11183.658,changesPercentage:-1.5385247,change:-174.75195,dayLow:11162.923,dayHigh:11286.101,yearHigh:16212.23,yearLow:10088.83,marketCap:g,priceAvg50:11001.804,priceAvg200:12200.678,volume:3919396000,avgVolume:4752623174,exchange:s,open:11260.095,previousClose:11358.41,eps:g,pe:g,earningsAnnouncement:g,sharesOutstanding:g,timestamp:n},{symbol:\"BTCUSD\",name:\"Bitcoin USD\",price:16582.654,changesPercentage:-1.2658032,change:-212.5957,dayLow:16462.768,dayHigh:16726.436,yearHigh:60948.5,yearLow:15682.692,marketCap:318547066880,priceAvg50:19344.418,priceAvg200:22985.04,volume:33063653376,avgVolume:37256266561,exchange:\"CRYPTO\",open:$,previousClose:$,eps:g,pe:g,earningsAnnouncement:g,sharesOutstanding:19209655,timestamp:n},{symbol:\"EURUSD\",name:\"EUR\\u002FUSD\",price:1.03948,changesPercentage:.02592,change:.000269,dayLow:1.03597,dayHigh:1.04068,yearHigh:1.1494253,yearLow:.9540164,marketCap:g,priceAvg50:.9907318,priceAvg200:1.040802,volume:e,avgVolume:e,exchange:\"FOREX\",open:aa,previousClose:aa,eps:g,pe:g,earningsAnnouncement:g,sharesOutstanding:g,timestamp:n},{symbol:\"CLUSD\",name:\"Crude Oil \",price:85.403,changesPercentage:-.00037,change:-.000316,dayLow:84.442,dayHigh:85.554,yearHigh:g,yearLow:g,marketCap:g,priceAvg50:g,priceAvg200:g,volume:8105,avgVolume:283496,exchange:\"COMMODITY\",open:ab,previousClose:ab,eps:g,pe:g,earningsAnnouncement:g,sharesOutstanding:g,timestamp:n}],indexesDashboard:[],stock_estimates:[],allIndexes:[],sectors:[],search_tickers:[],search_tickers_dashboard:[],search_tickers_quick:[],indexCharts:[],ticker_info:[],ticker_info_quick:[],ticker_info_portfolio:[],ticker_price:f,user_info:{plan:f,key:\"demo\"},ticker_prices_popup:[],popup:d,crypto_info:f,forex_info:f,popup_contest:d,add_coins_popup:d,tickers_summary:[],tickers_summary_active:[],stock_peers:[{symbol:\"ADBE\",name:\"Adobe Inc.\",price:338.41,changesPercentage:-2.18233,change:-7.549988,dayLow:336.75,dayHigh:345.015,yearHigh:699.54,yearLow:274.73,marketCap:160836796416,priceAvg50:310.1382,priceAvg200:393.2712,volume:2123183,avgVolume:4337341,exchange:j,open:345,previousClose:345.96,eps:10.08,pe:33.572422,earningsAnnouncement:\"2022-12-15T21:00:00.000+0000\",sharesOutstanding:475271997,timestamp:m},{symbol:\"ASML\",name:\"ASML Holding N.V.\",price:576.7,changesPercentage:-3.4763184,change:-20.769958,dayLow:573.805,dayHigh:583.85,yearHigh:881.12,yearLow:363.15,marketCap:229065244672,priceAvg50:462.8208,priceAvg200:543.98364,volume:1418854,avgVolume:1348006,exchange:j,open:583.52,previousClose:597.47,eps:14.33,pe:40.244244,earningsAnnouncement:g,sharesOutstanding:397200008,timestamp:m},{symbol:\"CSCO\",name:\"Cisco Systems, Inc.\",price:44.39,changesPercentage:-1.1358621,change:-.51000214,dayLow:44.301,dayHigh:44.98,yearHigh:64.29,yearLow:38.6,marketCap:182264004608,priceAvg50:42.8952,priceAvg200:47.5362,volume:24939624,avgVolume:19787765,exchange:j,open:44.94,previousClose:44.9,eps:2.82,pe:15.741135,earningsAnnouncement:\"2022-02-07T10:59:00.000+0000\",sharesOutstanding:4105969917,timestamp:m},{symbol:\"INTC\",name:\"Intel Corporation\",price:29.53,changesPercentage:-3.8423915,change:-1.1799984,dayLow:29.44,dayHigh:30.23,yearHigh:56.28,yearLow:24.59,marketCap:121870311424,priceAvg50:27.8712,priceAvg200:38.78795,volume:35582751,avgVolume:42828595,exchange:j,open:30.1101,previousClose:30.71,eps:3.23,pe:9.142415,earningsAnnouncement:\"2023-01-24T21:00:00.000+0000\",sharesOutstanding:4127000048,timestamp:m},{symbol:ac,name:ad,price:ae,changesPercentage:.18235421,change:.44000244,dayLow:240.421,dayHigh:243.8,yearHigh:349.67,yearLow:213.43,marketCap:1801969074176,priceAvg50:238.9758,priceAvg200:268.60425,volume:24093272,avgVolume:29089685,exchange:j,open:245.66,previousClose:241.29,eps:9.29,pe:26.020452,earningsAnnouncement:af,sharesOutstanding:7454470170,timestamp:m},{symbol:ag,name:ah,price:ai,changesPercentage:-4.53618,change:-7.5599976,dayLow:158.73,dayHigh:163.62,yearHigh:346.47,yearLow:108.13,marketCap:396477202432,priceAvg50:131.9072,priceAvg200:182.27065,volume:64954684,avgVolume:58866485,exchange:j,open:161.615,previousClose:166.66,eps:3.729,pe:42.665596,earningsAnnouncement:\"2023-02-14T10:59:00.000+0000\",sharesOutstanding:2492000015,timestamp:m},{symbol:\"TXN\",name:\"Texas Instruments Incorporated\",price:173.46,changesPercentage:-2.3145804,change:-4.1100006,dayLow:173.05,dayHigh:aj,yearHigh:199.9,yearLow:144.46,marketCap:157427433472,priceAvg50:162.175,priceAvg200:168.1205,volume:7664877,avgVolume:6098969,exchange:j,open:aj,previousClose:177.57,eps:9.54,pe:18.18239,earningsAnnouncement:af,sharesOutstanding:907571967,timestamp:m}],user_favorites:[],stock_quotes:[],stock_gainers:[],stock_losers:[],stock_news:[{symbol:i,publishedDate:ak,title:\"Can Apple Squeeze Meta Out of the Metaverse? Headset Plans Revealed\",image:\"https:\\u002F\\u002Fcdn.snapi.dev\\u002Fimages\\u002Fv1\\u002Fi\\u002Fa\\u002Furlhttps3a2f2fgfoolcdncom2feditorial2fimages2f7080922fvirtual-reality-headset-oculusjpgopresizew400h400-1626916-1641085.jpg\",site:\"24\\u002F7 Wall Street\",text:al,url:am,date:ak,link:am,content:al},{symbol:i,publishedDate:an,title:\"Apple: Industry Giant Not Worth The Price\",image:\"https:\\u002F\\u002Fcdn.snapi.dev\\u002Fimages\\u002Fv1\\u002Fu\\u002Fd\\u002Fimage-1157988186-1640831.jpg\",site:t,text:ao,url:ap,date:an,link:ap,content:ao},{symbol:i,publishedDate:aq,title:\"Apple is key to determining whether the stock market can sustain a rally into year-end, Fairlead Strategies' Katie Stockton says\",image:\"https:\\u002F\\u002Fcdn.snapi.dev\\u002Fimages\\u002Fv1\\u002Fb\\u002F5\\u002F637527d9ca2f070018a6e2aeformatjpeg-1640636.jpg\",site:\"Business Insider\",text:ar,url:as,date:aq,link:as,content:ar},{symbol:i,publishedDate:at,title:\"Apple TV to launch ‘MLS Season Pass' subscription on February 1\",image:\"https:\\u002F\\u002Fcdn.snapi.dev\\u002Fimages\\u002Fv1\\u002Fa\\u002Fp\\u002Fapple-tv-mls-hero-bigjpglarge-2x-1640571.jpg\",site:\"TechCrunch\",text:au,url:av,date:at,link:av,content:au},{symbol:i,publishedDate:aw,title:\"3 Reasons to Buy Apple Stock in 2023 -- And Never Sell\",image:\"https:\\u002F\\u002Fcdn.snapi.dev\\u002Fimages\\u002Fv1\\u002Fu\\u002Fr\\u002Furlhttps3a2f2fgfoolcdncom2feditorial2fimages2f7093302fgettyimages-516246050jpgopresizew400h400-1640567.jpg\",site:\"The Motley Fool\",text:ax,url:ay,date:aw,link:ay,content:ax},{symbol:i,publishedDate:az,title:\"iPhone 14 Pro ship times slip past Christmas weeks after Apple warned of production issues\",image:\"https:\\u002F\\u002Fcdn.snapi.dev\\u002Fimages\\u002Fv1\\u002Fy\\u002Fg\\u002F107138203-1666284589501-gettyimages-1244103642-s-kogiku-20102022-0x7a7964-1640540.jpeg\",site:aA,text:aB,url:aC,date:az,link:aC,content:aB},{symbol:i,publishedDate:aD,title:\"Why Apple Is The Only FAANG Stock Worth Buying\",image:\"https:\\u002F\\u002Fcdn.snapi.dev\\u002Fimages\\u002Fv1\\u002F8\\u002Fg\\u002Fimage-1328978452-1640417.jpg\",site:t,text:aE,url:aF,date:aD,link:aF,content:aE},{symbol:i,publishedDate:aG,title:\"Apple just completely redesigned iCloud.com and it looks a lot better\",image:\"https:\\u002F\\u002Fcdn.snapi.dev\\u002Fimages\\u002Fv1\\u002Fy\\u002F7\\u002F107152826-1668621734778-icloud-1640413.jpg\",site:aA,text:aH,url:aI,date:aG,link:aI,content:aH},{symbol:i,publishedDate:aJ,title:\"Can Apple Dodge A Holiday Quarter Disaster?\",image:\"https:\\u002F\\u002Fcdn.snapi.dev\\u002Fimages\\u002Fv1\\u002Fp\\u002Fg\\u002Fimage-468537922-1640400.jpg\",site:t,text:aK,url:aL,date:aJ,link:aL,content:aK},{symbol:i,publishedDate:aM,title:\"Apple to buy U.S.-made chips from TSMC in supply chain pivot\",image:\"https:\\u002F\\u002Fcdn.snapi.dev\\u002Fimages\\u002Fv1\\u002Fx\\u002Fv\\u002Fapple-to-buy-us-made-chips-from-tsmc-in-supply-chain-pivot-1640232.jpg\",site:\"Yahoo Finance\",text:aN,url:aO,date:aM,link:aO,content:aN}],stock_actives:[],chart_data:[],used_key:d,dividend_data:[],stock_splits:[],ticker_bar:[{symbol:i,price:A,beta:\"1.246644\",volAvg:\"89979761\",mktCap:\"2366966071296\",lastDiv:\"0.91\",range:C,changes:D,changesPercentage:\"-0.83311117\",companyName:E,currency:k,cik:F,isin:G,cusip:H,exchange:l,exchangeShortName:j,industry:I,website:J,description:K,ceo:L,sector:o,dcfDiff:M,dcf:N,image:O,defaultImage:d},{symbol:\"META\",price:196.64,beta:\"1.376134\",volAvg:\"31344400\",mktCap:\"547005300736\",lastDiv:aP,range:\"159.61-384.33\",changes:.990005,changesPercentage:\"0.50600845\",companyName:\"Meta Platforms, Inc.\",currency:k,cik:\"0001326801\",isin:\"US30303M1027\",cusip:\"30303M102\",exchange:l,exchangeShortName:j,industry:aQ,website:\"https:\\u002F\\u002Finvestor.fb.com\",description:\"Meta Platforms, Inc. develops products that enable people to connect and share with friends and family through mobile devices, personal computers, virtual reality headsets, wearables, and in-home devices worldwide. It operates in two segments, Family of Apps and Reality Labs. The Family of Apps segment's products include Facebook, which enables people to share, discover, and connect with interests; Instagram, a community for sharing photos, videos, and private messages, as well as feed, stories, reels, video, live, and shops; Messenger, a messaging application for people to connect with friends, family, groups, and businesses across platforms and devices through chat, audio and video calls, and rooms; and WhatsApp, a messaging application that is used by people and businesses to communicate and transact privately. The Reality Labs segment provides augmented and virtual reality related products comprising virtual reality hardware, software, and content that help people feel connected, anytime, and anywhere. The company was formerly known as Facebook, Inc. and changed its name to Meta Platforms, Inc. in October 2021. Meta Platforms, Inc. was incorporated in 2004 and is headquartered in Menlo Park, California.\",ceo:\"Mr. Mark Zuckerberg\",sector:u,dcfDiff:5.80658,dcf:202.447,image:\"https:\\u002F\\u002Ffmpcloud.io\\u002Fimage-stock\\u002FFB.png\",defaultImage:d},{symbol:\"GOOG\",price:98.99,beta:\"1.053681\",volAvg:\"27058690\",mktCap:\"1279307153408\",lastDiv:\"0.0\",range:\"83.45-152.1\",changes:.269997,changesPercentage:\"0.2734974\",companyName:\"Alphabet Inc.\",currency:k,cik:\"0001652044\",isin:\"US02079K1079\",cusip:\"02079K107\",exchange:l,exchangeShortName:j,industry:aQ,website:\"https:\\u002F\\u002Fwww.abc.xyz\",description:\"Alphabet Inc. provides various products and platforms in the United States, Europe, the Middle East, Africa, the Asia-Pacific, Canada, and Latin America. It operates through Google Services, Google Cloud, and Other Bets segments. The Google Services segment offers products and services, including ads, Android, Chrome, hardware, Gmail, Google Drive, Google Maps, Google Photos, Google Play, Search, and YouTube. It is also involved in the sale of apps and in-app purchases and digital content in the Google Play store; and Fitbit wearable devices, Google Nest home products, Pixel phones, and other devices, as well as in the provision of YouTube non-advertising services. The Google Cloud segment offers infrastructure, platform, and other services; Google Workspace that include cloud-based collaboration tools for enterprises, such as Gmail, Docs, Drive, Calendar, and Meet; and other services for enterprise customers. The Other Bets segment sells health technology and internet services. The company was founded in 1998 and is headquartered in Mountain View, California.\",ceo:\"Mr. Sundar Pichai\",sector:u,dcfDiff:30.96,dcf:129.95,image:\"https:\\u002F\\u002Ffmpcloud.io\\u002Fimage-stock\\u002FGOOG.png\",defaultImage:d},{symbol:ac,price:ae,beta:\"0.91984\",volAvg:\"29089685\",mktCap:\"1801969074176\",lastDiv:\"3.16\",range:\"213.43-349.67\",changes:.440002,changesPercentage:\"0.18235421\",companyName:ad,currency:k,cik:\"0000789019\",isin:\"US5949181045\",cusip:\"594918104\",exchange:l,exchangeShortName:j,industry:\"Software—Infrastructure\",website:\"https:\\u002F\\u002Fwww.microsoft.com\",description:\"Microsoft Corporation develops, licenses, and supports software, services, devices, and solutions worldwide. The company operates in three segments: Productivity and Business Processes, Intelligent Cloud, and More Personal Computing. The Productivity and Business Processes segment offers Office, Exchange, SharePoint, Microsoft Teams, Office 365 Security and Compliance, Microsoft Viva, and Skype for Business; Skype, Outlook.com, OneDrive, and LinkedIn; and Dynamics 365, a set of cloud-based and on-premises business solutions for organizations and enterprise divisions. The Intelligent Cloud segment licenses SQL, Windows Servers, Visual Studio, System Center, and related Client Access Licenses; GitHub that provides a collaboration platform and code hosting service for developers; Nuance provides healthcare and enterprise AI solutions; and Azure, a cloud platform. It also offers enterprise support, Microsoft consulting, and nuance professional services to assist customers in developing, deploying, and managing Microsoft server and desktop solutions; and training and certification on Microsoft products. The More Personal Computing segment provides Windows original equipment manufacturer (OEM) licensing and other non-volume licensing of the Windows operating system; Windows Commercial, such as volume licensing of the Windows operating system, Windows cloud services, and other Windows commercial offerings; patent licensing; and Windows Internet of Things. It also offers Surface, PC accessories, PCs, tablets, gaming and entertainment consoles, and other devices; Gaming, including Xbox hardware, and Xbox content and services; video games and third-party video game royalties; and Search, including Bing and Microsoft advertising. The company sells its products through OEMs, distributors, and resellers; and directly through digital marketplaces, online stores, and retail stores. Microsoft Corporation was founded in 1975 and is headquartered in Redmond, Washington.\",ceo:\"Mr. Satya Nadella\",sector:o,dcfDiff:1.54417,dcf:243.274,image:\"https:\\u002F\\u002Ffmpcloud.io\\u002Fimage-stock\\u002FMSFT.png\",defaultImage:d},{symbol:ag,price:ai,beta:\"1.696409\",volAvg:\"58866485\",mktCap:\"396477202432\",lastDiv:\"0.16\",range:\"108.13-346.47\",changes:-7.56,changesPercentage:\"-4.53618\",companyName:ah,currency:k,cik:\"0001045810\",isin:\"US67066G1040\",cusip:\"67066G104\",exchange:l,exchangeShortName:j,industry:\"Semiconductors\",website:\"https:\\u002F\\u002Fwww.nvidia.com\",description:\"NVIDIA Corporation provides graphics, and compute and networking solutions in the United States, Taiwan, China, and internationally. The company's Graphics segment offers GeForce GPUs for gaming and PCs, the GeForce NOW game streaming service and related infrastructure, and solutions for gaming platforms; Quadro\\u002FNVIDIA RTX GPUs for enterprise workstation graphics; vGPU software for cloud-based visual and virtual computing; automotive platforms for infotainment systems; and Omniverse software for building 3D designs and virtual worlds. Its Compute & Networking segment provides Data Center platforms and systems for AI, HPC, and accelerated computing; Mellanox networking and interconnect solutions; automotive AI Cockpit, autonomous driving development agreements, and autonomous vehicle solutions; cryptocurrency mining processors; Jetson for robotics and other embedded platforms; and NVIDIA AI Enterprise and other software. The company's products are used in gaming, professional visualization, datacenter, and automotive markets. NVIDIA Corporation sells its products to original equipment manufacturers, original device manufacturers, system builders, add-in board manufacturers, retailers\\u002Fdistributors, independent software vendors, Internet and cloud service providers, automotive manufacturers and tier-1 automotive suppliers, mapping companies, start-ups, and other ecosystem participants. It has a strategic collaboration with Kroger Co. NVIDIA Corporation was incorporated in 1993 and is headquartered in Santa Clara, California.\",ceo:\"Mr. Jen-Hsun Huang\",sector:o,dcfDiff:.781927,dcf:159.882,image:\"https:\\u002F\\u002Ffmpcloud.io\\u002Fimage-stock\\u002FNVDA.png\",defaultImage:d},{symbol:\"WBA\",price:40.39,beta:\"0.708015\",volAvg:\"8140779\",mktCap:\"34929795072\",lastDiv:\"1.9149999999999998\",range:\"30.39-55.0\",changes:-.260002,changesPercentage:\"-0.6396116\",companyName:\"Walgreens Boots Alliance, Inc.\",currency:k,cik:\"0001618921\",isin:\"US9314271084\",cusip:\"931427108\",exchange:l,exchangeShortName:j,industry:\"Pharmaceutical Retailers\",website:\"https:\\u002F\\u002Fwww.walgreensbootsalliance.com\",description:\"Walgreens Boots Alliance, Inc. operates as an integrated healthcare, pharmacy, and retailer in the United States (U.S.), the United Kingdom, Germany, and internationally. It operates through three segments: U.S. Retail Pharmacy, International, and U.S. Healthcare. The U.S. Retail Pharmacy segment sells prescription drugs and an assortment of retail products, including health, wellness, beauty, personal care, consumable, and general merchandise products through its retail drugstores. It also provides health and wellness, and specialty and home delivery pharmacy services. As of August 31, 2022, this segment operated 8,886 retail stores under the Walgreens and Duane Reade brands in the United States; and 3 specialty pharmacies. The International segment sells prescription drugs; and health and wellness, beauty, personal care, and other consumer products through its pharmacy-led health and beauty retail stores and optical practices, as well as through boots.com and an integrated mobile application. It also engages in pharmaceutical wholesaling and distribution business in Germany. As of August 31, 2022, this segment operated 3,989 retail stores under the Boots, Benavides, and Ahumada brands in the United Kingdom, Thailand, the Republic of Ireland, and Chile; and 543 optical practices, including 160 on a franchise basis. The U.S. Healthcare segment provides value-based primary care services; post-acute and home care management services; and clinical healthcare services. It also operates as a specialty pharmacy integrator and accelerator for hospitals. As of August 31, 2022, this segment operated 334 VillageMD clinics, including 146 co-located clinics, 124 standalone clinics, and 64 affiliate clinics. Walgreens Boots Alliance, Inc. was founded in 1901 and is based in Deerfield, Illinois.\",ceo:\"Mr. Stefano Pessina\",sector:\"Healthcare\",dcfDiff:1.37696,dcf:41.767,image:\"https:\\u002F\\u002Ffmpcloud.io\\u002Fimage-stock\\u002FWBA.png\",defaultImage:d},{symbol:\"ZNGA\",price:8.18,beta:\"0.022767\",volAvg:\"29352823\",mktCap:\"9163072512\",lastDiv:aP,range:\"5.57-11.25\",changes:-.17,changesPercentage:\"-2.035929\",companyName:\"Zynga Inc.\",currency:k,cik:\"0001439404\",isin:\"US98986T1088\",cusip:\"98986T108\",exchange:l,exchangeShortName:j,industry:\"Electronic Gaming & Multimedia\",website:\"https:\\u002F\\u002Fwww.zynga.com\",description:\"Zynga Inc. develops, markets, and operates social game services in the United States and internationally. The company provides social games as live services played on mobile platforms, such as Apple iOS and Google's Android operating systems; social networking platforms, such as Facebook and Snapchat; and personal computers consoles, such as Nintendo's Switch game console, and other platforms and consoles. It also provides advertising services comprising mobile advertisements, engagement advertisements and offers, and branded virtual items and sponsorships for marketers and advertisers; and licenses its own brands. In addition, the company operates mobile programmatic advertising and monetization platform. Zynga Inc. was founded in 2007 and is headquartered in San Francisco, California. As of May 23, 2022, Zynga Inc. operates as a subsidiary of Take-Two Interactive Software, Inc..\",ceo:\"Mr. Frank Gibeau\",sector:u,dcfDiff:.967742,dcf:9.14774,image:\"https:\\u002F\\u002Ffmpcloud.io\\u002Fimage-stock\\u002FZNGA.png\",defaultImage:d}],dcf_info:[],stock_next_estimates:[],stock_target:[],performance_score:e,cache_tracker:{company_chart:{time:e,is_loading:d},stock_target:{time:e,is_loading:d},stock_next_estimates:{time:e,is_loading:d},market_info:{time:aR,is_loading:d},stock_grades:{time:e,is_loading:d},articles:{time:e,is_loading:d},cryptos:{time:e,is_loading:d},forex:{time:e,is_loading:d},stock_estimates:{time:e,is_loading:d},indexes:{time:1668673900803,is_loading:d},indexesDashboard:{time:e,is_loading:d},allIndexes:{time:e,is_loading:d},charts:{time:e,is_loading:d},indexCharts:{time:e,is_loading:d},sectors:{time:e,is_loading:d},search_tickers:{time:e,is_loading:d},search_tickers_dashboard:{time:e,is_loading:d},search_tickers_quick:{time:e,is_loading:d},ticker_info:{time:e,is_loading:d},ticker_info_quick:{time:e,is_loading:d},ticker_info_portfolio:{time:e,is_loading:d},ticker_prices_popup:{time:e,is_loading:d},tickers_summary:{time:e,is_loading:d},tickers_summary_active:{time:e,is_loading:d},stock_quotes:{time:e,is_loading:d},user_favorites:{time:e,is_loading:d},stock_peers:{time:1668673901017,is_loading:d},stock_gainers:{time:e,is_loading:d},stock_losers:{time:e,is_loading:d},stock_news:{time:1668673900910,is_loading:d},stock_actives:{time:e,is_loading:d},chart_data:{time:e,is_loading:d},ticker_bar:{time:aR,is_loading:d},dcf_info:{time:e,is_loading:d},dividend_data:{time:e,is_loading:d},stock_splits:{time:e,is_loading:d}}}},serverRendered:c,routePath:\"\\u002Ffinancial-summary\\u002FAAPL\",config:{_app:{basePath:aS,assetsPath:aS,cdnURL:\"https:\\u002F\\u002Fd14ccuzudddlhp.cloudfront.net\\u002F_nuxt\\u002F\"}}}}(2,1000,true,false,0,\"\",null,1,\"AAPL\",\"NASDAQ\",\"USD\",\"NASDAQ Global Select\",1668673901,1668673900,\"Technology\",\"reportedCurrency\",Array(1),47.07058213174929,\"INDEX\",\"Seeking Alpha\",\"Communication Services\",\"inventory\",\"Inventory\",\"netIncome\",\"Net Income\",\"depreciationAndAmortization\",148.79,.91,\"129.04-182.94\",-1.25,\"Apple Inc.\",\"0000320193\",\"US0378331005\",\"037833100\",\"Consumer Electronics\",\"https:\\u002F\\u002Fwww.apple.com\",\"Apple Inc. designs, manufactures, and markets smartphones, personal computers, tablets, wearables, and accessories worldwide. It also sells various related services. In addition, the company offers iPhone, a line of smartphones; Mac, a line of personal computers; iPad, a line of multi-purpose tablets; and wearables, home, and accessories comprising AirPods, Apple TV, Apple Watch, Beats products, and HomePod. Further, it provides AppleCare support and cloud services store services; and operates various platforms, including the App Store that allow customers to discover and download applications and digital content, such as books, music, video, games, and podcasts. Additionally, the company offers various services, such as Apple Arcade, a game subscription service; Apple Fitness+, a personalized fitness service; Apple Music, which offers users a curated listening experience with on-demand radio stations; Apple News+, a subscription news and magazine service; Apple TV+, which offers exclusive original content; Apple Card, a co-branded credit card; and Apple Pay, a cashless payment service, as well as licenses its intellectual property. The company serves consumers, and small and mid-sized businesses; and the education, enterprise, and government markets. It distributes third-party applications for its products through the App Store. The company also sells its products through its retail and online stores, and direct sales force; and third-party cellular network carriers, wholesalers, retailers, and resellers. Apple Inc. was incorporated in 1977 and is headquartered in Cupertino, California.\",\"Mr. Timothy Cook\",2.07176,150.862,\"https:\\u002F\\u002Ffmpcloud.io\\u002Fimage-stock\\u002FAAPL.png\",24.351881,5,-2,-1,.006116002419517441,2.876565943124997,.30288744395528594,1.0173400294830472,6.048671506410907,19.526328378646102,\"operatingIncome\",\"netIncomeRatio\",16669.656,1.0392,85.43,\"MSFT\",\"Microsoft Corporation\",241.73,\"2023-01-23T10:59:00.000+0000\",\"NVDA\",\"NVIDIA Corporation\",159.1,176.42,\"2022-11-16 21:21:43\",\"Apple is looking for new talent to help build a 3D world for its yet-to-be-announced mixed-reality headset, recent job postings by the tech giant suggests.\",\"https:\\u002F\\u002F247wallst.com\\u002Finvesting\\u002F2022\\u002F11\\u002F16\\u002Fcan-apple-squeeze-meta-out-of-the-metaverse-headset-plans-revealed\\u002F\",\"2022-11-16 16:42:02\",\"Apple Inc.'s financials are historically growing at below industry average rates; Seeking Alpha ranks growth at a \\\"D+\\\". Apple insiders have significantly sold $810.145 million, possibly confirming damaging headwinds ahead.\",\"https:\\u002F\\u002Fseekingalpha.com\\u002Farticle\\u002F4558564-apple-industry-giant-not-worth-the-price\",\"2022-11-16 15:49:19\",\"At a current $2.3 trillion valuation, the iPhone maker represents about 7% and 13% of the S&P 500 and Nasdaq 100, respectively.\",\"https:\\u002F\\u002Fmarkets.businessinsider.com\\u002Fnews\\u002Fstocks\\u002Fstock-market-outlook-apple-key-year-end-rally-sustainable-aapl-2022-11\",\"2022-11-16 15:10:05\",\"Today, Apple announced the launch date and price of its upcoming subscription service for Major League Soccer (MLS) fans, “MLS Season Pass.” Starting February 1, 2023, subscribers in 100+ countries and regions can get MLS Season Pass on the Apple TV app for $14.99 per month during the season or $99 per season.\",\"https:\\u002F\\u002Ftechcrunch.com\\u002F2022\\u002F11\\u002F16\\u002Fapple-tv-to-launch-mls-season-pass-subscription-on-february-1\\u002F\",\"2022-11-16 15:00:00\",\"Apple is as reliable as they come.\",\"https:\\u002F\\u002Fwww.fool.com\\u002Finvesting\\u002F2022\\u002F11\\u002F16\\u002F3-reasons-to-buy-apple-stock-in-2023-and-never-sel\\u002F\",\"2022-11-16 14:34:43\",\"CNBC\",\"iPhone 14 Pro and iPhone 14 Pro Max ship times in the U.S. have started slipping past Christmas, according to Apple's website and financial analysts.\",\"https:\\u002F\\u002Fwww.cnbc.com\\u002F2022\\u002F11\\u002F16\\u002Fiphone-14-pro-ship-times-slip-past-christmas-.html\",\"2022-11-16 13:26:51\",\"Apple is down 16%, yet it's the best FAANG(+) stock on the market, protecting investors against mayhem experienced in other growth stocks. Thanks to its advanced supply chains, successful products, and healthy balance sheet, Apple has pricing power, high and steady margins, and the ability to buy back shares.\",\"https:\\u002F\\u002Fseekingalpha.com\\u002Farticle\\u002F4558460-why-apple-is-the-only-faang-stock-worth-buying\",\"2022-11-16 13:22:54\",\"On Wednesday, Apple unveiled a new design of iCloud.com featuring customizable widgets.\",\"https:\\u002F\\u002Fwww.cnbc.com\\u002F2022\\u002F11\\u002F16\\u002Fapple-just-completely-redesigned-icloudcom-and-it-looks-a-lot-better.html\",\"2022-11-16 13:10:42\",\"Apple continues to trade at a premium to its peers and the broader market despite looming macro headwinds that will likely hit consumer sectors hardest. With the recent return of COVID lockdowns in key production hubs in China, and deteriorating purchase power in the retail sector, Apple risks further underperformance ahead of its best-selling holiday-quarter.\",\"https:\\u002F\\u002Fseekingalpha.com\\u002Farticle\\u002F4558450-can-apple-dodge-a-holiday-quarter-disaster\",\"2022-11-16 11:30:15\",\"Yahoo Finance's Daniel Howley joins the Live show to discuss reports that Apple will buy U.S.-made chips from Taiwan Semiconductor.\",\"https:\\u002F\\u002Fwww.youtube.com\\u002Fwatch?v=q79vm33KTH0\",\"0\",\"Internet Content & Information\",1668673900796,\"\\u002F\"));</script><script src=\"https://d14ccuzudddlhp.cloudfront.net/_nuxt/9ddb144.js\" defer></script><script src=\"https://d14ccuzudddlhp.cloudfront.net/_nuxt/c8726ec.js\" defer></script><script src=\"https://d14ccuzudddlhp.cloudfront.net/_nuxt/bc5b44c.js\" defer></script><script src=\"https://d14ccuzudddlhp.cloudfront.net/_nuxt/ed83c2d.js\" defer></script><script src=\"https://d14ccuzudddlhp.cloudfront.net/_nuxt/ee53e6b.js\" defer></script><script src=\"https://d14ccuzudddlhp.cloudfront.net/_nuxt/a9efd6a.js\" defer></script><script src=\"https://d14ccuzudddlhp.cloudfront.net/_nuxt/a612ed9.js\" defer></script><script src=\"https://d14ccuzudddlhp.cloudfront.net/_nuxt/6504784.js\" defer></script></body></html>\n"
          ]
        },
        {
          "ename": "IndexError",
          "evalue": "list index out of range",
          "output_type": "error",
          "traceback": [
            "\u001b[0;31m---------------------------------------------------------------------------\u001b[0m",
            "\u001b[0;31mIndexError\u001b[0m                                Traceback (most recent call last)",
            "\u001b[0;32m/tmp/ipykernel_21362/688847908.py\u001b[0m in \u001b[0;36m<module>\u001b[0;34m\u001b[0m\n\u001b[1;32m     12\u001b[0m \u001b[0mparser\u001b[0m \u001b[0;34m=\u001b[0m \u001b[0mBeautifulSoup\u001b[0m\u001b[0;34m(\u001b[0m\u001b[0mrequest\u001b[0m\u001b[0;34m.\u001b[0m\u001b[0mtext\u001b[0m\u001b[0;34m,\u001b[0m \u001b[0;34m\"html.parser\"\u001b[0m\u001b[0;34m)\u001b[0m\u001b[0;34m\u001b[0m\u001b[0;34m\u001b[0m\u001b[0m\n\u001b[1;32m     13\u001b[0m \u001b[0mnews_html\u001b[0m \u001b[0;34m=\u001b[0m \u001b[0mparser\u001b[0m\u001b[0;34m.\u001b[0m\u001b[0mfind_all\u001b[0m\u001b[0;34m(\u001b[0m\u001b[0;34m'a'\u001b[0m\u001b[0;34m,\u001b[0m \u001b[0;34m{\u001b[0m\u001b[0;34m'class'\u001b[0m\u001b[0;34m:\u001b[0m \u001b[0;34m'article-item'\u001b[0m\u001b[0;34m}\u001b[0m\u001b[0;34m)\u001b[0m\u001b[0;34m\u001b[0m\u001b[0;34m\u001b[0m\u001b[0m\n\u001b[0;32m---> 14\u001b[0;31m \u001b[0mprint\u001b[0m\u001b[0;34m(\u001b[0m\u001b[0mnews_html\u001b[0m\u001b[0;34m[\u001b[0m\u001b[0;36m0\u001b[0m\u001b[0;34m]\u001b[0m\u001b[0;34m)\u001b[0m\u001b[0;34m\u001b[0m\u001b[0;34m\u001b[0m\u001b[0m\n\u001b[0m\u001b[1;32m     15\u001b[0m \u001b[0;34m\u001b[0m\u001b[0m\n\u001b[1;32m     16\u001b[0m \u001b[0msentiments\u001b[0m \u001b[0;34m=\u001b[0m \u001b[0;34m[\u001b[0m\u001b[0;34m]\u001b[0m\u001b[0;34m\u001b[0m\u001b[0;34m\u001b[0m\u001b[0m\n",
            "\u001b[0;31mIndexError\u001b[0m: list index out of range"
          ]
        }
      ],
      "source": [
        "import requests\n",
        "from bs4 import BeautifulSoup \n",
        "import pandas as pd\n",
        "from nltk.sentiment.vader import SentimentIntensityAnalyzer\n",
        "\n",
        "ticker = \"AAPL\"\n",
        "# ticker = '060310'\n",
        "url = \"https://financialmodelingprep.com/financial-summary/\" + ticker\n",
        "request = requests.get(url)\n",
        "print(request.text)\n",
        "\n",
        "parser = BeautifulSoup(request.text, \"html.parser\")\n",
        "news_html = parser.find_all('a', {'class': 'article-item'})\n",
        "print(news_html[0])\n",
        "\n",
        "sentiments = []\n",
        "for i in range(0, len(news_html)):\n",
        "    sentiments.append(\n",
        "            {\n",
        "                'ticker': ticker,\n",
        "                'date': news_html[i].find('h5', {'class': 'article-date'}).text,\n",
        "                'title': news_html[i].find('h4', {'class': 'article-title'}).text,\n",
        "                'text': news_html[i].find('p', {'class': 'article-text'}).text\n",
        "            }\n",
        "        )\n",
        "\n",
        "df = pd.DataFrame(sentiments)\n",
        "df = df.set_index('date')\n"
      ]
    },
    {
      "cell_type": "code",
      "execution_count": null,
      "metadata": {
        "colab": {
          "base_uri": "https://localhost:8080/",
          "height": 394
        },
        "id": "KDOSEIRt5hjr",
        "outputId": "567dbcbd-decb-4352-89e1-817f290a2300"
      },
      "outputs": [
        {
          "data": {
            "text/html": [
              "\n",
              "  <div id=\"df-db3f1c1d-3fe0-489b-9d85-8a3ed4dec3e4\">\n",
              "    <div class=\"colab-df-container\">\n",
              "      <div>\n",
              "<style scoped>\n",
              "    .dataframe tbody tr th:only-of-type {\n",
              "        vertical-align: middle;\n",
              "    }\n",
              "\n",
              "    .dataframe tbody tr th {\n",
              "        vertical-align: top;\n",
              "    }\n",
              "\n",
              "    .dataframe thead th {\n",
              "        text-align: right;\n",
              "    }\n",
              "</style>\n",
              "<table border=\"1\" class=\"dataframe\">\n",
              "  <thead>\n",
              "    <tr style=\"text-align: right;\">\n",
              "      <th></th>\n",
              "      <th>ticker</th>\n",
              "      <th>title</th>\n",
              "      <th>text</th>\n",
              "    </tr>\n",
              "    <tr>\n",
              "      <th>date</th>\n",
              "      <th></th>\n",
              "      <th></th>\n",
              "      <th></th>\n",
              "    </tr>\n",
              "  </thead>\n",
              "  <tbody>\n",
              "    <tr>\n",
              "      <th>2022-03-22 19:41</th>\n",
              "      <td>AAPL</td>\n",
              "      <td>Apple Services Experience Outage for Second Da...</td>\n",
              "      <td>The App Store, Apple Music, Apple Books and Po...</td>\n",
              "    </tr>\n",
              "    <tr>\n",
              "      <th>2022-03-22 18:04</th>\n",
              "      <td>AAPL</td>\n",
              "      <td>Apple services including Music, Mac App store ...</td>\n",
              "      <td>Apple Inc services including Apple Music, Mac ...</td>\n",
              "    </tr>\n",
              "    <tr>\n",
              "      <th>2022-03-22 16:09</th>\n",
              "      <td>AAPL</td>\n",
              "      <td>Market Extends Bullish Action; Tesla Soars, Ap...</td>\n",
              "      <td>Market Extends Bullish Action; Tesla Soars, Ap...</td>\n",
              "    </tr>\n",
              "    <tr>\n",
              "      <th>2022-03-22 14:45</th>\n",
              "      <td>AAPL</td>\n",
              "      <td>Final Trades: Cloud stocks, Apple, Moderna &amp; more</td>\n",
              "      <td>The \"Halftime Report\" traders give their top p...</td>\n",
              "    </tr>\n",
              "    <tr>\n",
              "      <th>2022-03-22 14:35</th>\n",
              "      <td>AAPL</td>\n",
              "      <td>Apple (AAPL) Resolves Massive Service Outage</td>\n",
              "      <td>Apple (AAPL) suffered a massive outage of its ...</td>\n",
              "    </tr>\n",
              "    <tr>\n",
              "      <th>2022-03-22 14:02</th>\n",
              "      <td>AAPL</td>\n",
              "      <td>XLK: Apple And Microsoft Likely To Weigh The I...</td>\n",
              "      <td>XLK: Apple And Microsoft Likely To Weigh The I...</td>\n",
              "    </tr>\n",
              "    <tr>\n",
              "      <th>2022-03-22 13:47</th>\n",
              "      <td>AAPL</td>\n",
              "      <td>MSFT, AAPL, AMZN, FB, NVDA: Why Are Tech Stock...</td>\n",
              "      <td>Given the rather impressive amount of uncertai...</td>\n",
              "    </tr>\n",
              "    <tr>\n",
              "      <th>2022-03-22 13:33</th>\n",
              "      <td>AAPL</td>\n",
              "      <td>EU in final push for Big Tech crackdown</td>\n",
              "      <td>Big tech companies could face unprecedented cu...</td>\n",
              "    </tr>\n",
              "    <tr>\n",
              "      <th>2022-03-22 12:48</th>\n",
              "      <td>AAPL</td>\n",
              "      <td>These Tech-Heavy ETFs Offer Inflation Protection</td>\n",
              "      <td>Inflation is clearly proving far more persiste...</td>\n",
              "    </tr>\n",
              "    <tr>\n",
              "      <th>2022-03-22 11:57</th>\n",
              "      <td>AAPL</td>\n",
              "      <td>Apple App Store faces new laws from global reg...</td>\n",
              "      <td>Yahoo Finance Tech Editor Dan Howley joins the...</td>\n",
              "    </tr>\n",
              "  </tbody>\n",
              "</table>\n",
              "</div>\n",
              "      <button class=\"colab-df-convert\" onclick=\"convertToInteractive('df-db3f1c1d-3fe0-489b-9d85-8a3ed4dec3e4')\"\n",
              "              title=\"Convert this dataframe to an interactive table.\"\n",
              "              style=\"display:none;\">\n",
              "        \n",
              "  <svg xmlns=\"http://www.w3.org/2000/svg\" height=\"24px\"viewBox=\"0 0 24 24\"\n",
              "       width=\"24px\">\n",
              "    <path d=\"M0 0h24v24H0V0z\" fill=\"none\"/>\n",
              "    <path d=\"M18.56 5.44l.94 2.06.94-2.06 2.06-.94-2.06-.94-.94-2.06-.94 2.06-2.06.94zm-11 1L8.5 8.5l.94-2.06 2.06-.94-2.06-.94L8.5 2.5l-.94 2.06-2.06.94zm10 10l.94 2.06.94-2.06 2.06-.94-2.06-.94-.94-2.06-.94 2.06-2.06.94z\"/><path d=\"M17.41 7.96l-1.37-1.37c-.4-.4-.92-.59-1.43-.59-.52 0-1.04.2-1.43.59L10.3 9.45l-7.72 7.72c-.78.78-.78 2.05 0 2.83L4 21.41c.39.39.9.59 1.41.59.51 0 1.02-.2 1.41-.59l7.78-7.78 2.81-2.81c.8-.78.8-2.07 0-2.86zM5.41 20L4 18.59l7.72-7.72 1.47 1.35L5.41 20z\"/>\n",
              "  </svg>\n",
              "      </button>\n",
              "      \n",
              "  <style>\n",
              "    .colab-df-container {\n",
              "      display:flex;\n",
              "      flex-wrap:wrap;\n",
              "      gap: 12px;\n",
              "    }\n",
              "\n",
              "    .colab-df-convert {\n",
              "      background-color: #E8F0FE;\n",
              "      border: none;\n",
              "      border-radius: 50%;\n",
              "      cursor: pointer;\n",
              "      display: none;\n",
              "      fill: #1967D2;\n",
              "      height: 32px;\n",
              "      padding: 0 0 0 0;\n",
              "      width: 32px;\n",
              "    }\n",
              "\n",
              "    .colab-df-convert:hover {\n",
              "      background-color: #E2EBFA;\n",
              "      box-shadow: 0px 1px 2px rgba(60, 64, 67, 0.3), 0px 1px 3px 1px rgba(60, 64, 67, 0.15);\n",
              "      fill: #174EA6;\n",
              "    }\n",
              "\n",
              "    [theme=dark] .colab-df-convert {\n",
              "      background-color: #3B4455;\n",
              "      fill: #D2E3FC;\n",
              "    }\n",
              "\n",
              "    [theme=dark] .colab-df-convert:hover {\n",
              "      background-color: #434B5C;\n",
              "      box-shadow: 0px 1px 3px 1px rgba(0, 0, 0, 0.15);\n",
              "      filter: drop-shadow(0px 1px 2px rgba(0, 0, 0, 0.3));\n",
              "      fill: #FFFFFF;\n",
              "    }\n",
              "  </style>\n",
              "\n",
              "      <script>\n",
              "        const buttonEl =\n",
              "          document.querySelector('#df-db3f1c1d-3fe0-489b-9d85-8a3ed4dec3e4 button.colab-df-convert');\n",
              "        buttonEl.style.display =\n",
              "          google.colab.kernel.accessAllowed ? 'block' : 'none';\n",
              "\n",
              "        async function convertToInteractive(key) {\n",
              "          const element = document.querySelector('#df-db3f1c1d-3fe0-489b-9d85-8a3ed4dec3e4');\n",
              "          const dataTable =\n",
              "            await google.colab.kernel.invokeFunction('convertToInteractive',\n",
              "                                                     [key], {});\n",
              "          if (!dataTable) return;\n",
              "\n",
              "          const docLinkHtml = 'Like what you see? Visit the ' +\n",
              "            '<a target=\"_blank\" href=https://colab.research.google.com/notebooks/data_table.ipynb>data table notebook</a>'\n",
              "            + ' to learn more about interactive tables.';\n",
              "          element.innerHTML = '';\n",
              "          dataTable['output_type'] = 'display_data';\n",
              "          await google.colab.output.renderOutput(dataTable, element);\n",
              "          const docLink = document.createElement('div');\n",
              "          docLink.innerHTML = docLinkHtml;\n",
              "          element.appendChild(docLink);\n",
              "        }\n",
              "      </script>\n",
              "    </div>\n",
              "  </div>\n",
              "  "
            ],
            "text/plain": [
              "                 ticker                                              title  \\\n",
              "date                                                                         \n",
              "2022-03-22 19:41   AAPL  Apple Services Experience Outage for Second Da...   \n",
              "2022-03-22 18:04   AAPL  Apple services including Music, Mac App store ...   \n",
              "2022-03-22 16:09   AAPL  Market Extends Bullish Action; Tesla Soars, Ap...   \n",
              "2022-03-22 14:45   AAPL  Final Trades: Cloud stocks, Apple, Moderna & more   \n",
              "2022-03-22 14:35   AAPL       Apple (AAPL) Resolves Massive Service Outage   \n",
              "2022-03-22 14:02   AAPL  XLK: Apple And Microsoft Likely To Weigh The I...   \n",
              "2022-03-22 13:47   AAPL  MSFT, AAPL, AMZN, FB, NVDA: Why Are Tech Stock...   \n",
              "2022-03-22 13:33   AAPL            EU in final push for Big Tech crackdown   \n",
              "2022-03-22 12:48   AAPL   These Tech-Heavy ETFs Offer Inflation Protection   \n",
              "2022-03-22 11:57   AAPL  Apple App Store faces new laws from global reg...   \n",
              "\n",
              "                                                               text  \n",
              "date                                                                 \n",
              "2022-03-22 19:41  The App Store, Apple Music, Apple Books and Po...  \n",
              "2022-03-22 18:04  Apple Inc services including Apple Music, Mac ...  \n",
              "2022-03-22 16:09  Market Extends Bullish Action; Tesla Soars, Ap...  \n",
              "2022-03-22 14:45  The \"Halftime Report\" traders give their top p...  \n",
              "2022-03-22 14:35  Apple (AAPL) suffered a massive outage of its ...  \n",
              "2022-03-22 14:02  XLK: Apple And Microsoft Likely To Weigh The I...  \n",
              "2022-03-22 13:47  Given the rather impressive amount of uncertai...  \n",
              "2022-03-22 13:33  Big tech companies could face unprecedented cu...  \n",
              "2022-03-22 12:48  Inflation is clearly proving far more persiste...  \n",
              "2022-03-22 11:57  Yahoo Finance Tech Editor Dan Howley joins the...  "
            ]
          },
          "execution_count": 3,
          "metadata": {},
          "output_type": "execute_result"
        }
      ],
      "source": [
        "df"
      ]
    },
    {
      "cell_type": "markdown",
      "metadata": {
        "id": "qi_CHpB7DoRu"
      },
      "source": [
        "# IEX API"
      ]
    },
    {
      "cell_type": "code",
      "execution_count": 2,
      "metadata": {
        "id": "UVqwhlnLDpx4"
      },
      "outputs": [],
      "source": [
        "import requests\n",
        "import pandas as pd\n",
        "import numpy as np\n",
        "import plotly.graph_objects as go\n",
        "\n",
        "# urls = 'https://iex.lewagon.com/stable/stock/aapl/chart/3m'\n",
        "# urls = 'https://iex.lewagon.com/stable/stock//chart/3m'\n",
        "# urls = 'https://iex.lewagon.com/ref-data/exchanges'\n",
        "\n",
        "# Calls the URL to get the stock code (ticker)\n",
        "def get_data(ticker):\n",
        "    urls = 'https://iex.lewagon.com/stable/search/{}'\n",
        "    api_data = requests.get(urls.format(ticker)).json()\n",
        "\n",
        "    symbol = \"\"\n",
        "    for stock in api_data:\n",
        "        if 'KR' == stock['region']:\n",
        "            symbol = stock['symbol']\n",
        "\n",
        "    url = 'https://iex.lewagon.com/stable/stock/{}/chart/1y'\n",
        "    result = requests.get(url.format(symbol)).json()\n",
        "    result\n",
        "    df = pd.DataFrame(result)\n",
        "    df['date'] = pd.to_datetime(df['date'])\n",
        "    df = df.set_index('date')\n",
        "    return df"
      ]
    },
    {
      "cell_type": "code",
      "execution_count": 4,
      "metadata": {
        "colab": {
          "base_uri": "https://localhost:8080/",
          "height": 542
        },
        "id": "ay9Hfx7-XB79",
        "outputId": "e8288024-e36c-48d2-d890-0f0049c6f85d"
      },
      "outputs": [
        {
          "data": {
            "text/html": [
              "<html>\n",
              "<head><meta charset=\"utf-8\" /></head>\n",
              "<body>\n",
              "    <div>            <script src=\"https://cdnjs.cloudflare.com/ajax/libs/mathjax/2.7.5/MathJax.js?config=TeX-AMS-MML_SVG\"></script><script type=\"text/javascript\">if (window.MathJax) {MathJax.Hub.Config({SVG: {font: \"STIX-Web\"}});}</script>                <script type=\"text/javascript\">window.PlotlyConfig = {MathJaxConfig: 'local'};</script>\n",
              "        <script src=\"https://cdn.plot.ly/plotly-2.8.3.min.js\"></script>                <div id=\"c2922e0d-1242-41ff-a182-28a9ee71e0dd\" class=\"plotly-graph-div\" style=\"height:525px; width:100%;\"></div>            <script type=\"text/javascript\">                                    window.PLOTLYENV=window.PLOTLYENV || {};                                    if (document.getElementById(\"c2922e0d-1242-41ff-a182-28a9ee71e0dd\")) {                    Plotly.newPlot(                        \"c2922e0d-1242-41ff-a182-28a9ee71e0dd\",                        [{\"close\":[11100.0,10500.0,11000.0,11050.0,11550.0,11750.0,11850.0,11900.0,12350.0,12100.0,12350.0,14250.0,13350.0,14500.0,13950.0,13500.0,13900.0,13850.0,14500.0,14400.0,15150.0,14700.0,14150.0,13750.0,14300.0,14400.0,null,14500.0,13850.0,13750.0,13850.0,14000.0,14550.0,14700.0,14400.0,14350.0,13900.0,14250.0,14500.0,14550.0,14450.0,15200.0,14800.0,14400.0,13850.0,14050.0,13500.0,13550.0,13000.0,12900.0,12650.0,12450.0,12550.0,13050.0,13150.0,13250.0,13250.0,13600.0,13600.0,13550.0,13550.0,13650.0,13700.0,14350.0,13750.0,13650.0,13750.0,13800.0,13550.0,13400.0,12950.0,13100.0,13000.0,13300.0,13000.0,12650.0,12350.0,12600.0,12550.0,12600.0,12550.0,12750.0,12450.0,12450.0,12200.0,12250.0,12050.0,12200.0,12300.0,12200.0,11850.0,11700.0,11400.0,11300.0,11200.0,10650.0,10800.0,10250.0,10200.0,10350.0,10800.0,10800.0,10650.0,11100.0,11750.0,11700.0,11750.0,11650.0,11750.0,11700.0,12050.0,12100.0,12000.0,12200.0,12000.0,11900.0,11800.0,11600.0,11600.0,11250.0,11450.0,11900.0,11350.0,11000.0,10950.0,10450.0,10050.0,9600.0,10100.0,10250.0,10100.0,10450.0,10750.0,10850.0,10750.0,10650.0,10500.0,10500.0,10500.0,10850.0,11050.0,10850.0,10750.0,10500.0,11100.0,11350.0,11450.0,11300.0,12050.0,12550.0,12400.0,12200.0,11700.0,11700.0,11600.0,11700.0,11200.0,11550.0,11300.0,10850.0,10750.0,10900.0,11050.0,10550.0,9920.0,9100.0,9340.0,9450.0,9810.0,10100.0,10550.0,10550.0,10950.0,10900.0,10700.0,10450.0,10750.0,10600.0,10600.0,10250.0,10300.0,10200.0,10050.0,10050.0,10600.0,10450.0,10950.0,10950.0,11050.0,11050.0,11100.0,11250.0,11650.0,11600.0,11000.0,11000.0,10700.0,10600.0,10100.0,9900.0,9940.0,10150.0,9990.0,9650.0,9150.0,9100.0,8850.0,9170.0,9530.0,9700.0,9670.0,9650.0,9700.0,9880.0,9600.0,9030.0,8780.0,9050.0,9090.0,9360.0,9250.0,8960.0,9020.0,8630.0,8810.0,8880.0,9300.0,9160.0,9060.0,8730.0,8250.0,8600.0,8860.0,10100.0,10650.0,10450.0,10250.0,10400.0,10350.0,10350.0,10500.0,10900.0,10700.0,10850.0,11550.0],\"high\":[11100,12500,11000,11250,11650,11800,12400,12100,12700,12550,12650,15400,14750,17250,14550,14300,14200,15450,14800,15000,15250,16300,15250,14250,14900,14600,15350,15100,14400,14350,14800,14100,14900,14950,14800,14550,14350,14350,14600,14750,14650,15200,17500,14950,14600,14200,13900,13850,13650,13250,13050,12750,12650,13100,13200,13300,13550,13750,14050,13700,13750,13800,14550,14550,14400,14100,13900,14050,13850,13900,13250,13350,13150,13500,13300,13050,12550,12950,12800,12800,12750,13000,12800,12750,12500,12300,12250,12300,12350,12450,12250,11850,11750,11500,11350,11300,10900,10800,10450,10850,10850,10900,10850,11100,11900,12000,11800,11850,11850,11750,12100,12200,12200,12250,12500,12300,12150,11900,11750,11550,11750,11900,11950,11250,11100,11050,10400,10400,10200,10250,10250,10450,10950,10950,11000,10900,10800,10750,10650,10850,11100,11100,10850,10800,11200,11400,11550,11550,12200,12700,12650,12500,12250,12000,11850,11700,11750,11550,11700,11350,11300,11000,11300,11250,10400,10150,9600,9470,9870,10200,10800,10900,11000,11200,10900,10700,10750,10800,10600,10650,11100,10400,10350,10200,10800,10600,11000,10950,11100,11100,11300,11500,11700,11800,11900,11300,11100,10800,10600,10350,10100,10250,10150,10000,9750,9480,9300,9190,9530,9730,9690,9790,9860,10150,9880,9420,9240,9110,9440,9370,9300,9230,9110,9080,8930,8930,9300,9280,9160,9040,8660,8880,8890,10800,10650,10750,10650,10500,10400,10350,10800,11250,10850,11150,11700],\"low\":[9900,10350,10300,10700,10900,11250,11700,11550,11600,11950,11900,12150,13250,13450,13800,13400,13350,13600,13700,14350,13900,14000,14050,13500,13500,13900,14000,14450,13850,13600,13400,13700,13850,14500,14350,14250,13850,13850,14150,14300,14400,14300,14750,14300,13850,13650,13500,13500,12950,12650,12400,12300,12400,12550,12800,12850,12950,13200,13400,13300,13400,13500,13600,13750,13700,13600,13500,13600,13450,12950,12850,12950,12750,12850,12950,12500,12200,12350,12450,12450,12400,12500,12350,12300,12050,12100,11950,11950,12150,12100,11700,11300,11300,11150,10750,10550,10400,10150,9880,10250,10450,10500,10600,10450,11000,11700,11600,11550,11600,11500,11600,11900,11900,11800,11850,11900,11700,11600,11400,11150,11250,11300,11250,10800,10900,10350,9950,9600,9620,9990,9980,10000,10400,10650,10600,10600,10500,10350,10450,10500,10800,10750,10600,10500,10500,11000,11300,11200,11300,11900,12300,12000,11700,11600,11450,11300,11150,11000,11300,10500,10650,10750,10900,10550,9850,9000,8800,9100,9490,9690,9930,10400,10550,10700,10600,10350,10350,10550,10350,10150,10000,10200,10000,10000,10000,10350,10350,10700,10850,10850,10850,10800,11250,11300,10900,10850,10600,10450,10050,9860,9800,9880,9960,9610,9100,9030,8730,8590,9300,9400,9550,9590,9650,9800,9570,8820,8660,8950,8960,9000,9050,8950,8950,8630,8670,8720,8800,9070,8920,8700,8240,8440,8540,8820,9880,10350,10050,10150,10150,10150,10350,10350,10600,10750,10700],\"open\":[9950,11750,10550,10800,11050,11600,11700,11850,11850,12250,12150,12350,14250,13550,14400,13900,13450,14350,13700,14600,14300,14950,15000,14150,13600,14300,14200,14800,14400,13750,13500,14000,14100,14500,14650,14350,14350,13950,14250,14550,14650,14400,16950,14550,14350,13700,13900,13550,13650,12950,12900,12650,12500,12600,13100,13150,13100,13350,13600,13600,13400,13600,13650,13800,14350,13650,13600,13650,13700,13800,13000,13100,13100,12850,13050,12900,12300,12600,12650,12550,12550,12500,12650,12450,12350,12200,12150,12150,12150,12400,12200,11800,11600,11350,11200,11100,10400,10500,10300,10500,10500,10850,10800,10550,11250,11900,11700,11700,11650,11750,11650,12050,12150,12000,12200,12200,11950,11800,11600,11450,11250,11300,11850,11100,10950,10750,10300,10150,9620,10150,10250,10100,10450,10950,10850,10800,10700,10500,10500,10500,10900,11100,10850,10750,10500,11100,11550,11450,11300,12100,12600,12350,11950,11750,11850,11500,11650,11200,11550,11150,10850,10850,11200,11250,10000,9930,9100,9120,9520,9820,10150,10600,10650,10750,10650,10550,10450,10750,10400,10550,10150,10300,10200,10050,10050,10550,10450,10900,10950,11000,10900,10950,11250,11500,11600,11100,11000,10550,10500,10150,9900,9880,9960,10000,9620,9050,9100,8900,9350,9440,9690,9600,9650,9800,9880,9400,9010,9100,9050,9100,9300,9090,8990,8960,8930,8720,8930,9270,9160,9040,8580,8440,8560,8870,10000,10450,10550,10250,10400,10250,10500,10550,10750,10800,10700],\"x\":[\"2021-03-30T00:00:00\",\"2021-03-31T00:00:00\",\"2021-04-01T00:00:00\",\"2021-04-02T00:00:00\",\"2021-04-05T00:00:00\",\"2021-04-06T00:00:00\",\"2021-04-07T00:00:00\",\"2021-04-08T00:00:00\",\"2021-04-09T00:00:00\",\"2021-04-12T00:00:00\",\"2021-04-13T00:00:00\",\"2021-04-14T00:00:00\",\"2021-04-15T00:00:00\",\"2021-04-16T00:00:00\",\"2021-04-19T00:00:00\",\"2021-04-20T00:00:00\",\"2021-04-21T00:00:00\",\"2021-04-22T00:00:00\",\"2021-04-23T00:00:00\",\"2021-04-26T00:00:00\",\"2021-04-27T00:00:00\",\"2021-04-28T00:00:00\",\"2021-04-29T00:00:00\",\"2021-04-30T00:00:00\",\"2021-05-03T00:00:00\",\"2021-05-04T00:00:00\",\"2021-05-07T00:00:00\",\"2021-05-10T00:00:00\",\"2021-05-11T00:00:00\",\"2021-05-12T00:00:00\",\"2021-05-13T00:00:00\",\"2021-05-14T00:00:00\",\"2021-05-17T00:00:00\",\"2021-05-18T00:00:00\",\"2021-05-20T00:00:00\",\"2021-05-21T00:00:00\",\"2021-05-24T00:00:00\",\"2021-05-25T00:00:00\",\"2021-05-26T00:00:00\",\"2021-05-27T00:00:00\",\"2021-05-28T00:00:00\",\"2021-05-31T00:00:00\",\"2021-06-01T00:00:00\",\"2021-06-02T00:00:00\",\"2021-06-03T00:00:00\",\"2021-06-04T00:00:00\",\"2021-06-07T00:00:00\",\"2021-06-08T00:00:00\",\"2021-06-09T00:00:00\",\"2021-06-10T00:00:00\",\"2021-06-11T00:00:00\",\"2021-06-14T00:00:00\",\"2021-06-15T00:00:00\",\"2021-06-16T00:00:00\",\"2021-06-17T00:00:00\",\"2021-06-18T00:00:00\",\"2021-06-21T00:00:00\",\"2021-06-22T00:00:00\",\"2021-06-23T00:00:00\",\"2021-06-24T00:00:00\",\"2021-06-25T00:00:00\",\"2021-06-28T00:00:00\",\"2021-06-29T00:00:00\",\"2021-06-30T00:00:00\",\"2021-07-01T00:00:00\",\"2021-07-02T00:00:00\",\"2021-07-05T00:00:00\",\"2021-07-06T00:00:00\",\"2021-07-07T00:00:00\",\"2021-07-08T00:00:00\",\"2021-07-12T00:00:00\",\"2021-07-13T00:00:00\",\"2021-07-14T00:00:00\",\"2021-07-15T00:00:00\",\"2021-07-16T00:00:00\",\"2021-07-19T00:00:00\",\"2021-07-20T00:00:00\",\"2021-07-21T00:00:00\",\"2021-07-22T00:00:00\",\"2021-07-23T00:00:00\",\"2021-07-26T00:00:00\",\"2021-07-27T00:00:00\",\"2021-07-28T00:00:00\",\"2021-07-29T00:00:00\",\"2021-07-30T00:00:00\",\"2021-08-02T00:00:00\",\"2021-08-03T00:00:00\",\"2021-08-04T00:00:00\",\"2021-08-05T00:00:00\",\"2021-08-06T00:00:00\",\"2021-08-09T00:00:00\",\"2021-08-10T00:00:00\",\"2021-08-11T00:00:00\",\"2021-08-12T00:00:00\",\"2021-08-13T00:00:00\",\"2021-08-17T00:00:00\",\"2021-08-18T00:00:00\",\"2021-08-19T00:00:00\",\"2021-08-20T00:00:00\",\"2021-08-23T00:00:00\",\"2021-08-24T00:00:00\",\"2021-08-25T00:00:00\",\"2021-08-26T00:00:00\",\"2021-08-27T00:00:00\",\"2021-08-30T00:00:00\",\"2021-08-31T00:00:00\",\"2021-09-01T00:00:00\",\"2021-09-02T00:00:00\",\"2021-09-03T00:00:00\",\"2021-09-06T00:00:00\",\"2021-09-07T00:00:00\",\"2021-09-08T00:00:00\",\"2021-09-09T00:00:00\",\"2021-09-10T00:00:00\",\"2021-09-13T00:00:00\",\"2021-09-14T00:00:00\",\"2021-09-15T00:00:00\",\"2021-09-16T00:00:00\",\"2021-09-17T00:00:00\",\"2021-09-23T00:00:00\",\"2021-09-24T00:00:00\",\"2021-09-27T00:00:00\",\"2021-09-28T00:00:00\",\"2021-09-29T00:00:00\",\"2021-09-30T00:00:00\",\"2021-10-01T00:00:00\",\"2021-10-05T00:00:00\",\"2021-10-06T00:00:00\",\"2021-10-07T00:00:00\",\"2021-10-08T00:00:00\",\"2021-10-12T00:00:00\",\"2021-10-13T00:00:00\",\"2021-10-14T00:00:00\",\"2021-10-15T00:00:00\",\"2021-10-18T00:00:00\",\"2021-10-19T00:00:00\",\"2021-10-20T00:00:00\",\"2021-10-21T00:00:00\",\"2021-10-22T00:00:00\",\"2021-10-25T00:00:00\",\"2021-10-26T00:00:00\",\"2021-10-27T00:00:00\",\"2021-10-28T00:00:00\",\"2021-10-29T00:00:00\",\"2021-11-01T00:00:00\",\"2021-11-02T00:00:00\",\"2021-11-03T00:00:00\",\"2021-11-04T00:00:00\",\"2021-11-05T00:00:00\",\"2021-11-08T00:00:00\",\"2021-11-09T00:00:00\",\"2021-11-10T00:00:00\",\"2021-11-11T00:00:00\",\"2021-11-12T00:00:00\",\"2021-11-15T00:00:00\",\"2021-11-16T00:00:00\",\"2021-11-17T00:00:00\",\"2021-11-18T00:00:00\",\"2021-11-19T00:00:00\",\"2021-11-22T00:00:00\",\"2021-11-23T00:00:00\",\"2021-11-24T00:00:00\",\"2021-11-25T00:00:00\",\"2021-11-26T00:00:00\",\"2021-11-29T00:00:00\",\"2021-11-30T00:00:00\",\"2021-12-01T00:00:00\",\"2021-12-02T00:00:00\",\"2021-12-03T00:00:00\",\"2021-12-06T00:00:00\",\"2021-12-07T00:00:00\",\"2021-12-08T00:00:00\",\"2021-12-09T00:00:00\",\"2021-12-10T00:00:00\",\"2021-12-13T00:00:00\",\"2021-12-14T00:00:00\",\"2021-12-15T00:00:00\",\"2021-12-16T00:00:00\",\"2021-12-17T00:00:00\",\"2021-12-20T00:00:00\",\"2021-12-21T00:00:00\",\"2021-12-22T00:00:00\",\"2021-12-23T00:00:00\",\"2021-12-24T00:00:00\",\"2021-12-27T00:00:00\",\"2021-12-28T00:00:00\",\"2021-12-29T00:00:00\",\"2021-12-30T00:00:00\",\"2022-01-03T00:00:00\",\"2022-01-04T00:00:00\",\"2022-01-05T00:00:00\",\"2022-01-06T00:00:00\",\"2022-01-07T00:00:00\",\"2022-01-10T00:00:00\",\"2022-01-11T00:00:00\",\"2022-01-12T00:00:00\",\"2022-01-13T00:00:00\",\"2022-01-14T00:00:00\",\"2022-01-17T00:00:00\",\"2022-01-18T00:00:00\",\"2022-01-19T00:00:00\",\"2022-01-20T00:00:00\",\"2022-01-21T00:00:00\",\"2022-01-24T00:00:00\",\"2022-01-25T00:00:00\",\"2022-01-26T00:00:00\",\"2022-01-27T00:00:00\",\"2022-01-28T00:00:00\",\"2022-02-03T00:00:00\",\"2022-02-04T00:00:00\",\"2022-02-07T00:00:00\",\"2022-02-08T00:00:00\",\"2022-02-09T00:00:00\",\"2022-02-10T00:00:00\",\"2022-02-11T00:00:00\",\"2022-02-14T00:00:00\",\"2022-02-15T00:00:00\",\"2022-02-16T00:00:00\",\"2022-02-17T00:00:00\",\"2022-02-18T00:00:00\",\"2022-02-21T00:00:00\",\"2022-02-22T00:00:00\",\"2022-02-23T00:00:00\",\"2022-02-24T00:00:00\",\"2022-02-25T00:00:00\",\"2022-02-28T00:00:00\",\"2022-03-02T00:00:00\",\"2022-03-03T00:00:00\",\"2022-03-04T00:00:00\",\"2022-03-07T00:00:00\",\"2022-03-08T00:00:00\",\"2022-03-10T00:00:00\",\"2022-03-11T00:00:00\",\"2022-03-14T00:00:00\",\"2022-03-15T00:00:00\",\"2022-03-16T00:00:00\",\"2022-03-17T00:00:00\",\"2022-03-18T00:00:00\",\"2022-03-21T00:00:00\",\"2022-03-22T00:00:00\",\"2022-03-23T00:00:00\",\"2022-03-24T00:00:00\",\"2022-03-25T00:00:00\",\"2022-03-28T00:00:00\",\"2022-03-29T00:00:00\"],\"type\":\"candlestick\"}],                        {\"template\":{\"data\":{\"bar\":[{\"error_x\":{\"color\":\"#2a3f5f\"},\"error_y\":{\"color\":\"#2a3f5f\"},\"marker\":{\"line\":{\"color\":\"#E5ECF6\",\"width\":0.5},\"pattern\":{\"fillmode\":\"overlay\",\"size\":10,\"solidity\":0.2}},\"type\":\"bar\"}],\"barpolar\":[{\"marker\":{\"line\":{\"color\":\"#E5ECF6\",\"width\":0.5},\"pattern\":{\"fillmode\":\"overlay\",\"size\":10,\"solidity\":0.2}},\"type\":\"barpolar\"}],\"carpet\":[{\"aaxis\":{\"endlinecolor\":\"#2a3f5f\",\"gridcolor\":\"white\",\"linecolor\":\"white\",\"minorgridcolor\":\"white\",\"startlinecolor\":\"#2a3f5f\"},\"baxis\":{\"endlinecolor\":\"#2a3f5f\",\"gridcolor\":\"white\",\"linecolor\":\"white\",\"minorgridcolor\":\"white\",\"startlinecolor\":\"#2a3f5f\"},\"type\":\"carpet\"}],\"choropleth\":[{\"colorbar\":{\"outlinewidth\":0,\"ticks\":\"\"},\"type\":\"choropleth\"}],\"contour\":[{\"colorbar\":{\"outlinewidth\":0,\"ticks\":\"\"},\"colorscale\":[[0.0,\"#0d0887\"],[0.1111111111111111,\"#46039f\"],[0.2222222222222222,\"#7201a8\"],[0.3333333333333333,\"#9c179e\"],[0.4444444444444444,\"#bd3786\"],[0.5555555555555556,\"#d8576b\"],[0.6666666666666666,\"#ed7953\"],[0.7777777777777778,\"#fb9f3a\"],[0.8888888888888888,\"#fdca26\"],[1.0,\"#f0f921\"]],\"type\":\"contour\"}],\"contourcarpet\":[{\"colorbar\":{\"outlinewidth\":0,\"ticks\":\"\"},\"type\":\"contourcarpet\"}],\"heatmap\":[{\"colorbar\":{\"outlinewidth\":0,\"ticks\":\"\"},\"colorscale\":[[0.0,\"#0d0887\"],[0.1111111111111111,\"#46039f\"],[0.2222222222222222,\"#7201a8\"],[0.3333333333333333,\"#9c179e\"],[0.4444444444444444,\"#bd3786\"],[0.5555555555555556,\"#d8576b\"],[0.6666666666666666,\"#ed7953\"],[0.7777777777777778,\"#fb9f3a\"],[0.8888888888888888,\"#fdca26\"],[1.0,\"#f0f921\"]],\"type\":\"heatmap\"}],\"heatmapgl\":[{\"colorbar\":{\"outlinewidth\":0,\"ticks\":\"\"},\"colorscale\":[[0.0,\"#0d0887\"],[0.1111111111111111,\"#46039f\"],[0.2222222222222222,\"#7201a8\"],[0.3333333333333333,\"#9c179e\"],[0.4444444444444444,\"#bd3786\"],[0.5555555555555556,\"#d8576b\"],[0.6666666666666666,\"#ed7953\"],[0.7777777777777778,\"#fb9f3a\"],[0.8888888888888888,\"#fdca26\"],[1.0,\"#f0f921\"]],\"type\":\"heatmapgl\"}],\"histogram\":[{\"marker\":{\"pattern\":{\"fillmode\":\"overlay\",\"size\":10,\"solidity\":0.2}},\"type\":\"histogram\"}],\"histogram2d\":[{\"colorbar\":{\"outlinewidth\":0,\"ticks\":\"\"},\"colorscale\":[[0.0,\"#0d0887\"],[0.1111111111111111,\"#46039f\"],[0.2222222222222222,\"#7201a8\"],[0.3333333333333333,\"#9c179e\"],[0.4444444444444444,\"#bd3786\"],[0.5555555555555556,\"#d8576b\"],[0.6666666666666666,\"#ed7953\"],[0.7777777777777778,\"#fb9f3a\"],[0.8888888888888888,\"#fdca26\"],[1.0,\"#f0f921\"]],\"type\":\"histogram2d\"}],\"histogram2dcontour\":[{\"colorbar\":{\"outlinewidth\":0,\"ticks\":\"\"},\"colorscale\":[[0.0,\"#0d0887\"],[0.1111111111111111,\"#46039f\"],[0.2222222222222222,\"#7201a8\"],[0.3333333333333333,\"#9c179e\"],[0.4444444444444444,\"#bd3786\"],[0.5555555555555556,\"#d8576b\"],[0.6666666666666666,\"#ed7953\"],[0.7777777777777778,\"#fb9f3a\"],[0.8888888888888888,\"#fdca26\"],[1.0,\"#f0f921\"]],\"type\":\"histogram2dcontour\"}],\"mesh3d\":[{\"colorbar\":{\"outlinewidth\":0,\"ticks\":\"\"},\"type\":\"mesh3d\"}],\"parcoords\":[{\"line\":{\"colorbar\":{\"outlinewidth\":0,\"ticks\":\"\"}},\"type\":\"parcoords\"}],\"pie\":[{\"automargin\":true,\"type\":\"pie\"}],\"scatter\":[{\"marker\":{\"colorbar\":{\"outlinewidth\":0,\"ticks\":\"\"}},\"type\":\"scatter\"}],\"scatter3d\":[{\"line\":{\"colorbar\":{\"outlinewidth\":0,\"ticks\":\"\"}},\"marker\":{\"colorbar\":{\"outlinewidth\":0,\"ticks\":\"\"}},\"type\":\"scatter3d\"}],\"scattercarpet\":[{\"marker\":{\"colorbar\":{\"outlinewidth\":0,\"ticks\":\"\"}},\"type\":\"scattercarpet\"}],\"scattergeo\":[{\"marker\":{\"colorbar\":{\"outlinewidth\":0,\"ticks\":\"\"}},\"type\":\"scattergeo\"}],\"scattergl\":[{\"marker\":{\"colorbar\":{\"outlinewidth\":0,\"ticks\":\"\"}},\"type\":\"scattergl\"}],\"scattermapbox\":[{\"marker\":{\"colorbar\":{\"outlinewidth\":0,\"ticks\":\"\"}},\"type\":\"scattermapbox\"}],\"scatterpolar\":[{\"marker\":{\"colorbar\":{\"outlinewidth\":0,\"ticks\":\"\"}},\"type\":\"scatterpolar\"}],\"scatterpolargl\":[{\"marker\":{\"colorbar\":{\"outlinewidth\":0,\"ticks\":\"\"}},\"type\":\"scatterpolargl\"}],\"scatterternary\":[{\"marker\":{\"colorbar\":{\"outlinewidth\":0,\"ticks\":\"\"}},\"type\":\"scatterternary\"}],\"surface\":[{\"colorbar\":{\"outlinewidth\":0,\"ticks\":\"\"},\"colorscale\":[[0.0,\"#0d0887\"],[0.1111111111111111,\"#46039f\"],[0.2222222222222222,\"#7201a8\"],[0.3333333333333333,\"#9c179e\"],[0.4444444444444444,\"#bd3786\"],[0.5555555555555556,\"#d8576b\"],[0.6666666666666666,\"#ed7953\"],[0.7777777777777778,\"#fb9f3a\"],[0.8888888888888888,\"#fdca26\"],[1.0,\"#f0f921\"]],\"type\":\"surface\"}],\"table\":[{\"cells\":{\"fill\":{\"color\":\"#EBF0F8\"},\"line\":{\"color\":\"white\"}},\"header\":{\"fill\":{\"color\":\"#C8D4E3\"},\"line\":{\"color\":\"white\"}},\"type\":\"table\"}]},\"layout\":{\"annotationdefaults\":{\"arrowcolor\":\"#2a3f5f\",\"arrowhead\":0,\"arrowwidth\":1},\"autotypenumbers\":\"strict\",\"coloraxis\":{\"colorbar\":{\"outlinewidth\":0,\"ticks\":\"\"}},\"colorscale\":{\"diverging\":[[0,\"#8e0152\"],[0.1,\"#c51b7d\"],[0.2,\"#de77ae\"],[0.3,\"#f1b6da\"],[0.4,\"#fde0ef\"],[0.5,\"#f7f7f7\"],[0.6,\"#e6f5d0\"],[0.7,\"#b8e186\"],[0.8,\"#7fbc41\"],[0.9,\"#4d9221\"],[1,\"#276419\"]],\"sequential\":[[0.0,\"#0d0887\"],[0.1111111111111111,\"#46039f\"],[0.2222222222222222,\"#7201a8\"],[0.3333333333333333,\"#9c179e\"],[0.4444444444444444,\"#bd3786\"],[0.5555555555555556,\"#d8576b\"],[0.6666666666666666,\"#ed7953\"],[0.7777777777777778,\"#fb9f3a\"],[0.8888888888888888,\"#fdca26\"],[1.0,\"#f0f921\"]],\"sequentialminus\":[[0.0,\"#0d0887\"],[0.1111111111111111,\"#46039f\"],[0.2222222222222222,\"#7201a8\"],[0.3333333333333333,\"#9c179e\"],[0.4444444444444444,\"#bd3786\"],[0.5555555555555556,\"#d8576b\"],[0.6666666666666666,\"#ed7953\"],[0.7777777777777778,\"#fb9f3a\"],[0.8888888888888888,\"#fdca26\"],[1.0,\"#f0f921\"]]},\"colorway\":[\"#636efa\",\"#EF553B\",\"#00cc96\",\"#ab63fa\",\"#FFA15A\",\"#19d3f3\",\"#FF6692\",\"#B6E880\",\"#FF97FF\",\"#FECB52\"],\"font\":{\"color\":\"#2a3f5f\"},\"geo\":{\"bgcolor\":\"white\",\"lakecolor\":\"white\",\"landcolor\":\"#E5ECF6\",\"showlakes\":true,\"showland\":true,\"subunitcolor\":\"white\"},\"hoverlabel\":{\"align\":\"left\"},\"hovermode\":\"closest\",\"mapbox\":{\"style\":\"light\"},\"paper_bgcolor\":\"white\",\"plot_bgcolor\":\"#E5ECF6\",\"polar\":{\"angularaxis\":{\"gridcolor\":\"white\",\"linecolor\":\"white\",\"ticks\":\"\"},\"bgcolor\":\"#E5ECF6\",\"radialaxis\":{\"gridcolor\":\"white\",\"linecolor\":\"white\",\"ticks\":\"\"}},\"scene\":{\"xaxis\":{\"backgroundcolor\":\"#E5ECF6\",\"gridcolor\":\"white\",\"gridwidth\":2,\"linecolor\":\"white\",\"showbackground\":true,\"ticks\":\"\",\"zerolinecolor\":\"white\"},\"yaxis\":{\"backgroundcolor\":\"#E5ECF6\",\"gridcolor\":\"white\",\"gridwidth\":2,\"linecolor\":\"white\",\"showbackground\":true,\"ticks\":\"\",\"zerolinecolor\":\"white\"},\"zaxis\":{\"backgroundcolor\":\"#E5ECF6\",\"gridcolor\":\"white\",\"gridwidth\":2,\"linecolor\":\"white\",\"showbackground\":true,\"ticks\":\"\",\"zerolinecolor\":\"white\"}},\"shapedefaults\":{\"line\":{\"color\":\"#2a3f5f\"}},\"ternary\":{\"aaxis\":{\"gridcolor\":\"white\",\"linecolor\":\"white\",\"ticks\":\"\"},\"baxis\":{\"gridcolor\":\"white\",\"linecolor\":\"white\",\"ticks\":\"\"},\"bgcolor\":\"#E5ECF6\",\"caxis\":{\"gridcolor\":\"white\",\"linecolor\":\"white\",\"ticks\":\"\"}},\"title\":{\"x\":0.05},\"xaxis\":{\"automargin\":true,\"gridcolor\":\"white\",\"linecolor\":\"white\",\"ticks\":\"\",\"title\":{\"standoff\":15},\"zerolinecolor\":\"white\",\"zerolinewidth\":2},\"yaxis\":{\"automargin\":true,\"gridcolor\":\"white\",\"linecolor\":\"white\",\"ticks\":\"\",\"title\":{\"standoff\":15},\"zerolinecolor\":\"white\",\"zerolinewidth\":2}}}},                        {\"responsive\": true}                    ).then(function(){\n",
              "                            \n",
              "var gd = document.getElementById('c2922e0d-1242-41ff-a182-28a9ee71e0dd');\n",
              "var x = new MutationObserver(function (mutations, observer) {{\n",
              "        var display = window.getComputedStyle(gd).display;\n",
              "        if (!display || display === 'none') {{\n",
              "            console.log([gd, 'removed!']);\n",
              "            Plotly.purge(gd);\n",
              "            observer.disconnect();\n",
              "        }}\n",
              "}});\n",
              "\n",
              "// Listen for the removal of the full notebook cells\n",
              "var notebookContainer = gd.closest('#notebook-container');\n",
              "if (notebookContainer) {{\n",
              "    x.observe(notebookContainer, {childList: true});\n",
              "}}\n",
              "\n",
              "// Listen for the clearing of the current output cell\n",
              "var outputEl = gd.closest('.output');\n",
              "if (outputEl) {{\n",
              "    x.observe(outputEl, {childList: true});\n",
              "}}\n",
              "\n",
              "                        })                };                            </script>        </div>\n",
              "</body>\n",
              "</html>"
            ]
          },
          "metadata": {},
          "output_type": "display_data"
        }
      ],
      "source": [
        "go.Figure(data = [\n",
        "                  go.Candlestick(\n",
        "                      x=df.index,\n",
        "                      open = df['uOpen'],\n",
        "                      high = df['uHigh'],\n",
        "                      low = df['uLow'],\n",
        "                      close = df['uClose'],\n",
        "                                 )\n",
        "])"
      ]
    },
    {
      "cell_type": "code",
      "execution_count": null,
      "metadata": {
        "colab": {
          "base_uri": "https://localhost:8080/"
        },
        "id": "nlHCjpZgYGjc",
        "outputId": "b5287bdf-ed60-49ba-d007-ad00d7c5c8c4"
      },
      "outputs": [
        {
          "data": {
            "text/plain": [
              "(245, 25)"
            ]
          },
          "execution_count": 59,
          "metadata": {},
          "output_type": "execute_result"
        }
      ],
      "source": [
        "df.shape"
      ]
    },
    {
      "cell_type": "code",
      "execution_count": null,
      "metadata": {
        "colab": {
          "base_uri": "https://localhost:8080/",
          "height": 542
        },
        "id": "ay9Hfx7-XB79",
        "outputId": "fb77f176-592c-4e03-b2c3-5cd8a69d4544"
      },
      "outputs": [
        {
          "data": {
            "text/html": [
              "<html>\n",
              "<head><meta charset=\"utf-8\" /></head>\n",
              "<body>\n",
              "    <div>            <script src=\"https://cdnjs.cloudflare.com/ajax/libs/mathjax/2.7.5/MathJax.js?config=TeX-AMS-MML_SVG\"></script><script type=\"text/javascript\">if (window.MathJax) {MathJax.Hub.Config({SVG: {font: \"STIX-Web\"}});}</script>                <script type=\"text/javascript\">window.PlotlyConfig = {MathJaxConfig: 'local'};</script>\n",
              "        <script src=\"https://cdn.plot.ly/plotly-2.8.3.min.js\"></script>                <div id=\"bf5b385f-79ca-4fa4-9391-7304d47fe654\" class=\"plotly-graph-div\" style=\"height:525px; width:100%;\"></div>            <script type=\"text/javascript\">                                    window.PLOTLYENV=window.PLOTLYENV || {};                                    if (document.getElementById(\"bf5b385f-79ca-4fa4-9391-7304d47fe654\")) {                    Plotly.newPlot(                        \"bf5b385f-79ca-4fa4-9391-7304d47fe654\",                        [{\"close\":[9890.0,9810.0,9720.0,9620.0,9890.0,11100.0,10500.0,11000.0,11050.0,11550.0,11750.0,11850.0,11900.0,12350.0,12100.0,12350.0,14250.0,13350.0,14500.0,13950.0,13500.0,13900.0,13850.0,14500.0,14400.0,15150.0,14700.0,14150.0,13750.0,14300.0,14400.0,null,14500.0,13850.0,13750.0,13850.0,14000.0,14550.0,14700.0,14400.0,14350.0,13900.0,14250.0,14500.0,14550.0,14450.0,15200.0,14800.0,14400.0,13850.0,14050.0,13500.0,13550.0,13000.0,12900.0,12650.0,12450.0,12550.0,13050.0,13150.0,13250.0,13250.0,13600.0,13600.0,13550.0,13550.0,13650.0,13700.0,14350.0,13750.0,13650.0,13750.0,13800.0,13550.0,13400.0,12950.0,13100.0,13000.0,13300.0,13000.0,12650.0,12350.0,12600.0,12550.0,12600.0,12550.0,12750.0,12450.0,12450.0,12200.0,12250.0,12050.0,12200.0,12300.0,12200.0,11850.0,11700.0,11400.0,11300.0,11200.0,10650.0,10800.0,10250.0,10200.0,10350.0,10800.0,10800.0,10650.0,11100.0,11750.0,11700.0,11750.0,11650.0,11750.0,11700.0,12050.0,12100.0,12000.0,12200.0,12000.0,11900.0,11800.0,11600.0,11600.0,11250.0,11450.0,11900.0,11350.0,11000.0,10950.0,10450.0,10050.0,9600.0,10100.0,10250.0,10100.0,10450.0,10750.0,10850.0,10750.0,10650.0,10500.0,10500.0,10500.0,10850.0,11050.0,10850.0,10750.0,10500.0,11100.0,11350.0,11450.0,11300.0,12050.0,12550.0,12400.0,12200.0,11700.0,11700.0,11600.0,11700.0,11200.0,11550.0,11300.0,10850.0,10750.0,10900.0,11050.0,10550.0,9920.0,9100.0,9340.0,9450.0,9810.0,10100.0,10550.0,10550.0,10950.0,10900.0,10700.0,10450.0,10750.0,10600.0,10600.0,10250.0,10300.0,10200.0,10050.0,10050.0,10600.0,10450.0,10950.0,10950.0,11050.0,11050.0,11100.0,11250.0,11650.0,11600.0,11000.0,11000.0,10700.0,10600.0,10100.0,9900.0,9940.0,10150.0,9990.0,9650.0,9150.0,9100.0,8850.0,9170.0,9530.0,9700.0,9670.0,9650.0,9700.0,9880.0,9600.0,9030.0,8780.0,9050.0,9090.0,9360.0,9250.0,8960.0,9020.0,8630.0,8810.0,8880.0,9300.0,9160.0,9060.0,8730.0,8250.0,8600.0,8860.0,10100.0,10650.0,10450.0,10250.0,10400.0,10350.0,10350.0],\"high\":[10350,9950,10100,9810,9950,11100,12500,11000,11250,11650,11800,12400,12100,12700,12550,12650,15400,14750,17250,14550,14300,14200,15450,14800,15000,15250,16300,15250,14250,14900,14600,15350,15100,14400,14350,14800,14100,14900,14950,14800,14550,14350,14350,14600,14750,14650,15200,17500,14950,14600,14200,13900,13850,13650,13250,13050,12750,12650,13100,13200,13300,13550,13750,14050,13700,13750,13800,14550,14550,14400,14100,13900,14050,13850,13900,13250,13350,13150,13500,13300,13050,12550,12950,12800,12800,12750,13000,12800,12750,12500,12300,12250,12300,12350,12450,12250,11850,11750,11500,11350,11300,10900,10800,10450,10850,10850,10900,10850,11100,11900,12000,11800,11850,11850,11750,12100,12200,12200,12250,12500,12300,12150,11900,11750,11550,11750,11900,11950,11250,11100,11050,10400,10400,10200,10250,10250,10450,10950,10950,11000,10900,10800,10750,10650,10850,11100,11100,10850,10800,11200,11400,11550,11550,12200,12700,12650,12500,12250,12000,11850,11700,11750,11550,11700,11350,11300,11000,11300,11250,10400,10150,9600,9470,9870,10200,10800,10900,11000,11200,10900,10700,10750,10800,10600,10650,11100,10400,10350,10200,10800,10600,11000,10950,11100,11100,11300,11500,11700,11800,11900,11300,11100,10800,10600,10350,10100,10250,10150,10000,9750,9480,9300,9190,9530,9730,9690,9790,9860,10150,9880,9420,9240,9110,9440,9370,9300,9230,9110,9080,8930,8930,9300,9280,9160,9040,8660,8880,8890,10800,10650,10750,10650,10500,10400,10350],\"low\":[9880,9600,9700,9530,9530,9900,10350,10300,10700,10900,11250,11700,11550,11600,11950,11900,12150,13250,13450,13800,13400,13350,13600,13700,14350,13900,14000,14050,13500,13500,13900,14000,14450,13850,13600,13400,13700,13850,14500,14350,14250,13850,13850,14150,14300,14400,14300,14750,14300,13850,13650,13500,13500,12950,12650,12400,12300,12400,12550,12800,12850,12950,13200,13400,13300,13400,13500,13600,13750,13700,13600,13500,13600,13450,12950,12850,12950,12750,12850,12950,12500,12200,12350,12450,12450,12400,12500,12350,12300,12050,12100,11950,11950,12150,12100,11700,11300,11300,11150,10750,10550,10400,10150,9880,10250,10450,10500,10600,10450,11000,11700,11600,11550,11600,11500,11600,11900,11900,11800,11850,11900,11700,11600,11400,11150,11250,11300,11250,10800,10900,10350,9950,9600,9620,9990,9980,10000,10400,10650,10600,10600,10500,10350,10450,10500,10800,10750,10600,10500,10500,11000,11300,11200,11300,11900,12300,12000,11700,11600,11450,11300,11150,11000,11300,10500,10650,10750,10900,10550,9850,9000,8800,9100,9490,9690,9930,10400,10550,10700,10600,10350,10350,10550,10350,10150,10000,10200,10000,10000,10000,10350,10350,10700,10850,10850,10850,10800,11250,11300,10900,10850,10600,10450,10050,9860,9800,9880,9960,9610,9100,9030,8730,8590,9300,9400,9550,9590,9650,9800,9570,8820,8660,8950,8960,9000,9050,8950,8950,8630,8670,8720,8800,9070,8920,8700,8240,8440,8540,8820,9880,10350,10050,10150,10150,10150],\"open\":[10150,9900,9790,9720,9640,9950,11750,10550,10800,11050,11600,11700,11850,11850,12250,12150,12350,14250,13550,14400,13900,13450,14350,13700,14600,14300,14950,15000,14150,13600,14300,14200,14800,14400,13750,13500,14000,14100,14500,14650,14350,14350,13950,14250,14550,14650,14400,16950,14550,14350,13700,13900,13550,13650,12950,12900,12650,12500,12600,13100,13150,13100,13350,13600,13600,13400,13600,13650,13800,14350,13650,13600,13650,13700,13800,13000,13100,13100,12850,13050,12900,12300,12600,12650,12550,12550,12500,12650,12450,12350,12200,12150,12150,12150,12400,12200,11800,11600,11350,11200,11100,10400,10500,10300,10500,10500,10850,10800,10550,11250,11900,11700,11700,11650,11750,11650,12050,12150,12000,12200,12200,11950,11800,11600,11450,11250,11300,11850,11100,10950,10750,10300,10150,9620,10150,10250,10100,10450,10950,10850,10800,10700,10500,10500,10500,10900,11100,10850,10750,10500,11100,11550,11450,11300,12100,12600,12350,11950,11750,11850,11500,11650,11200,11550,11150,10850,10850,11200,11250,10000,9930,9100,9120,9520,9820,10150,10600,10650,10750,10650,10550,10450,10750,10400,10550,10150,10300,10200,10050,10050,10550,10450,10900,10950,11000,10900,10950,11250,11500,11600,11100,11000,10550,10500,10150,9900,9880,9960,10000,9620,9050,9100,8900,9350,9440,9690,9600,9650,9800,9880,9400,9010,9100,9050,9100,9300,9090,8990,8960,8930,8720,8930,9270,9160,9040,8580,8440,8560,8870,10000,10450,10550,10250,10400,10250],\"x\":[\"2021-03-23T00:00:00\",\"2021-03-24T00:00:00\",\"2021-03-25T00:00:00\",\"2021-03-26T00:00:00\",\"2021-03-29T00:00:00\",\"2021-03-30T00:00:00\",\"2021-03-31T00:00:00\",\"2021-04-01T00:00:00\",\"2021-04-02T00:00:00\",\"2021-04-05T00:00:00\",\"2021-04-06T00:00:00\",\"2021-04-07T00:00:00\",\"2021-04-08T00:00:00\",\"2021-04-09T00:00:00\",\"2021-04-12T00:00:00\",\"2021-04-13T00:00:00\",\"2021-04-14T00:00:00\",\"2021-04-15T00:00:00\",\"2021-04-16T00:00:00\",\"2021-04-19T00:00:00\",\"2021-04-20T00:00:00\",\"2021-04-21T00:00:00\",\"2021-04-22T00:00:00\",\"2021-04-23T00:00:00\",\"2021-04-26T00:00:00\",\"2021-04-27T00:00:00\",\"2021-04-28T00:00:00\",\"2021-04-29T00:00:00\",\"2021-04-30T00:00:00\",\"2021-05-03T00:00:00\",\"2021-05-04T00:00:00\",\"2021-05-07T00:00:00\",\"2021-05-10T00:00:00\",\"2021-05-11T00:00:00\",\"2021-05-12T00:00:00\",\"2021-05-13T00:00:00\",\"2021-05-14T00:00:00\",\"2021-05-17T00:00:00\",\"2021-05-18T00:00:00\",\"2021-05-20T00:00:00\",\"2021-05-21T00:00:00\",\"2021-05-24T00:00:00\",\"2021-05-25T00:00:00\",\"2021-05-26T00:00:00\",\"2021-05-27T00:00:00\",\"2021-05-28T00:00:00\",\"2021-05-31T00:00:00\",\"2021-06-01T00:00:00\",\"2021-06-02T00:00:00\",\"2021-06-03T00:00:00\",\"2021-06-04T00:00:00\",\"2021-06-07T00:00:00\",\"2021-06-08T00:00:00\",\"2021-06-09T00:00:00\",\"2021-06-10T00:00:00\",\"2021-06-11T00:00:00\",\"2021-06-14T00:00:00\",\"2021-06-15T00:00:00\",\"2021-06-16T00:00:00\",\"2021-06-17T00:00:00\",\"2021-06-18T00:00:00\",\"2021-06-21T00:00:00\",\"2021-06-22T00:00:00\",\"2021-06-23T00:00:00\",\"2021-06-24T00:00:00\",\"2021-06-25T00:00:00\",\"2021-06-28T00:00:00\",\"2021-06-29T00:00:00\",\"2021-06-30T00:00:00\",\"2021-07-01T00:00:00\",\"2021-07-02T00:00:00\",\"2021-07-05T00:00:00\",\"2021-07-06T00:00:00\",\"2021-07-07T00:00:00\",\"2021-07-08T00:00:00\",\"2021-07-12T00:00:00\",\"2021-07-13T00:00:00\",\"2021-07-14T00:00:00\",\"2021-07-15T00:00:00\",\"2021-07-16T00:00:00\",\"2021-07-19T00:00:00\",\"2021-07-20T00:00:00\",\"2021-07-21T00:00:00\",\"2021-07-22T00:00:00\",\"2021-07-23T00:00:00\",\"2021-07-26T00:00:00\",\"2021-07-27T00:00:00\",\"2021-07-28T00:00:00\",\"2021-07-29T00:00:00\",\"2021-07-30T00:00:00\",\"2021-08-02T00:00:00\",\"2021-08-03T00:00:00\",\"2021-08-04T00:00:00\",\"2021-08-05T00:00:00\",\"2021-08-06T00:00:00\",\"2021-08-09T00:00:00\",\"2021-08-10T00:00:00\",\"2021-08-11T00:00:00\",\"2021-08-12T00:00:00\",\"2021-08-13T00:00:00\",\"2021-08-17T00:00:00\",\"2021-08-18T00:00:00\",\"2021-08-19T00:00:00\",\"2021-08-20T00:00:00\",\"2021-08-23T00:00:00\",\"2021-08-24T00:00:00\",\"2021-08-25T00:00:00\",\"2021-08-26T00:00:00\",\"2021-08-27T00:00:00\",\"2021-08-30T00:00:00\",\"2021-08-31T00:00:00\",\"2021-09-01T00:00:00\",\"2021-09-02T00:00:00\",\"2021-09-03T00:00:00\",\"2021-09-06T00:00:00\",\"2021-09-07T00:00:00\",\"2021-09-08T00:00:00\",\"2021-09-09T00:00:00\",\"2021-09-10T00:00:00\",\"2021-09-13T00:00:00\",\"2021-09-14T00:00:00\",\"2021-09-15T00:00:00\",\"2021-09-16T00:00:00\",\"2021-09-17T00:00:00\",\"2021-09-23T00:00:00\",\"2021-09-24T00:00:00\",\"2021-09-27T00:00:00\",\"2021-09-28T00:00:00\",\"2021-09-29T00:00:00\",\"2021-09-30T00:00:00\",\"2021-10-01T00:00:00\",\"2021-10-05T00:00:00\",\"2021-10-06T00:00:00\",\"2021-10-07T00:00:00\",\"2021-10-08T00:00:00\",\"2021-10-12T00:00:00\",\"2021-10-13T00:00:00\",\"2021-10-14T00:00:00\",\"2021-10-15T00:00:00\",\"2021-10-18T00:00:00\",\"2021-10-19T00:00:00\",\"2021-10-20T00:00:00\",\"2021-10-21T00:00:00\",\"2021-10-22T00:00:00\",\"2021-10-25T00:00:00\",\"2021-10-26T00:00:00\",\"2021-10-27T00:00:00\",\"2021-10-28T00:00:00\",\"2021-10-29T00:00:00\",\"2021-11-01T00:00:00\",\"2021-11-02T00:00:00\",\"2021-11-03T00:00:00\",\"2021-11-04T00:00:00\",\"2021-11-05T00:00:00\",\"2021-11-08T00:00:00\",\"2021-11-09T00:00:00\",\"2021-11-10T00:00:00\",\"2021-11-11T00:00:00\",\"2021-11-12T00:00:00\",\"2021-11-15T00:00:00\",\"2021-11-16T00:00:00\",\"2021-11-17T00:00:00\",\"2021-11-18T00:00:00\",\"2021-11-19T00:00:00\",\"2021-11-22T00:00:00\",\"2021-11-23T00:00:00\",\"2021-11-24T00:00:00\",\"2021-11-25T00:00:00\",\"2021-11-26T00:00:00\",\"2021-11-29T00:00:00\",\"2021-11-30T00:00:00\",\"2021-12-01T00:00:00\",\"2021-12-02T00:00:00\",\"2021-12-03T00:00:00\",\"2021-12-06T00:00:00\",\"2021-12-07T00:00:00\",\"2021-12-08T00:00:00\",\"2021-12-09T00:00:00\",\"2021-12-10T00:00:00\",\"2021-12-13T00:00:00\",\"2021-12-14T00:00:00\",\"2021-12-15T00:00:00\",\"2021-12-16T00:00:00\",\"2021-12-17T00:00:00\",\"2021-12-20T00:00:00\",\"2021-12-21T00:00:00\",\"2021-12-22T00:00:00\",\"2021-12-23T00:00:00\",\"2021-12-24T00:00:00\",\"2021-12-27T00:00:00\",\"2021-12-28T00:00:00\",\"2021-12-29T00:00:00\",\"2021-12-30T00:00:00\",\"2022-01-03T00:00:00\",\"2022-01-04T00:00:00\",\"2022-01-05T00:00:00\",\"2022-01-06T00:00:00\",\"2022-01-07T00:00:00\",\"2022-01-10T00:00:00\",\"2022-01-11T00:00:00\",\"2022-01-12T00:00:00\",\"2022-01-13T00:00:00\",\"2022-01-14T00:00:00\",\"2022-01-17T00:00:00\",\"2022-01-18T00:00:00\",\"2022-01-19T00:00:00\",\"2022-01-20T00:00:00\",\"2022-01-21T00:00:00\",\"2022-01-24T00:00:00\",\"2022-01-25T00:00:00\",\"2022-01-26T00:00:00\",\"2022-01-27T00:00:00\",\"2022-01-28T00:00:00\",\"2022-02-03T00:00:00\",\"2022-02-04T00:00:00\",\"2022-02-07T00:00:00\",\"2022-02-08T00:00:00\",\"2022-02-09T00:00:00\",\"2022-02-10T00:00:00\",\"2022-02-11T00:00:00\",\"2022-02-14T00:00:00\",\"2022-02-15T00:00:00\",\"2022-02-16T00:00:00\",\"2022-02-17T00:00:00\",\"2022-02-18T00:00:00\",\"2022-02-21T00:00:00\",\"2022-02-22T00:00:00\",\"2022-02-23T00:00:00\",\"2022-02-24T00:00:00\",\"2022-02-25T00:00:00\",\"2022-02-28T00:00:00\",\"2022-03-02T00:00:00\",\"2022-03-03T00:00:00\",\"2022-03-04T00:00:00\",\"2022-03-07T00:00:00\",\"2022-03-08T00:00:00\",\"2022-03-10T00:00:00\",\"2022-03-11T00:00:00\",\"2022-03-14T00:00:00\",\"2022-03-15T00:00:00\",\"2022-03-16T00:00:00\",\"2022-03-17T00:00:00\",\"2022-03-18T00:00:00\",\"2022-03-21T00:00:00\",\"2022-03-22T00:00:00\"],\"type\":\"candlestick\"}],                        {\"template\":{\"data\":{\"bar\":[{\"error_x\":{\"color\":\"#2a3f5f\"},\"error_y\":{\"color\":\"#2a3f5f\"},\"marker\":{\"line\":{\"color\":\"#E5ECF6\",\"width\":0.5},\"pattern\":{\"fillmode\":\"overlay\",\"size\":10,\"solidity\":0.2}},\"type\":\"bar\"}],\"barpolar\":[{\"marker\":{\"line\":{\"color\":\"#E5ECF6\",\"width\":0.5},\"pattern\":{\"fillmode\":\"overlay\",\"size\":10,\"solidity\":0.2}},\"type\":\"barpolar\"}],\"carpet\":[{\"aaxis\":{\"endlinecolor\":\"#2a3f5f\",\"gridcolor\":\"white\",\"linecolor\":\"white\",\"minorgridcolor\":\"white\",\"startlinecolor\":\"#2a3f5f\"},\"baxis\":{\"endlinecolor\":\"#2a3f5f\",\"gridcolor\":\"white\",\"linecolor\":\"white\",\"minorgridcolor\":\"white\",\"startlinecolor\":\"#2a3f5f\"},\"type\":\"carpet\"}],\"choropleth\":[{\"colorbar\":{\"outlinewidth\":0,\"ticks\":\"\"},\"type\":\"choropleth\"}],\"contour\":[{\"colorbar\":{\"outlinewidth\":0,\"ticks\":\"\"},\"colorscale\":[[0.0,\"#0d0887\"],[0.1111111111111111,\"#46039f\"],[0.2222222222222222,\"#7201a8\"],[0.3333333333333333,\"#9c179e\"],[0.4444444444444444,\"#bd3786\"],[0.5555555555555556,\"#d8576b\"],[0.6666666666666666,\"#ed7953\"],[0.7777777777777778,\"#fb9f3a\"],[0.8888888888888888,\"#fdca26\"],[1.0,\"#f0f921\"]],\"type\":\"contour\"}],\"contourcarpet\":[{\"colorbar\":{\"outlinewidth\":0,\"ticks\":\"\"},\"type\":\"contourcarpet\"}],\"heatmap\":[{\"colorbar\":{\"outlinewidth\":0,\"ticks\":\"\"},\"colorscale\":[[0.0,\"#0d0887\"],[0.1111111111111111,\"#46039f\"],[0.2222222222222222,\"#7201a8\"],[0.3333333333333333,\"#9c179e\"],[0.4444444444444444,\"#bd3786\"],[0.5555555555555556,\"#d8576b\"],[0.6666666666666666,\"#ed7953\"],[0.7777777777777778,\"#fb9f3a\"],[0.8888888888888888,\"#fdca26\"],[1.0,\"#f0f921\"]],\"type\":\"heatmap\"}],\"heatmapgl\":[{\"colorbar\":{\"outlinewidth\":0,\"ticks\":\"\"},\"colorscale\":[[0.0,\"#0d0887\"],[0.1111111111111111,\"#46039f\"],[0.2222222222222222,\"#7201a8\"],[0.3333333333333333,\"#9c179e\"],[0.4444444444444444,\"#bd3786\"],[0.5555555555555556,\"#d8576b\"],[0.6666666666666666,\"#ed7953\"],[0.7777777777777778,\"#fb9f3a\"],[0.8888888888888888,\"#fdca26\"],[1.0,\"#f0f921\"]],\"type\":\"heatmapgl\"}],\"histogram\":[{\"marker\":{\"pattern\":{\"fillmode\":\"overlay\",\"size\":10,\"solidity\":0.2}},\"type\":\"histogram\"}],\"histogram2d\":[{\"colorbar\":{\"outlinewidth\":0,\"ticks\":\"\"},\"colorscale\":[[0.0,\"#0d0887\"],[0.1111111111111111,\"#46039f\"],[0.2222222222222222,\"#7201a8\"],[0.3333333333333333,\"#9c179e\"],[0.4444444444444444,\"#bd3786\"],[0.5555555555555556,\"#d8576b\"],[0.6666666666666666,\"#ed7953\"],[0.7777777777777778,\"#fb9f3a\"],[0.8888888888888888,\"#fdca26\"],[1.0,\"#f0f921\"]],\"type\":\"histogram2d\"}],\"histogram2dcontour\":[{\"colorbar\":{\"outlinewidth\":0,\"ticks\":\"\"},\"colorscale\":[[0.0,\"#0d0887\"],[0.1111111111111111,\"#46039f\"],[0.2222222222222222,\"#7201a8\"],[0.3333333333333333,\"#9c179e\"],[0.4444444444444444,\"#bd3786\"],[0.5555555555555556,\"#d8576b\"],[0.6666666666666666,\"#ed7953\"],[0.7777777777777778,\"#fb9f3a\"],[0.8888888888888888,\"#fdca26\"],[1.0,\"#f0f921\"]],\"type\":\"histogram2dcontour\"}],\"mesh3d\":[{\"colorbar\":{\"outlinewidth\":0,\"ticks\":\"\"},\"type\":\"mesh3d\"}],\"parcoords\":[{\"line\":{\"colorbar\":{\"outlinewidth\":0,\"ticks\":\"\"}},\"type\":\"parcoords\"}],\"pie\":[{\"automargin\":true,\"type\":\"pie\"}],\"scatter\":[{\"marker\":{\"colorbar\":{\"outlinewidth\":0,\"ticks\":\"\"}},\"type\":\"scatter\"}],\"scatter3d\":[{\"line\":{\"colorbar\":{\"outlinewidth\":0,\"ticks\":\"\"}},\"marker\":{\"colorbar\":{\"outlinewidth\":0,\"ticks\":\"\"}},\"type\":\"scatter3d\"}],\"scattercarpet\":[{\"marker\":{\"colorbar\":{\"outlinewidth\":0,\"ticks\":\"\"}},\"type\":\"scattercarpet\"}],\"scattergeo\":[{\"marker\":{\"colorbar\":{\"outlinewidth\":0,\"ticks\":\"\"}},\"type\":\"scattergeo\"}],\"scattergl\":[{\"marker\":{\"colorbar\":{\"outlinewidth\":0,\"ticks\":\"\"}},\"type\":\"scattergl\"}],\"scattermapbox\":[{\"marker\":{\"colorbar\":{\"outlinewidth\":0,\"ticks\":\"\"}},\"type\":\"scattermapbox\"}],\"scatterpolar\":[{\"marker\":{\"colorbar\":{\"outlinewidth\":0,\"ticks\":\"\"}},\"type\":\"scatterpolar\"}],\"scatterpolargl\":[{\"marker\":{\"colorbar\":{\"outlinewidth\":0,\"ticks\":\"\"}},\"type\":\"scatterpolargl\"}],\"scatterternary\":[{\"marker\":{\"colorbar\":{\"outlinewidth\":0,\"ticks\":\"\"}},\"type\":\"scatterternary\"}],\"surface\":[{\"colorbar\":{\"outlinewidth\":0,\"ticks\":\"\"},\"colorscale\":[[0.0,\"#0d0887\"],[0.1111111111111111,\"#46039f\"],[0.2222222222222222,\"#7201a8\"],[0.3333333333333333,\"#9c179e\"],[0.4444444444444444,\"#bd3786\"],[0.5555555555555556,\"#d8576b\"],[0.6666666666666666,\"#ed7953\"],[0.7777777777777778,\"#fb9f3a\"],[0.8888888888888888,\"#fdca26\"],[1.0,\"#f0f921\"]],\"type\":\"surface\"}],\"table\":[{\"cells\":{\"fill\":{\"color\":\"#EBF0F8\"},\"line\":{\"color\":\"white\"}},\"header\":{\"fill\":{\"color\":\"#C8D4E3\"},\"line\":{\"color\":\"white\"}},\"type\":\"table\"}]},\"layout\":{\"annotationdefaults\":{\"arrowcolor\":\"#2a3f5f\",\"arrowhead\":0,\"arrowwidth\":1},\"autotypenumbers\":\"strict\",\"coloraxis\":{\"colorbar\":{\"outlinewidth\":0,\"ticks\":\"\"}},\"colorscale\":{\"diverging\":[[0,\"#8e0152\"],[0.1,\"#c51b7d\"],[0.2,\"#de77ae\"],[0.3,\"#f1b6da\"],[0.4,\"#fde0ef\"],[0.5,\"#f7f7f7\"],[0.6,\"#e6f5d0\"],[0.7,\"#b8e186\"],[0.8,\"#7fbc41\"],[0.9,\"#4d9221\"],[1,\"#276419\"]],\"sequential\":[[0.0,\"#0d0887\"],[0.1111111111111111,\"#46039f\"],[0.2222222222222222,\"#7201a8\"],[0.3333333333333333,\"#9c179e\"],[0.4444444444444444,\"#bd3786\"],[0.5555555555555556,\"#d8576b\"],[0.6666666666666666,\"#ed7953\"],[0.7777777777777778,\"#fb9f3a\"],[0.8888888888888888,\"#fdca26\"],[1.0,\"#f0f921\"]],\"sequentialminus\":[[0.0,\"#0d0887\"],[0.1111111111111111,\"#46039f\"],[0.2222222222222222,\"#7201a8\"],[0.3333333333333333,\"#9c179e\"],[0.4444444444444444,\"#bd3786\"],[0.5555555555555556,\"#d8576b\"],[0.6666666666666666,\"#ed7953\"],[0.7777777777777778,\"#fb9f3a\"],[0.8888888888888888,\"#fdca26\"],[1.0,\"#f0f921\"]]},\"colorway\":[\"#636efa\",\"#EF553B\",\"#00cc96\",\"#ab63fa\",\"#FFA15A\",\"#19d3f3\",\"#FF6692\",\"#B6E880\",\"#FF97FF\",\"#FECB52\"],\"font\":{\"color\":\"#2a3f5f\"},\"geo\":{\"bgcolor\":\"white\",\"lakecolor\":\"white\",\"landcolor\":\"#E5ECF6\",\"showlakes\":true,\"showland\":true,\"subunitcolor\":\"white\"},\"hoverlabel\":{\"align\":\"left\"},\"hovermode\":\"closest\",\"mapbox\":{\"style\":\"light\"},\"paper_bgcolor\":\"white\",\"plot_bgcolor\":\"#E5ECF6\",\"polar\":{\"angularaxis\":{\"gridcolor\":\"white\",\"linecolor\":\"white\",\"ticks\":\"\"},\"bgcolor\":\"#E5ECF6\",\"radialaxis\":{\"gridcolor\":\"white\",\"linecolor\":\"white\",\"ticks\":\"\"}},\"scene\":{\"xaxis\":{\"backgroundcolor\":\"#E5ECF6\",\"gridcolor\":\"white\",\"gridwidth\":2,\"linecolor\":\"white\",\"showbackground\":true,\"ticks\":\"\",\"zerolinecolor\":\"white\"},\"yaxis\":{\"backgroundcolor\":\"#E5ECF6\",\"gridcolor\":\"white\",\"gridwidth\":2,\"linecolor\":\"white\",\"showbackground\":true,\"ticks\":\"\",\"zerolinecolor\":\"white\"},\"zaxis\":{\"backgroundcolor\":\"#E5ECF6\",\"gridcolor\":\"white\",\"gridwidth\":2,\"linecolor\":\"white\",\"showbackground\":true,\"ticks\":\"\",\"zerolinecolor\":\"white\"}},\"shapedefaults\":{\"line\":{\"color\":\"#2a3f5f\"}},\"ternary\":{\"aaxis\":{\"gridcolor\":\"white\",\"linecolor\":\"white\",\"ticks\":\"\"},\"baxis\":{\"gridcolor\":\"white\",\"linecolor\":\"white\",\"ticks\":\"\"},\"bgcolor\":\"#E5ECF6\",\"caxis\":{\"gridcolor\":\"white\",\"linecolor\":\"white\",\"ticks\":\"\"}},\"title\":{\"x\":0.05},\"xaxis\":{\"automargin\":true,\"gridcolor\":\"white\",\"linecolor\":\"white\",\"ticks\":\"\",\"title\":{\"standoff\":15},\"zerolinecolor\":\"white\",\"zerolinewidth\":2},\"yaxis\":{\"automargin\":true,\"gridcolor\":\"white\",\"linecolor\":\"white\",\"ticks\":\"\",\"title\":{\"standoff\":15},\"zerolinecolor\":\"white\",\"zerolinewidth\":2}}}},                        {\"responsive\": true}                    ).then(function(){\n",
              "                            \n",
              "var gd = document.getElementById('bf5b385f-79ca-4fa4-9391-7304d47fe654');\n",
              "var x = new MutationObserver(function (mutations, observer) {{\n",
              "        var display = window.getComputedStyle(gd).display;\n",
              "        if (!display || display === 'none') {{\n",
              "            console.log([gd, 'removed!']);\n",
              "            Plotly.purge(gd);\n",
              "            observer.disconnect();\n",
              "        }}\n",
              "}});\n",
              "\n",
              "// Listen for the removal of the full notebook cells\n",
              "var notebookContainer = gd.closest('#notebook-container');\n",
              "if (notebookContainer) {{\n",
              "    x.observe(notebookContainer, {childList: true});\n",
              "}}\n",
              "\n",
              "// Listen for the clearing of the current output cell\n",
              "var outputEl = gd.closest('.output');\n",
              "if (outputEl) {{\n",
              "    x.observe(outputEl, {childList: true});\n",
              "}}\n",
              "\n",
              "                        })                };                            </script>        </div>\n",
              "</body>\n",
              "</html>"
            ]
          },
          "metadata": {},
          "output_type": "display_data"
        }
      ],
      "source": [
        "go.Figure(data = [\n",
        "                  go.Candlestick(\n",
        "                      x=df.index,\n",
        "                      open = df['uOpen'],\n",
        "                      high = df['uHigh'],\n",
        "                      low = df['uLow'],\n",
        "                      close = df['uClose'],\n",
        "                                 )\n",
        "])"
      ]
    },
    {
      "cell_type": "code",
      "execution_count": 11,
      "metadata": {},
      "outputs": [
        {
          "data": {
            "text/html": [
              "<div>\n",
              "<style scoped>\n",
              "    .dataframe tbody tr th:only-of-type {\n",
              "        vertical-align: middle;\n",
              "    }\n",
              "\n",
              "    .dataframe tbody tr th {\n",
              "        vertical-align: top;\n",
              "    }\n",
              "\n",
              "    .dataframe thead th {\n",
              "        text-align: right;\n",
              "    }\n",
              "</style>\n",
              "<table border=\"1\" class=\"dataframe\">\n",
              "  <thead>\n",
              "    <tr style=\"text-align: right;\">\n",
              "      <th></th>\n",
              "      <th>총카운트</th>\n",
              "      <th>No</th>\n",
              "      <th>Code</th>\n",
              "      <th>Name</th>\n",
              "      <th>Industry Code</th>\n",
              "      <th>Industry</th>\n",
              "      <th>No. of Listed Shares(shr.)</th>\n",
              "      <th>Capital Stock(KRW)</th>\n",
              "      <th>ParValue</th>\n",
              "      <th>Currency</th>\n",
              "    </tr>\n",
              "  </thead>\n",
              "  <tbody>\n",
              "    <tr>\n",
              "      <th>0</th>\n",
              "      <td>2499</td>\n",
              "      <td>943</td>\n",
              "      <td>366030</td>\n",
              "      <td>09WOMEN</td>\n",
              "      <td>74704</td>\n",
              "      <td>Retail Sale of Textiles, Clothing, Footwear an...</td>\n",
              "      <td>3,672,100</td>\n",
              "      <td>367,210,000</td>\n",
              "      <td>100</td>\n",
              "      <td>KRW</td>\n",
              "    </tr>\n",
              "    <tr>\n",
              "      <th>1</th>\n",
              "      <td>2499</td>\n",
              "      <td>1958</td>\n",
              "      <td>159580</td>\n",
              "      <td>0TO7</td>\n",
              "      <td>74604</td>\n",
              "      <td>Wholesale of Household Goods</td>\n",
              "      <td>20,032,636</td>\n",
              "      <td>10,016,318,000</td>\n",
              "      <td>500</td>\n",
              "      <td>KRW</td>\n",
              "    </tr>\n",
              "    <tr>\n",
              "      <th>2</th>\n",
              "      <td>2499</td>\n",
              "      <td>821</td>\n",
              "      <td>60310</td>\n",
              "      <td>3S KOREA</td>\n",
              "      <td>32602</td>\n",
              "      <td>Manufacture of Electronic Components</td>\n",
              "      <td>46,271,513</td>\n",
              "      <td>23,135,756,500</td>\n",
              "      <td>500</td>\n",
              "      <td>KRW</td>\n",
              "    </tr>\n",
              "    <tr>\n",
              "      <th>3</th>\n",
              "      <td>2499</td>\n",
              "      <td>2210</td>\n",
              "      <td>389140</td>\n",
              "      <td>4by4</td>\n",
              "      <td>105901</td>\n",
              "      <td>Motion Picture, Video, Broadcasting Programmes...</td>\n",
              "      <td>10,224,235</td>\n",
              "      <td>5,139,617,500</td>\n",
              "      <td>500</td>\n",
              "      <td>KRW</td>\n",
              "    </tr>\n",
              "    <tr>\n",
              "      <th>4</th>\n",
              "      <td>2499</td>\n",
              "      <td>475</td>\n",
              "      <td>15260</td>\n",
              "      <td>A &amp;amp; P</td>\n",
              "      <td>32602</td>\n",
              "      <td>Manufacture of Electronic Components</td>\n",
              "      <td>22,336,409</td>\n",
              "      <td>11,168,204,500</td>\n",
              "      <td>500</td>\n",
              "      <td>KRW</td>\n",
              "    </tr>\n",
              "  </tbody>\n",
              "</table>\n",
              "</div>"
            ],
            "text/plain": [
              "   총카운트    No    Code       Name  Industry Code  \\\n",
              "0  2499   943  366030    09WOMEN          74704   \n",
              "1  2499  1958  159580       0TO7          74604   \n",
              "2  2499   821   60310   3S KOREA          32602   \n",
              "3  2499  2210  389140       4by4         105901   \n",
              "4  2499   475   15260  A &amp; P          32602   \n",
              "\n",
              "                                            Industry  \\\n",
              "0  Retail Sale of Textiles, Clothing, Footwear an...   \n",
              "1                       Wholesale of Household Goods   \n",
              "2               Manufacture of Electronic Components   \n",
              "3  Motion Picture, Video, Broadcasting Programmes...   \n",
              "4               Manufacture of Electronic Components   \n",
              "\n",
              "  No. of Listed Shares(shr.) Capital Stock(KRW) ParValue Currency  \n",
              "0                  3,672,100        367,210,000      100      KRW  \n",
              "1                 20,032,636     10,016,318,000      500      KRW  \n",
              "2                 46,271,513     23,135,756,500      500      KRW  \n",
              "3                 10,224,235      5,139,617,500      500      KRW  \n",
              "4                 22,336,409     11,168,204,500      500      KRW  "
            ]
          },
          "execution_count": 11,
          "metadata": {},
          "output_type": "execute_result"
        }
      ],
      "source": [
        "# read KR_stock_list file from local directory and save it as a dataframe (stock_df)\n",
        "stock_df = pd.read_excel('stock_data.xls.xlsx')\n",
        "stock_df.head()"
      ]
    },
    {
      "cell_type": "code",
      "execution_count": 65,
      "metadata": {
        "id": "nlHCjpZgYGjc"
      },
      "outputs": [
        {
          "ename": "JSONDecodeError",
          "evalue": "[Errno Expecting value] Unknown symbol: 0",
          "output_type": "error",
          "traceback": [
            "\u001b[0;31m---------------------------------------------------------------------------\u001b[0m",
            "\u001b[0;31mJSONDecodeError\u001b[0m                           Traceback (most recent call last)",
            "\u001b[0;32m~/.pyenv/versions/lewagon/lib/python3.8/site-packages/requests/models.py\u001b[0m in \u001b[0;36mjson\u001b[0;34m(self, **kwargs)\u001b[0m\n\u001b[1;32m    909\u001b[0m         \u001b[0;32mtry\u001b[0m\u001b[0;34m:\u001b[0m\u001b[0;34m\u001b[0m\u001b[0;34m\u001b[0m\u001b[0m\n\u001b[0;32m--> 910\u001b[0;31m             \u001b[0;32mreturn\u001b[0m \u001b[0mcomplexjson\u001b[0m\u001b[0;34m.\u001b[0m\u001b[0mloads\u001b[0m\u001b[0;34m(\u001b[0m\u001b[0mself\u001b[0m\u001b[0;34m.\u001b[0m\u001b[0mtext\u001b[0m\u001b[0;34m,\u001b[0m \u001b[0;34m**\u001b[0m\u001b[0mkwargs\u001b[0m\u001b[0;34m)\u001b[0m\u001b[0;34m\u001b[0m\u001b[0;34m\u001b[0m\u001b[0m\n\u001b[0m\u001b[1;32m    911\u001b[0m         \u001b[0;32mexcept\u001b[0m \u001b[0mJSONDecodeError\u001b[0m \u001b[0;32mas\u001b[0m \u001b[0me\u001b[0m\u001b[0;34m:\u001b[0m\u001b[0;34m\u001b[0m\u001b[0;34m\u001b[0m\u001b[0m\n",
            "\u001b[0;32m~/.pyenv/versions/3.8.12/lib/python3.8/json/__init__.py\u001b[0m in \u001b[0;36mloads\u001b[0;34m(s, cls, object_hook, parse_float, parse_int, parse_constant, object_pairs_hook, **kw)\u001b[0m\n\u001b[1;32m    356\u001b[0m             parse_constant is None and object_pairs_hook is None and not kw):\n\u001b[0;32m--> 357\u001b[0;31m         \u001b[0;32mreturn\u001b[0m \u001b[0m_default_decoder\u001b[0m\u001b[0;34m.\u001b[0m\u001b[0mdecode\u001b[0m\u001b[0;34m(\u001b[0m\u001b[0ms\u001b[0m\u001b[0;34m)\u001b[0m\u001b[0;34m\u001b[0m\u001b[0;34m\u001b[0m\u001b[0m\n\u001b[0m\u001b[1;32m    358\u001b[0m     \u001b[0;32mif\u001b[0m \u001b[0mcls\u001b[0m \u001b[0;32mis\u001b[0m \u001b[0;32mNone\u001b[0m\u001b[0;34m:\u001b[0m\u001b[0;34m\u001b[0m\u001b[0;34m\u001b[0m\u001b[0m\n",
            "\u001b[0;32m~/.pyenv/versions/3.8.12/lib/python3.8/json/decoder.py\u001b[0m in \u001b[0;36mdecode\u001b[0;34m(self, s, _w)\u001b[0m\n\u001b[1;32m    336\u001b[0m         \"\"\"\n\u001b[0;32m--> 337\u001b[0;31m         \u001b[0mobj\u001b[0m\u001b[0;34m,\u001b[0m \u001b[0mend\u001b[0m \u001b[0;34m=\u001b[0m \u001b[0mself\u001b[0m\u001b[0;34m.\u001b[0m\u001b[0mraw_decode\u001b[0m\u001b[0;34m(\u001b[0m\u001b[0ms\u001b[0m\u001b[0;34m,\u001b[0m \u001b[0midx\u001b[0m\u001b[0;34m=\u001b[0m\u001b[0m_w\u001b[0m\u001b[0;34m(\u001b[0m\u001b[0ms\u001b[0m\u001b[0;34m,\u001b[0m \u001b[0;36m0\u001b[0m\u001b[0;34m)\u001b[0m\u001b[0;34m.\u001b[0m\u001b[0mend\u001b[0m\u001b[0;34m(\u001b[0m\u001b[0;34m)\u001b[0m\u001b[0;34m)\u001b[0m\u001b[0;34m\u001b[0m\u001b[0;34m\u001b[0m\u001b[0m\n\u001b[0m\u001b[1;32m    338\u001b[0m         \u001b[0mend\u001b[0m \u001b[0;34m=\u001b[0m \u001b[0m_w\u001b[0m\u001b[0;34m(\u001b[0m\u001b[0ms\u001b[0m\u001b[0;34m,\u001b[0m \u001b[0mend\u001b[0m\u001b[0;34m)\u001b[0m\u001b[0;34m.\u001b[0m\u001b[0mend\u001b[0m\u001b[0;34m(\u001b[0m\u001b[0;34m)\u001b[0m\u001b[0;34m\u001b[0m\u001b[0;34m\u001b[0m\u001b[0m\n",
            "\u001b[0;32m~/.pyenv/versions/3.8.12/lib/python3.8/json/decoder.py\u001b[0m in \u001b[0;36mraw_decode\u001b[0;34m(self, s, idx)\u001b[0m\n\u001b[1;32m    354\u001b[0m         \u001b[0;32mexcept\u001b[0m \u001b[0mStopIteration\u001b[0m \u001b[0;32mas\u001b[0m \u001b[0merr\u001b[0m\u001b[0;34m:\u001b[0m\u001b[0;34m\u001b[0m\u001b[0;34m\u001b[0m\u001b[0m\n\u001b[0;32m--> 355\u001b[0;31m             \u001b[0;32mraise\u001b[0m \u001b[0mJSONDecodeError\u001b[0m\u001b[0;34m(\u001b[0m\u001b[0;34m\"Expecting value\"\u001b[0m\u001b[0;34m,\u001b[0m \u001b[0ms\u001b[0m\u001b[0;34m,\u001b[0m \u001b[0merr\u001b[0m\u001b[0;34m.\u001b[0m\u001b[0mvalue\u001b[0m\u001b[0;34m)\u001b[0m \u001b[0;32mfrom\u001b[0m \u001b[0;32mNone\u001b[0m\u001b[0;34m\u001b[0m\u001b[0;34m\u001b[0m\u001b[0m\n\u001b[0m\u001b[1;32m    356\u001b[0m         \u001b[0;32mreturn\u001b[0m \u001b[0mobj\u001b[0m\u001b[0;34m,\u001b[0m \u001b[0mend\u001b[0m\u001b[0;34m\u001b[0m\u001b[0;34m\u001b[0m\u001b[0m\n",
            "\u001b[0;31mJSONDecodeError\u001b[0m: Expecting value: line 1 column 1 (char 0)",
            "\nDuring handling of the above exception, another exception occurred:\n",
            "\u001b[0;31mJSONDecodeError\u001b[0m                           Traceback (most recent call last)",
            "\u001b[0;32m/tmp/ipykernel_21362/755678590.py\u001b[0m in \u001b[0;36m<module>\u001b[0;34m\u001b[0m\n\u001b[1;32m      4\u001b[0m \u001b[0;34m\u001b[0m\u001b[0m\n\u001b[1;32m      5\u001b[0m \u001b[0murl\u001b[0m \u001b[0;34m=\u001b[0m \u001b[0;34m'https://iex.lewagon.com/stable/stock/{}/chart/1y'\u001b[0m\u001b[0;34m\u001b[0m\u001b[0;34m\u001b[0m\u001b[0m\n\u001b[0;32m----> 6\u001b[0;31m \u001b[0mresult\u001b[0m \u001b[0;34m=\u001b[0m \u001b[0mrequests\u001b[0m\u001b[0;34m.\u001b[0m\u001b[0mget\u001b[0m\u001b[0;34m(\u001b[0m\u001b[0murl\u001b[0m\u001b[0;34m.\u001b[0m\u001b[0mformat\u001b[0m\u001b[0;34m(\u001b[0m\u001b[0msymbol\u001b[0m\u001b[0;34m)\u001b[0m\u001b[0;34m)\u001b[0m\u001b[0;34m.\u001b[0m\u001b[0mjson\u001b[0m\u001b[0;34m(\u001b[0m\u001b[0;34m)\u001b[0m\u001b[0;34m\u001b[0m\u001b[0;34m\u001b[0m\u001b[0m\n\u001b[0m\u001b[1;32m      7\u001b[0m \u001b[0mresult\u001b[0m\u001b[0;34m\u001b[0m\u001b[0;34m\u001b[0m\u001b[0m\n\u001b[1;32m      8\u001b[0m \u001b[0;31m# df = pd.DataFrame(result)\u001b[0m\u001b[0;34m\u001b[0m\u001b[0;34m\u001b[0m\u001b[0;34m\u001b[0m\u001b[0m\n",
            "\u001b[0;32m~/.pyenv/versions/lewagon/lib/python3.8/site-packages/requests/models.py\u001b[0m in \u001b[0;36mjson\u001b[0;34m(self, **kwargs)\u001b[0m\n\u001b[1;32m    915\u001b[0m                 \u001b[0;32mraise\u001b[0m \u001b[0mRequestsJSONDecodeError\u001b[0m\u001b[0;34m(\u001b[0m\u001b[0me\u001b[0m\u001b[0;34m.\u001b[0m\u001b[0mmessage\u001b[0m\u001b[0;34m)\u001b[0m\u001b[0;34m\u001b[0m\u001b[0;34m\u001b[0m\u001b[0m\n\u001b[1;32m    916\u001b[0m             \u001b[0;32melse\u001b[0m\u001b[0;34m:\u001b[0m\u001b[0;34m\u001b[0m\u001b[0;34m\u001b[0m\u001b[0m\n\u001b[0;32m--> 917\u001b[0;31m                 \u001b[0;32mraise\u001b[0m \u001b[0mRequestsJSONDecodeError\u001b[0m\u001b[0;34m(\u001b[0m\u001b[0me\u001b[0m\u001b[0;34m.\u001b[0m\u001b[0mmsg\u001b[0m\u001b[0;34m,\u001b[0m \u001b[0me\u001b[0m\u001b[0;34m.\u001b[0m\u001b[0mdoc\u001b[0m\u001b[0;34m,\u001b[0m \u001b[0me\u001b[0m\u001b[0;34m.\u001b[0m\u001b[0mpos\u001b[0m\u001b[0;34m)\u001b[0m\u001b[0;34m\u001b[0m\u001b[0;34m\u001b[0m\u001b[0m\n\u001b[0m\u001b[1;32m    918\u001b[0m \u001b[0;34m\u001b[0m\u001b[0m\n\u001b[1;32m    919\u001b[0m     \u001b[0;34m@\u001b[0m\u001b[0mproperty\u001b[0m\u001b[0;34m\u001b[0m\u001b[0;34m\u001b[0m\u001b[0m\n",
            "\u001b[0;31mJSONDecodeError\u001b[0m: [Errno Expecting value] Unknown symbol: 0"
          ]
        }
      ],
      "source": [
        "# from stock_df get a random sample from column 'Code' and save it to variable symbol\n",
        "symbol = stock_df['Code'].sample(1).values[0]\n",
        "\n",
        "url = 'https://iex.lewagon.com/stable/stock/{}/chart/1y'\n",
        "result = requests.get(url.format(symbol)).json()\n",
        "result\n",
        "# df = pd.DataFrame(result)\n",
        "# df['date'] = pd.to_datetime(df['date'])\n",
        "# df = df.set_index('date')\b\n",
        "# df = get_data(159580)"
      ]
    },
    {
      "cell_type": "code",
      "execution_count": 50,
      "metadata": {},
      "outputs": [
        {
          "name": "stdout",
          "output_type": "stream",
          "text": [
            "\n"
          ]
        }
      ],
      "source": [
        "# using requests library to make http request to the url 'https://global.krx.co.kr/contents/COM/GenerateOTP.jspx?bld=/COM/stock_isu_info&name=finderBld&_=1668677450106' to get the data\n",
        "# and save it as a dataframe (stock_df)\n",
        "# url = 'https://global.krx.co.kr/contents/COM/GenerateOTP.jspx?bld=/COM/stock_isu_info&name=finderBld&_=1668677450106'\n",
        "\n",
        "url = 'https://global.krx.co.kr/contents/COM/GenerateOTP.jspx'\n",
        "headers = {\n",
        "    'Cookie': 'SCOUTER=x22rkf7ltsmr7l; __utma=88009422.986813715.1652669493.1652669493.1652669493.1; SCOUTER=z6pj0p85muce99; JSESSIONID=bOnAJtLWSpK1BiCuhWD0ldj1TqW5z6wEcn65oVgtyie841OlbdJs3fEHpUs1QtAV.bWRjX2RvbWFpbi9tZGNvd2FwMS1tZGNhcHAwMQ==; JSESSIONID=C2794518AD56B7119F0DA630B73B05AA.58tomcat2',\n",
        "    'Connection': 'keep-alive',\n",
        "    'accept': '*/*',\n",
        "    'accept-enconding': 'gzip, deflate, br',\n",
        "    'accept-language': 'en-US,en;q=0.9,ko;q=0.8',\n",
        "}\n",
        "\n",
        "params = {\n",
        "    'bld': 'COM/stock_isu_info',\n",
        "    'name': 'finderBld',\n",
        "    '_': '1668677450106',\n",
        "\n",
        "}\n",
        "response = requests.get(url, params=params, headers=headers)\n",
        "relay_data = response.text\n",
        "\n",
        "# make post request to the url 'https://global.krx.co.kr/contents/COM/GenerateOTP.jspx?bld=/COM/stock_isu_info&name=finderBld&_=1668677450106' x-www-form-urlencoded\n",
        "# and save it as a dataframe (stock_df)\n",
        "\n",
        "# url = 'https://global.krx.co.kr/contents/GLB/99/GLB99000001.jspx'\n",
        "# headers = {'Content-Type': 'application/x-www-form-urlencoded; charset=UTF-8'}\n",
        "# body = {\n",
        "#     'code': relay_data,\n",
        "# }\n",
        "# # make request with url, headers, body\n",
        "# response = requests.post(url, headers=headers, data=body)\n",
        "print(response.text)\n"
      ]
    },
    {
      "cell_type": "code",
      "execution_count": 59,
      "metadata": {},
      "outputs": [
        {
          "name": "stdout",
          "output_type": "stream",
          "text": [
            "\n"
          ]
        }
      ],
      "source": [
        "import requests\n",
        "\n",
        "url = \"https://global.krx.co.kr/contents/COM/GenerateOTP.jspx?bld=/COM/stock_isu_info&name=finderBld&_=1668677450106\"\n",
        "\n",
        "payload={}\n",
        "headers = {\n",
        "  'Cookie': 'SCOUTER=x48ah23v7ssles; JSESSIONID=7FD24FC57A7A085B9D7968FE295E7BE7.103tomcat2'\n",
        "}\n",
        "\n",
        "response = requests.request(\"GET\", url, headers=headers, data=payload)\n",
        "\n",
        "print(response.text)\n"
      ]
    }
  ],
  "metadata": {
    "accelerator": "GPU",
    "colab": {
      "authorship_tag": "ABX9TyP8upBcSDA2BiBybQPNyicI",
      "include_colab_link": true,
      "name": "EDA_tj.ipynb",
      "provenance": []
    },
    "kernelspec": {
      "display_name": "Python 3.8.12 64-bit ('shims')",
      "language": "python",
      "name": "python3"
    },
    "language_info": {
      "codemirror_mode": {
        "name": "ipython",
        "version": 3
      },
      "file_extension": ".py",
      "mimetype": "text/x-python",
      "name": "python",
      "nbconvert_exporter": "python",
      "pygments_lexer": "ipython3",
      "version": "3.8.12"
    },
    "vscode": {
      "interpreter": {
        "hash": "82f1088fa484f5b54e382e6f3ab804b0f8e7491f37ff80b3b36194223562fb4e"
      }
    }
  },
  "nbformat": 4,
  "nbformat_minor": 0
}
